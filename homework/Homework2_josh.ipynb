{
 "cells": [
  {
   "cell_type": "markdown",
   "id": "e3eee68c",
   "metadata": {},
   "source": [
    "# Homework 2\n",
    "\n",
    "## FINM 36700 - 2023\n",
    "\n",
    "### UChicago Financial Mathematics\n",
    "\n",
    "* Mark Hendricks\n",
    "* hendricks@uchicago.edu\n",
    "\n",
    "## HBS Case\n",
    "\n",
    "### *The Harvard Management Company and Inflation-Indexed Bonds*"
   ]
  },
  {
   "cell_type": "code",
   "execution_count": 16,
   "id": "47276310",
   "metadata": {},
   "outputs": [],
   "source": [
    "import pandas as pd \n",
    "import numpy as np \n",
    "import seaborn as sns\n",
    "\n",
    "pd.options.display.float_format = \"{:,.4f}\".format\n",
    "\n",
    "import warnings\n",
    "warnings.filterwarnings(\"ignore\")"
   ]
  },
  {
   "cell_type": "code",
   "execution_count": null,
   "id": "241b5a45",
   "metadata": {},
   "outputs": [],
   "source": [
    "# Helper Functions \n",
    "\n",
    "def mvo_performance_stats(asset_returns,cov_matrix,port_weights, port_type,period):\n",
    "    \"\"\" \n",
    "        Returns the Annualized Performance Stats for given asset returns, portfolio weights and covariance matrix\n",
    "        Inputs: \n",
    "            asset_return - Excess return over the risk free rate for each asset (n x 1) Vector\n",
    "            cov_matrix = nxn covariance matrix for the assets\n",
    "            port_weights = weights of the assets in the portfolio (1 x n) Vector\n",
    "            port_type = Type of Portfolio | Eg - Tangency or Mean-Variance Portfolio\n",
    "            period = Monthly frequency\n",
    "    \"\"\"\n",
    "    \n",
    "    ret = np.dot(port_weights,asset_returns)*period\n",
    "    vol = np.sqrt(port_weights @ cov_matrix @ port_weights.T)*np.sqrt(period)\n",
    "    sharpe = ret/vol\n",
    "\n",
    "    stats = pd.DataFrame([[ret,vol,sharpe]],columns= [\"Annualized Return\",\"Annualized Volatility\",\"Annualized Sharpe Ratio\"], index = [port_type])\n",
    "    return stats"
   ]
  },
  {
   "cell_type": "code",
   "execution_count": 20,
   "id": "9046903f",
   "metadata": {},
   "outputs": [],
   "source": [
    "def summary_statistics(data, period):\n",
    "    \"\"\" \n",
    "        Returns the summary Stats for given set\n",
    "        Inputs: \n",
    "            data - DataFrame with Date index and periodth data.\n",
    "        Output:\n",
    "            summary_stats - DataFrame with annualized mean mean, vol, sharpe ratio for periodth data \n",
    "    \"\"\"\n",
    "    summary_stats = data.mean().to_frame('Annualized Mean').apply(lambda x: x*period)\n",
    "    summary_stats['Annualized Volatility'] = data.std().apply(lambda x: x*np.sqrt(period))\n",
    "    summary_stats['Annualized Sharpe Ratio'] = summary_stats['Annualized Mean']/summary_stats['Annualized Volatility']\n",
    "   \n",
    "    return summary_stats"
   ]
  },
  {
   "cell_type": "code",
   "execution_count": 35,
   "id": "5374de58",
   "metadata": {},
   "outputs": [],
   "source": [
    "def tail_statistics_summary(data):\n",
    "    \"\"\" \n",
    "        Returns the summary Stats for given set\n",
    "        Inputs: \n",
    "            data - DataFrame with Date index.\n",
    "        Output:\n",
    "            summary_stats - DataFrame with Skewness, Excess Kurtosis, VaR (0.05), CVaR (0.05), Max Drawdown\n",
    "    \"\"\"\n",
    "\n",
    "    tail_summary_stats = data.skew().to_frame('Skewness')\n",
    "    tail_summary_stats['Excess Kurtosis'] = data.kurtosis()\n",
    "    tail_summary_stats['VaR (0.05)'] = data.quantile(.05, axis = 0)\n",
    "    tail_summary_stats['CVaR (0.05)'] = data[data <= data.quantile(.05, axis = 0)].mean()\n",
    "\n",
    "    wealth_index = 1000*(1+data).cumprod()\n",
    "    previous_peaks = wealth_index.cummax()\n",
    "    drawdowns = (wealth_index - previous_peaks)/previous_peaks\n",
    "\n",
    "    tail_summary_stats['Max Drawdown'] = drawdowns.min()\n",
    " \n",
    "    return tail_summary_stats\n"
   ]
  },
  {
   "cell_type": "markdown",
   "id": "3ed4b263",
   "metadata": {},
   "source": [
    "***"
   ]
  },
  {
   "cell_type": "markdown",
   "id": "32a1eb4b",
   "metadata": {},
   "source": [
    "# 1. The ProShares ETF Product\n",
    "\n",
    "**Section 1 is not graded**, and you do not need to submit your answers. But you are encouraged to think about them, and we will discuss them."
   ]
  },
  {
   "cell_type": "markdown",
   "id": "976c4cd6",
   "metadata": {},
   "source": [
    "## 1. Alternative ETFs\n",
    "\n",
    "Describe the two types of investments referenced by this term."
   ]
  },
  {
   "cell_type": "markdown",
   "id": "a350c607",
   "metadata": {},
   "source": [
    "## 2. Hedge Funds.\n",
    "\n",
    "#### a. Using just the information in the case, what are two measures by which hedge funds are an attractive investment?\n",
    "\n",
    "#### b. What are the main benefits of investing in hedge funds via an ETF instead of directly?"
   ]
  },
  {
   "cell_type": "markdown",
   "id": "f1c6d57d",
   "metadata": {},
   "source": [
    "## 3. The Benchmarks\n",
    "\n",
    "#### a. Explain as simply as possible how HFRI, MLFM, MLFM-ES, and HDG differ in their construction and purpose.\n",
    "\n",
    "#### b. How well does the Merrill Lynch Factor Model (MLFM) track the HFRI?\n",
    "\n",
    "#### c. In which factor does the MLFM have the largest loading? (See a slide in Exhibit 1.)\n",
    "\n",
    "#### d. What are the main concerns you have for how the MLFM attempts to replicate the HFRI?"
   ]
  },
  {
   "cell_type": "markdown",
   "id": "8247c669",
   "metadata": {},
   "source": [
    "## 4. The HDG Product\n",
    "\n",
    "#### a. What does ProShares ETF, HDG, attempt to track? Is the tracking error small?\n",
    "\n",
    "#### b. HDG is, by construction, delivering beta for investors. Isn't the point of hedge funds to generate alpha? Then why would HDG be valuable?\n",
    "\n",
    "#### c. The fees of a typical hedge-fund are 2% on total assets plus 20% of excess returns if positive. HDG's expense ratio is roughly 1% on total assets. What would their respective net Sharpe Ratios be, assuming both have a gross excess returns of 10% and volatility of 20%?"
   ]
  },
  {
   "cell_type": "markdown",
   "id": "ecd7e292",
   "metadata": {},
   "source": [
    "***"
   ]
  },
  {
   "cell_type": "markdown",
   "id": "fbbf79a1",
   "metadata": {},
   "source": [
    "# 2.  Analyzing the Data\n",
    "\n",
    "Use the data found on Canvas, in <b>'proshares analysis data.xlsx'</b>. \n",
    "\n",
    "It has monthly data on financial indexes and ETFs from `Aug 2011` through `Aug 2023`."
   ]
  },
  {
   "cell_type": "code",
   "execution_count": 17,
   "id": "19701a43",
   "metadata": {},
   "outputs": [
    {
     "data": {
      "text/html": [
       "<div>\n",
       "<style scoped>\n",
       "    .dataframe tbody tr th:only-of-type {\n",
       "        vertical-align: middle;\n",
       "    }\n",
       "\n",
       "    .dataframe tbody tr th {\n",
       "        vertical-align: top;\n",
       "    }\n",
       "\n",
       "    .dataframe thead th {\n",
       "        text-align: right;\n",
       "    }\n",
       "</style>\n",
       "<table border=\"1\" class=\"dataframe\">\n",
       "  <thead>\n",
       "    <tr style=\"text-align: right;\">\n",
       "      <th></th>\n",
       "      <th>HFRIFWI Index</th>\n",
       "      <th>MLEIFCTR Index</th>\n",
       "      <th>MLEIFCTX Index</th>\n",
       "      <th>HDG US Equity</th>\n",
       "      <th>QAI US Equity</th>\n",
       "    </tr>\n",
       "    <tr>\n",
       "      <th>date</th>\n",
       "      <th></th>\n",
       "      <th></th>\n",
       "      <th></th>\n",
       "      <th></th>\n",
       "      <th></th>\n",
       "    </tr>\n",
       "  </thead>\n",
       "  <tbody>\n",
       "    <tr>\n",
       "      <th>2011-08-31</th>\n",
       "      <td>-0.0321</td>\n",
       "      <td>-0.0256</td>\n",
       "      <td>-0.0257</td>\n",
       "      <td>-0.0270</td>\n",
       "      <td>-0.0065</td>\n",
       "    </tr>\n",
       "    <tr>\n",
       "      <th>2011-09-30</th>\n",
       "      <td>-0.0389</td>\n",
       "      <td>-0.0324</td>\n",
       "      <td>-0.0326</td>\n",
       "      <td>-0.0325</td>\n",
       "      <td>-0.0221</td>\n",
       "    </tr>\n",
       "    <tr>\n",
       "      <th>2011-10-31</th>\n",
       "      <td>0.0269</td>\n",
       "      <td>0.0436</td>\n",
       "      <td>0.0433</td>\n",
       "      <td>0.0505</td>\n",
       "      <td>0.0252</td>\n",
       "    </tr>\n",
       "    <tr>\n",
       "      <th>2011-11-30</th>\n",
       "      <td>-0.0135</td>\n",
       "      <td>-0.0121</td>\n",
       "      <td>-0.0124</td>\n",
       "      <td>-0.0286</td>\n",
       "      <td>-0.0080</td>\n",
       "    </tr>\n",
       "    <tr>\n",
       "      <th>2011-12-31</th>\n",
       "      <td>-0.0045</td>\n",
       "      <td>0.0019</td>\n",
       "      <td>0.0018</td>\n",
       "      <td>0.0129</td>\n",
       "      <td>0.0018</td>\n",
       "    </tr>\n",
       "  </tbody>\n",
       "</table>\n",
       "</div>"
      ],
      "text/plain": [
       "            HFRIFWI Index  MLEIFCTR Index  MLEIFCTX Index  HDG US Equity  \\\n",
       "date                                                                       \n",
       "2011-08-31        -0.0321         -0.0256         -0.0257        -0.0270   \n",
       "2011-09-30        -0.0389         -0.0324         -0.0326        -0.0325   \n",
       "2011-10-31         0.0269          0.0436          0.0433         0.0505   \n",
       "2011-11-30        -0.0135         -0.0121         -0.0124        -0.0286   \n",
       "2011-12-31        -0.0045          0.0019          0.0018         0.0129   \n",
       "\n",
       "            QAI US Equity  \n",
       "date                       \n",
       "2011-08-31        -0.0065  \n",
       "2011-09-30        -0.0221  \n",
       "2011-10-31         0.0252  \n",
       "2011-11-30        -0.0080  \n",
       "2011-12-31         0.0018  "
      ]
     },
     "execution_count": 17,
     "metadata": {},
     "output_type": "execute_result"
    }
   ],
   "source": [
    "df = pd.read_excel('..\\data\\proshares_analysis_data.xlsx',sheet_name='hedge_fund_series').rename(columns={'Unnamed: 0':'date'}).set_index('date')\n",
    "df.head(5)"
   ]
  },
  {
   "cell_type": "markdown",
   "id": "22b7389c",
   "metadata": {},
   "source": [
    "## 1. \n",
    "\n",
    "For the series in the \"hedge fund series\" tab, report the following summary statistics:\n",
    "* mean\n",
    "* volatility\n",
    "* Sharpe ratio\n",
    "\n",
    "Annualize these statistics."
   ]
  },
  {
   "cell_type": "code",
   "execution_count": 33,
   "id": "2ea0eb3e",
   "metadata": {},
   "outputs": [
    {
     "data": {
      "text/html": [
       "<div>\n",
       "<style scoped>\n",
       "    .dataframe tbody tr th:only-of-type {\n",
       "        vertical-align: middle;\n",
       "    }\n",
       "\n",
       "    .dataframe tbody tr th {\n",
       "        vertical-align: top;\n",
       "    }\n",
       "\n",
       "    .dataframe thead th {\n",
       "        text-align: right;\n",
       "    }\n",
       "</style>\n",
       "<table border=\"1\" class=\"dataframe\">\n",
       "  <thead>\n",
       "    <tr style=\"text-align: right;\">\n",
       "      <th></th>\n",
       "      <th>Annualized Mean</th>\n",
       "      <th>Annualized Volatility</th>\n",
       "      <th>Annualized Sharpe Ratio</th>\n",
       "    </tr>\n",
       "  </thead>\n",
       "  <tbody>\n",
       "    <tr>\n",
       "      <th>HFRIFWI Index</th>\n",
       "      <td>1.3147</td>\n",
       "      <td>0.3322</td>\n",
       "      <td>3.9580</td>\n",
       "    </tr>\n",
       "    <tr>\n",
       "      <th>MLEIFCTR Index</th>\n",
       "      <td>0.9698</td>\n",
       "      <td>0.3142</td>\n",
       "      <td>3.0869</td>\n",
       "    </tr>\n",
       "    <tr>\n",
       "      <th>MLEIFCTX Index</th>\n",
       "      <td>0.9246</td>\n",
       "      <td>0.3133</td>\n",
       "      <td>2.9514</td>\n",
       "    </tr>\n",
       "    <tr>\n",
       "      <th>HDG US Equity</th>\n",
       "      <td>0.6239</td>\n",
       "      <td>0.3274</td>\n",
       "      <td>1.9057</td>\n",
       "    </tr>\n",
       "    <tr>\n",
       "      <th>QAI US Equity</th>\n",
       "      <td>0.5965</td>\n",
       "      <td>0.2761</td>\n",
       "      <td>2.1604</td>\n",
       "    </tr>\n",
       "  </tbody>\n",
       "</table>\n",
       "</div>"
      ],
      "text/plain": [
       "                Annualized Mean  Annualized Volatility  \\\n",
       "HFRIFWI Index            1.3147                 0.3322   \n",
       "MLEIFCTR Index           0.9698                 0.3142   \n",
       "MLEIFCTX Index           0.9246                 0.3133   \n",
       "HDG US Equity            0.6239                 0.3274   \n",
       "QAI US Equity            0.5965                 0.2761   \n",
       "\n",
       "                Annualized Sharpe Ratio  \n",
       "HFRIFWI Index                    3.9580  \n",
       "MLEIFCTR Index                   3.0869  \n",
       "MLEIFCTX Index                   2.9514  \n",
       "HDG US Equity                    1.9057  \n",
       "QAI US Equity                    2.1604  "
      ]
     },
     "execution_count": 33,
     "metadata": {},
     "output_type": "execute_result"
    }
   ],
   "source": [
    "summary_stats = summary_statistics(df,365)\n",
    "summary_stats"
   ]
  },
  {
   "cell_type": "markdown",
   "id": "ec8d7c08",
   "metadata": {},
   "source": [
    "## 2.\n",
    "\n",
    "For the series in the \"hedge fund series\" tab, calculate the following statistics related to tail-risk.\n",
    "* Skewness\n",
    "* Excess Kurtosis (in excess of 3)\n",
    "* VaR (.05) - the fifth quantile of historic returns\n",
    "* CVaR (.05) - the mean of the returns at or below the fifth quantile\n",
    "* Maximum drawdown - include the dates of the max/min/recovery within the max drawdown period.\n",
    "\n",
    "There is no need to annualize any of these statistics."
   ]
  },
  {
   "cell_type": "code",
   "execution_count": 36,
   "id": "438dc362",
   "metadata": {},
   "outputs": [
    {
     "data": {
      "text/html": [
       "<div>\n",
       "<style scoped>\n",
       "    .dataframe tbody tr th:only-of-type {\n",
       "        vertical-align: middle;\n",
       "    }\n",
       "\n",
       "    .dataframe tbody tr th {\n",
       "        vertical-align: top;\n",
       "    }\n",
       "\n",
       "    .dataframe thead th {\n",
       "        text-align: right;\n",
       "    }\n",
       "</style>\n",
       "<table border=\"1\" class=\"dataframe\">\n",
       "  <thead>\n",
       "    <tr style=\"text-align: right;\">\n",
       "      <th></th>\n",
       "      <th>Skewness</th>\n",
       "      <th>Excess Kurtosis</th>\n",
       "      <th>VaR (0.05)</th>\n",
       "      <th>CVaR (0.05)</th>\n",
       "      <th>Max Drawdown</th>\n",
       "    </tr>\n",
       "  </thead>\n",
       "  <tbody>\n",
       "    <tr>\n",
       "      <th>HFRIFWI Index</th>\n",
       "      <td>-0.9832</td>\n",
       "      <td>5.9183</td>\n",
       "      <td>-0.0251</td>\n",
       "      <td>-0.0375</td>\n",
       "      <td>-0.1155</td>\n",
       "    </tr>\n",
       "    <tr>\n",
       "      <th>MLEIFCTR Index</th>\n",
       "      <td>-0.2558</td>\n",
       "      <td>1.6643</td>\n",
       "      <td>-0.0287</td>\n",
       "      <td>-0.0359</td>\n",
       "      <td>-0.1243</td>\n",
       "    </tr>\n",
       "    <tr>\n",
       "      <th>MLEIFCTX Index</th>\n",
       "      <td>-0.2418</td>\n",
       "      <td>1.6316</td>\n",
       "      <td>-0.0289</td>\n",
       "      <td>-0.0358</td>\n",
       "      <td>-0.1244</td>\n",
       "    </tr>\n",
       "    <tr>\n",
       "      <th>HDG US Equity</th>\n",
       "      <td>-0.2440</td>\n",
       "      <td>1.7801</td>\n",
       "      <td>-0.0312</td>\n",
       "      <td>-0.0376</td>\n",
       "      <td>-0.1407</td>\n",
       "    </tr>\n",
       "    <tr>\n",
       "      <th>QAI US Equity</th>\n",
       "      <td>-0.4584</td>\n",
       "      <td>1.7376</td>\n",
       "      <td>-0.0201</td>\n",
       "      <td>-0.0327</td>\n",
       "      <td>-0.1377</td>\n",
       "    </tr>\n",
       "  </tbody>\n",
       "</table>\n",
       "</div>"
      ],
      "text/plain": [
       "                Skewness  Excess Kurtosis  VaR (0.05)  CVaR (0.05)  \\\n",
       "HFRIFWI Index    -0.9832           5.9183     -0.0251      -0.0375   \n",
       "MLEIFCTR Index   -0.2558           1.6643     -0.0287      -0.0359   \n",
       "MLEIFCTX Index   -0.2418           1.6316     -0.0289      -0.0358   \n",
       "HDG US Equity    -0.2440           1.7801     -0.0312      -0.0376   \n",
       "QAI US Equity    -0.4584           1.7376     -0.0201      -0.0327   \n",
       "\n",
       "                Max Drawdown  \n",
       "HFRIFWI Index        -0.1155  \n",
       "MLEIFCTR Index       -0.1243  \n",
       "MLEIFCTX Index       -0.1244  \n",
       "HDG US Equity        -0.1407  \n",
       "QAI US Equity        -0.1377  "
      ]
     },
     "execution_count": 36,
     "metadata": {},
     "output_type": "execute_result"
    }
   ],
   "source": [
    "tail_stats = tail_statistics_summary(df)\n",
    "tail_stats"
   ]
  },
  {
   "cell_type": "markdown",
   "id": "9deb5072",
   "metadata": {},
   "source": [
    "## 3. \n",
    "\n",
    "For the series in the \"hedge fund series\" tab, run a regression of each against SPY (found in the \"merrill factors\" tab.) Include an intercept. Report the following regression-based statistics:\n",
    "* Market Beta\n",
    "* Treynor Ratio\n",
    "* Information ratio\n",
    "\n",
    "Annualize these three statistics as appropriate."
   ]
  },
  {
   "cell_type": "markdown",
   "id": "ada99581",
   "metadata": {},
   "source": [
    "add spy data"
   ]
  },
  {
   "cell_type": "code",
   "execution_count": 47,
   "id": "2b779ba2",
   "metadata": {},
   "outputs": [
    {
     "data": {
      "text/html": [
       "<div>\n",
       "<style scoped>\n",
       "    .dataframe tbody tr th:only-of-type {\n",
       "        vertical-align: middle;\n",
       "    }\n",
       "\n",
       "    .dataframe tbody tr th {\n",
       "        vertical-align: top;\n",
       "    }\n",
       "\n",
       "    .dataframe thead th {\n",
       "        text-align: right;\n",
       "    }\n",
       "</style>\n",
       "<table border=\"1\" class=\"dataframe\">\n",
       "  <thead>\n",
       "    <tr style=\"text-align: right;\">\n",
       "      <th></th>\n",
       "      <th>HFRIFWI Index</th>\n",
       "      <th>MLEIFCTR Index</th>\n",
       "      <th>MLEIFCTX Index</th>\n",
       "      <th>HDG US Equity</th>\n",
       "      <th>QAI US Equity</th>\n",
       "      <th>SPY US Equity</th>\n",
       "    </tr>\n",
       "    <tr>\n",
       "      <th>date</th>\n",
       "      <th></th>\n",
       "      <th></th>\n",
       "      <th></th>\n",
       "      <th></th>\n",
       "      <th></th>\n",
       "      <th></th>\n",
       "    </tr>\n",
       "  </thead>\n",
       "  <tbody>\n",
       "    <tr>\n",
       "      <th>2011-08-31</th>\n",
       "      <td>-0.0321</td>\n",
       "      <td>-0.0256</td>\n",
       "      <td>-0.0257</td>\n",
       "      <td>-0.0270</td>\n",
       "      <td>-0.0065</td>\n",
       "      <td>-0.0550</td>\n",
       "    </tr>\n",
       "    <tr>\n",
       "      <th>2011-09-30</th>\n",
       "      <td>-0.0389</td>\n",
       "      <td>-0.0324</td>\n",
       "      <td>-0.0326</td>\n",
       "      <td>-0.0325</td>\n",
       "      <td>-0.0221</td>\n",
       "      <td>-0.0694</td>\n",
       "    </tr>\n",
       "    <tr>\n",
       "      <th>2011-10-31</th>\n",
       "      <td>0.0269</td>\n",
       "      <td>0.0436</td>\n",
       "      <td>0.0433</td>\n",
       "      <td>0.0505</td>\n",
       "      <td>0.0252</td>\n",
       "      <td>0.1091</td>\n",
       "    </tr>\n",
       "    <tr>\n",
       "      <th>2011-11-30</th>\n",
       "      <td>-0.0135</td>\n",
       "      <td>-0.0121</td>\n",
       "      <td>-0.0124</td>\n",
       "      <td>-0.0286</td>\n",
       "      <td>-0.0080</td>\n",
       "      <td>-0.0041</td>\n",
       "    </tr>\n",
       "    <tr>\n",
       "      <th>2011-12-31</th>\n",
       "      <td>-0.0045</td>\n",
       "      <td>0.0019</td>\n",
       "      <td>0.0018</td>\n",
       "      <td>0.0129</td>\n",
       "      <td>0.0018</td>\n",
       "      <td>0.0104</td>\n",
       "    </tr>\n",
       "  </tbody>\n",
       "</table>\n",
       "</div>"
      ],
      "text/plain": [
       "            HFRIFWI Index  MLEIFCTR Index  MLEIFCTX Index  HDG US Equity  \\\n",
       "date                                                                       \n",
       "2011-08-31        -0.0321         -0.0256         -0.0257        -0.0270   \n",
       "2011-09-30        -0.0389         -0.0324         -0.0326        -0.0325   \n",
       "2011-10-31         0.0269          0.0436          0.0433         0.0505   \n",
       "2011-11-30        -0.0135         -0.0121         -0.0124        -0.0286   \n",
       "2011-12-31        -0.0045          0.0019          0.0018         0.0129   \n",
       "\n",
       "            QAI US Equity  SPY US Equity  \n",
       "date                                      \n",
       "2011-08-31        -0.0065        -0.0550  \n",
       "2011-09-30        -0.0221        -0.0694  \n",
       "2011-10-31         0.0252         0.1091  \n",
       "2011-11-30        -0.0080        -0.0041  \n",
       "2011-12-31         0.0018         0.0104  "
      ]
     },
     "execution_count": 47,
     "metadata": {},
     "output_type": "execute_result"
    }
   ],
   "source": [
    "spy_data = pd.read_excel('..\\data\\proshares_analysis_data.xlsx',index_col=(0),usecols='A,B',sheet_name='merrill_factors')\n",
    "df.join(spy_data).head(5)"
   ]
  },
  {
   "cell_type": "markdown",
   "id": "752a0b67",
   "metadata": {},
   "source": [
    "Regression"
   ]
  },
  {
   "cell_type": "code",
   "execution_count": null,
   "id": "71421f56",
   "metadata": {},
   "outputs": [],
   "source": []
  },
  {
   "cell_type": "markdown",
   "id": "9dd139ed",
   "metadata": {},
   "source": [
    "## 4. \n",
    "\n",
    "Discuss the previous statistics, and what they tell us about...\n",
    "\n",
    "* the differences between SPY and the hedge-fund series?\n",
    "* which performs better between HDG and QAI.\n",
    "* whether HDG and the ML series capture the most notable properties of HFRI."
   ]
  },
  {
   "cell_type": "markdown",
   "id": "efc199e0",
   "metadata": {},
   "source": [
    "## 5. \n",
    "\n",
    "Report the correlation matrix for these assets.\n",
    "* Show the correlations as a heat map.\n",
    "* Which series have the highest and lowest correlations?"
   ]
  },
  {
   "cell_type": "markdown",
   "id": "f79554a0",
   "metadata": {},
   "source": [
    "## 6.\n",
    "\n",
    "Replicate HFRI with the six factors listed on the \"merrill factors\" tab. Include a constant, and run the unrestricted regression,\n",
    "\n",
    "$\\newcommand{\\hfri}{\\text{hfri}}$\n",
    "$\\newcommand{\\merr}{\\text{merr}}$\n",
    "\n",
    "$$\\begin{align}\n",
    "r^{\\hfri}_{t} &= \\alpha^{\\merr} + x_{t}^{\\merr}\\beta^{\\merr} + \\epsilon_{t}^{\\merr}\\\\[5pt]\n",
    "\\hat{r}^{\\hfri}_{t} &= \\hat{\\alpha}^{\\merr} + x_{t}^{\\merr}\\hat{\\beta}^{\\merr}\n",
    "\\end{align}$$\n",
    "\n",
    "Note that the second equation is just our notation for the fitted replication.\n",
    "\n",
    "#### a. Report the intercept and betas.\n",
    "#### b. Are the betas realistic position sizes, or do they require huge long-short positions?\n",
    "#### c. Report the R-squared.\n",
    "#### d. Report the volatility of $\\epsilon^{\\merr}$, the tracking error."
   ]
  },
  {
   "cell_type": "markdown",
   "id": "9760f909",
   "metadata": {},
   "source": [
    "## 7.\n",
    "\n",
    "Let's examine the replication out-of-sample (OOS).\n",
    "\n",
    "Starting with $t = 61$ month of the sample, do the following:\n",
    "\n",
    "* Use the previous 60 months of data to estimate the regression equation. \n",
    "This gives time-t estimates of the regression parameters, $\\tilde{\\alpha}^{\\merr}_{t}$ and $\\tilde{\\beta}^{\\merr}_{t}$.\n",
    "\n",
    "* Use the estimated regression parameters, along with the time-t regressor values, $x^{\\merr}_{t}$, calculate the time-t replication value that is, with respect to the regression estimate, built \"out-of-sample\" (OOS).\n",
    "\n",
    "$$\\hat{r}^{\\hfri}_{t} \\equiv \\tilde{\\alpha}^{\\merr} + (x_{t}^{\\merr})'\\tilde{\\beta}^{\\merr}$$\n",
    "\n",
    "* Step forward to $t = 62$, and now use $t = 2$ through $t = 61$ for the estimation. Re-run the steps above, and continue this process throughout the data series. Thus, we are running a rolling, 60-month regression for each point-in-time.\n",
    "\n",
    "How well does the out-of-sample replication perform with respect to the target?"
   ]
  },
  {
   "cell_type": "markdown",
   "id": "2041c6a8",
   "metadata": {},
   "source": [
    "## 8.\n",
    "\n",
    "We estimated the replications using an intercept. Try the full-sample estimation, but this time without an intercept.\n",
    "\n",
    "$$\\begin{align}\n",
    "r^{\\hfri}_{t} &= \\alpha^{merr} + x_{t}^{\\merr}\\beta^{\\merr} + \\epsilon_{t}^{\\merr}\\\\[5pt]\n",
    "\\check{r}^{\\hfri}_{t} &= \\check{\\alpha}^{\\merr} + x_{t}^{\\merr}\\check{\\beta}^{\\merr}\n",
    "\\end{align}$$\n",
    "\n",
    "Report\n",
    "\n",
    "* the regression beta. How does it compare to the estimated beta with an intercept, $\\hat{\\beta}^{\\merr}$?\n",
    "\n",
    "* the mean of the fitted value, $\\check{r}^{\\hfri}_{t}$. How does it compare to the mean of the HFRI?\n",
    "\n",
    "* the correlations of the fitted values, $\\check{r}^{\\hfri}_{t}$ to the HFRI. How does the correlation compare to that of the fitted values with an intercept, $\\hat{r}^{\\hfri}_{t}$\n",
    "\n",
    "Do you think Merrill and ProShares fit their replicators with an intercept or not?"
   ]
  },
  {
   "cell_type": "markdown",
   "id": "f7433d2f",
   "metadata": {},
   "source": [
    "***"
   ]
  },
  {
   "cell_type": "markdown",
   "id": "4f5883f2",
   "metadata": {},
   "source": [
    "# 3.  Extensions\n",
    "<i>This section is not graded, and you do not need to submit it. Still, we may discuss it in class, in which case, you would be expected to know it."
   ]
  },
  {
   "cell_type": "markdown",
   "id": "2c042de1",
   "metadata": {},
   "source": [
    "## 1. \n",
    "\n",
    "Merrill constrains the weights of each asset in its replication regression of HFRI. Try constraining your weights by re-doing 2.6.\n",
    "\n",
    "* Use Non-Negative Least Squares (NNLS) instead of OLS.\n",
    "* Go further by using a Generalized Linear Model to put separate interval constraints on each beta, rather than simply constraining them to be non-negative.\n",
    "\n",
    "#### Hints\n",
    "* Try using LinearRegression in scikit-learn with the parameter `positive=True`. \n",
    "* Try using GLM in statsmodels."
   ]
  },
  {
   "cell_type": "markdown",
   "id": "02ee228d",
   "metadata": {},
   "source": [
    "## 2. \n",
    "\n",
    "Let's decompose a few other targets to see if they behave as their name suggests.\n",
    "\n",
    "* Regress HEFA on the same style factors used to decompose HFRI. Does HEFA appear to be a currency-hedged version of EFA?\n",
    "\n",
    "* Decompose TRVCI with the same style factors used to decompose HFRI. The TRVCI Index tracks venture capital funds--in terms of our styles, what best describes venture capital?\n",
    "\n",
    "* TAIL is an ETF that tracks SPY, but that also buys put options to protect against market downturns. Calculate the statistics in questions 2.1-2.3 for TAIL. Does it seem to behave as indicated by this description? That is, does it have high correlation to SPY while delivering lower tail risk?"
   ]
  },
  {
   "cell_type": "markdown",
   "id": "9c20b444",
   "metadata": {},
   "source": [
    "## 3. \n",
    "\n",
    "The ProShares case introduces Levered ETFs. ProShares made much of its name originally through levered, or \"geared\" ETFs.\n",
    "\n",
    "Explain conceptually why Levered ETFs may track their index well for a given day but diverge over time. How is this exacerbated in volatile periods like 2008?\n",
    "\n",
    "## 4.\n",
    "\n",
    "Analyze SPXU and UPRO relative to SPY.\n",
    "- SPXU is ProShares -3x SPX ETF.\n",
    "- UPRO is ProShres +3x SPX ETF.\n",
    "\n",
    "Questions:\n",
    "* Analyze them with the statistics from 2.1-2.3. \n",
    "\n",
    "* Do these two ETFs seem to live up to their names?\n",
    "\n",
    "* Plot the cumulative returns of both these ETFs along with SPY.\n",
    "\n",
    "* What do you conclude about levered ETFs?"
   ]
  },
  {
   "cell_type": "markdown",
   "id": "2acea83e",
   "metadata": {},
   "source": [
    "***"
   ]
  }
 ],
 "metadata": {
  "hide_input": false,
  "kernelspec": {
   "display_name": "Python 3 (ipykernel)",
   "language": "python",
   "name": "python3"
  },
  "language_info": {
   "codemirror_mode": {
    "name": "ipython",
    "version": 3
   },
   "file_extension": ".py",
   "mimetype": "text/x-python",
   "name": "python",
   "nbconvert_exporter": "python",
   "pygments_lexer": "ipython3",
   "version": "3.11.3"
  }
 },
 "nbformat": 4,
 "nbformat_minor": 5
}
