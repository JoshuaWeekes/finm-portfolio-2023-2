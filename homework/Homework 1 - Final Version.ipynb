{
 "cells": [
  {
   "cell_type": "code",
   "execution_count": 1,
   "id": "49f1f63f8f71af0e",
   "metadata": {
    "ExecuteTime": {
     "end_time": "2023-10-01T22:59:21.384814Z",
     "start_time": "2023-10-01T22:59:20.687621Z"
    },
    "collapsed": false
   },
   "outputs": [],
   "source": [
    "import pandas as pd\n",
    "import numpy as np\n",
    "import seaborn as sns\n",
    "\n",
    "pd.options.display.float_format = \"{:,.4f}\".format\n",
    "\n",
    "import warnings\n",
    "warnings.filterwarnings(\"ignore\")"
   ]
  },
  {
   "cell_type": "code",
   "execution_count": 2,
   "id": "5099270a",
   "metadata": {},
   "outputs": [],
   "source": [
    "#Helper functions from TA Review session and 2022 repo\n",
    "\n",
    "def mvo_performance_stats(asset_returns,cov_matrix,port_weights, port_type,period):\n",
    "    \"\"\" \n",
    "        Returns the Annualized Performance Stats for given asset returns, portfolio weights and covariance matrix\n",
    "        Inputs: \n",
    "            asset_return - Excess return over the risk free rate for each asset (n x 1) Vector\n",
    "            cov_matrix = nxn covariance matrix for the assets\n",
    "            port_weights = weights of the assets in the portfolio (1 x n) Vector\n",
    "            port_type = Type of Portfolio | Eg - Tangency or Mean-Variance Portfolio\n",
    "            period = Monthly frequency\n",
    "    \"\"\"\n",
    "    \n",
    "    ret = np.dot(port_weights,asset_returns)*period\n",
    "    vol = np.sqrt(port_weights @ cov_matrix @ port_weights.T)*np.sqrt(period)\n",
    "    sharpe = ret/vol\n",
    "\n",
    "    stats = pd.DataFrame([[ret,vol,sharpe]],columns= [\"Annualized Return\",\"Annualized Volatility\",\"Annualized Sharpe Ratio\"], index = [port_type])\n",
    "    return stats\n",
    "\n",
    "def tangency_weights(asset_return,cov_matrix, cov_diagnolize = False):\n",
    "    \"\"\" \n",
    "        Returns the tangency portfolio weights in a (1 x n) vector\n",
    "        Inputs: \n",
    "            asset_return - return for each asset (n x 1) Vector\n",
    "            cov_matrix = nxn covariance matrix for the assets\n",
    "    \"\"\"\n",
    "    if cov_diagnolize:\n",
    "        asset_cov = np.diag(np.diag(cov_matrix))\n",
    "    else:\n",
    "        asset_cov = np.array(cov_matrix)\n",
    "    inverted_cov= np.linalg.inv(asset_cov)\n",
    "    one_vector = np.ones(len(cov_matrix.index))\n",
    "    \n",
    "    den = (one_vector @ inverted_cov) @ (asset_return)\n",
    "    num =  inverted_cov @ asset_return\n",
    "    return (1/den) * num"
   ]
  },
  {
   "cell_type": "markdown",
   "id": "88a96298d9b68638",
   "metadata": {
    "collapsed": false
   },
   "source": [
    "# 2 Mean-Variance Optimization"
   ]
  },
  {
   "cell_type": "code",
   "execution_count": 3,
   "id": "a8fafe8abcdc35c7",
   "metadata": {
    "ExecuteTime": {
     "end_time": "2023-10-01T22:59:37.345509Z",
     "start_time": "2023-10-01T22:59:37.136533Z"
    },
    "collapsed": false
   },
   "outputs": [],
   "source": [
    "df = pd.read_excel(\"../data/multi_asset_etf_data.xlsx\", sheet_name=\"excess returns\")\n",
    "df.set_index(\"Date\", inplace=True)"
   ]
  },
  {
   "cell_type": "markdown",
   "id": "1999de1511885912",
   "metadata": {
    "collapsed": false
   },
   "source": [
    "## 1. Summary Statistics\n",
    "* Calculate and display the mean and volatility of each asset’s excess return. (Recall we use volatility to refer to standard deviation.)\n",
    "* Which assets have the best and worst Sharpe ratios? Recall that the Sharpe Ratio is simply the ratio of the mean-to-volatility of excess returns:\n",
    "$$\\text{sharpe ratio of investment }i = \\frac{\\mux_i}{\\sigma_i}$$"
   ]
  },
  {
   "cell_type": "code",
   "execution_count": 4,
   "id": "79ef0141166ca3c8",
   "metadata": {
    "ExecuteTime": {
     "end_time": "2023-10-01T23:00:03.858910Z",
     "start_time": "2023-10-01T23:00:03.855231Z"
    },
    "collapsed": false
   },
   "outputs": [],
   "source": [
    "def performance_stat(s: pd.Series) -> pd.Series:\n",
    "    \"\"\"\n",
    "    Calculate the mean, volatility, sharpe of given series\n",
    "    \n",
    "    Parameters:\n",
    "        s (pd.Series): \n",
    "            Excess return of certain asset / portfolio\n",
    "            Index: all time period (i.e. monthly)\n",
    "            \n",
    "    Returns:\n",
    "        s_stat: Series contains mean, volatility, sharpe of the input series\n",
    "    \"\"\"\n",
    "    s_stat = s.agg(['mean', 'std']).T\n",
    "    s_stat['mean'] *= 12\n",
    "    s_stat['std'] *= (12 ** (1/2))\n",
    "    s_stat['sharpe'] = s_stat['mean'] / s_stat['std']\n",
    "    return s_stat"
   ]
  },
  {
   "cell_type": "code",
   "execution_count": 5,
   "id": "2703f6e609355f25",
   "metadata": {
    "ExecuteTime": {
     "end_time": "2023-10-01T23:00:17.000857Z",
     "start_time": "2023-10-01T23:00:16.992994Z"
    },
    "collapsed": false
   },
   "outputs": [
    {
     "name": "stdout",
     "output_type": "stream",
     "text": [
      "Best performer: SPY; Worse performer: BWX\n"
     ]
    },
    {
     "data": {
      "text/html": [
       "<div>\n",
       "<style scoped>\n",
       "    .dataframe tbody tr th:only-of-type {\n",
       "        vertical-align: middle;\n",
       "    }\n",
       "\n",
       "    .dataframe tbody tr th {\n",
       "        vertical-align: top;\n",
       "    }\n",
       "\n",
       "    .dataframe thead th {\n",
       "        text-align: right;\n",
       "    }\n",
       "</style>\n",
       "<table border=\"1\" class=\"dataframe\">\n",
       "  <thead>\n",
       "    <tr style=\"text-align: right;\">\n",
       "      <th></th>\n",
       "      <th>mean</th>\n",
       "      <th>std</th>\n",
       "      <th>sharpe</th>\n",
       "    </tr>\n",
       "  </thead>\n",
       "  <tbody>\n",
       "    <tr>\n",
       "      <th>BWX</th>\n",
       "      <td>-0.0018</td>\n",
       "      <td>0.0834</td>\n",
       "      <td>-0.0221</td>\n",
       "    </tr>\n",
       "    <tr>\n",
       "      <th>DBC</th>\n",
       "      <td>0.0254</td>\n",
       "      <td>0.1790</td>\n",
       "      <td>0.1422</td>\n",
       "    </tr>\n",
       "    <tr>\n",
       "      <th>IEF</th>\n",
       "      <td>0.0143</td>\n",
       "      <td>0.0624</td>\n",
       "      <td>0.2287</td>\n",
       "    </tr>\n",
       "    <tr>\n",
       "      <th>EEM</th>\n",
       "      <td>0.0649</td>\n",
       "      <td>0.1965</td>\n",
       "      <td>0.3302</td>\n",
       "    </tr>\n",
       "    <tr>\n",
       "      <th>PSP</th>\n",
       "      <td>0.0799</td>\n",
       "      <td>0.2274</td>\n",
       "      <td>0.3516</td>\n",
       "    </tr>\n",
       "    <tr>\n",
       "      <th>QAI</th>\n",
       "      <td>0.0190</td>\n",
       "      <td>0.0508</td>\n",
       "      <td>0.3734</td>\n",
       "    </tr>\n",
       "    <tr>\n",
       "      <th>TIP</th>\n",
       "      <td>0.0223</td>\n",
       "      <td>0.0515</td>\n",
       "      <td>0.4332</td>\n",
       "    </tr>\n",
       "    <tr>\n",
       "      <th>EFA</th>\n",
       "      <td>0.0816</td>\n",
       "      <td>0.1660</td>\n",
       "      <td>0.4916</td>\n",
       "    </tr>\n",
       "    <tr>\n",
       "      <th>IYR</th>\n",
       "      <td>0.1295</td>\n",
       "      <td>0.1871</td>\n",
       "      <td>0.6920</td>\n",
       "    </tr>\n",
       "    <tr>\n",
       "      <th>HYG</th>\n",
       "      <td>0.0642</td>\n",
       "      <td>0.0892</td>\n",
       "      <td>0.7197</td>\n",
       "    </tr>\n",
       "    <tr>\n",
       "      <th>SPY</th>\n",
       "      <td>0.1437</td>\n",
       "      <td>0.1477</td>\n",
       "      <td>0.9732</td>\n",
       "    </tr>\n",
       "  </tbody>\n",
       "</table>\n",
       "</div>"
      ],
      "text/plain": [
       "       mean    std  sharpe\n",
       "BWX -0.0018 0.0834 -0.0221\n",
       "DBC  0.0254 0.1790  0.1422\n",
       "IEF  0.0143 0.0624  0.2287\n",
       "EEM  0.0649 0.1965  0.3302\n",
       "PSP  0.0799 0.2274  0.3516\n",
       "QAI  0.0190 0.0508  0.3734\n",
       "TIP  0.0223 0.0515  0.4332\n",
       "EFA  0.0816 0.1660  0.4916\n",
       "IYR  0.1295 0.1871  0.6920\n",
       "HYG  0.0642 0.0892  0.7197\n",
       "SPY  0.1437 0.1477  0.9732"
      ]
     },
     "execution_count": 5,
     "metadata": {},
     "output_type": "execute_result"
    }
   ],
   "source": [
    "df_stat = df.apply(performance_stat).T\n",
    "df_stat.sort_values('sharpe', inplace=True)\n",
    "print(f\"Best performer: {df_stat.index[-1]}; Worse performer: {df_stat.index[0]}\")\n",
    "df_stat"
   ]
  },
  {
   "cell_type": "markdown",
   "id": "fb6a74527ec75da8",
   "metadata": {
    "collapsed": false
   },
   "source": [
    "## 2. Descriptive Analysis\n",
    "* Calculate the correlation matrix of the returns. Which pair has the highest correlation? And the lowest?\n",
    "* How well have TIPS done in our sample? Have they outperformed domestic bonds? Foreign bonds?"
   ]
  },
  {
   "cell_type": "code",
   "execution_count": 6,
   "id": "c1b5148dc62dcea0",
   "metadata": {
    "ExecuteTime": {
     "end_time": "2023-10-01T23:01:04.636181Z",
     "start_time": "2023-10-01T23:01:04.619806Z"
    },
    "collapsed": false
   },
   "outputs": [
    {
     "name": "stdout",
     "output_type": "stream",
     "text": [
      "Highest correlation: ('PSP', 'SPY'); Lowest correlation: ('DBC', 'IEF')\n"
     ]
    },
    {
     "data": {
      "text/html": [
       "<div>\n",
       "<style scoped>\n",
       "    .dataframe tbody tr th:only-of-type {\n",
       "        vertical-align: middle;\n",
       "    }\n",
       "\n",
       "    .dataframe tbody tr th {\n",
       "        vertical-align: top;\n",
       "    }\n",
       "\n",
       "    .dataframe thead th {\n",
       "        text-align: right;\n",
       "    }\n",
       "</style>\n",
       "<table border=\"1\" class=\"dataframe\">\n",
       "  <thead>\n",
       "    <tr style=\"text-align: right;\">\n",
       "      <th></th>\n",
       "      <th>BWX</th>\n",
       "      <th>DBC</th>\n",
       "      <th>EEM</th>\n",
       "      <th>EFA</th>\n",
       "      <th>HYG</th>\n",
       "      <th>IEF</th>\n",
       "      <th>IYR</th>\n",
       "      <th>PSP</th>\n",
       "      <th>QAI</th>\n",
       "      <th>SPY</th>\n",
       "      <th>TIP</th>\n",
       "    </tr>\n",
       "  </thead>\n",
       "  <tbody>\n",
       "    <tr>\n",
       "      <th>BWX</th>\n",
       "      <td>1.0000</td>\n",
       "      <td>0.3498</td>\n",
       "      <td>0.6476</td>\n",
       "      <td>0.6217</td>\n",
       "      <td>0.5577</td>\n",
       "      <td>0.4345</td>\n",
       "      <td>0.4535</td>\n",
       "      <td>0.5249</td>\n",
       "      <td>0.6680</td>\n",
       "      <td>0.4657</td>\n",
       "      <td>0.6171</td>\n",
       "    </tr>\n",
       "    <tr>\n",
       "      <th>DBC</th>\n",
       "      <td>0.3498</td>\n",
       "      <td>1.0000</td>\n",
       "      <td>0.5657</td>\n",
       "      <td>0.5819</td>\n",
       "      <td>0.4732</td>\n",
       "      <td>-0.3217</td>\n",
       "      <td>0.3183</td>\n",
       "      <td>0.4961</td>\n",
       "      <td>0.5479</td>\n",
       "      <td>0.5099</td>\n",
       "      <td>0.1367</td>\n",
       "    </tr>\n",
       "    <tr>\n",
       "      <th>EEM</th>\n",
       "      <td>0.6476</td>\n",
       "      <td>0.5657</td>\n",
       "      <td>1.0000</td>\n",
       "      <td>0.8516</td>\n",
       "      <td>0.7260</td>\n",
       "      <td>-0.1023</td>\n",
       "      <td>0.6218</td>\n",
       "      <td>0.7717</td>\n",
       "      <td>0.8072</td>\n",
       "      <td>0.7346</td>\n",
       "      <td>0.3027</td>\n",
       "    </tr>\n",
       "    <tr>\n",
       "      <th>EFA</th>\n",
       "      <td>0.6217</td>\n",
       "      <td>0.5819</td>\n",
       "      <td>0.8516</td>\n",
       "      <td>1.0000</td>\n",
       "      <td>0.7715</td>\n",
       "      <td>-0.1323</td>\n",
       "      <td>0.6979</td>\n",
       "      <td>0.8919</td>\n",
       "      <td>0.8537</td>\n",
       "      <td>0.8716</td>\n",
       "      <td>0.2875</td>\n",
       "    </tr>\n",
       "    <tr>\n",
       "      <th>HYG</th>\n",
       "      <td>0.5577</td>\n",
       "      <td>0.4732</td>\n",
       "      <td>0.7260</td>\n",
       "      <td>0.7715</td>\n",
       "      <td>1.0000</td>\n",
       "      <td>-0.0086</td>\n",
       "      <td>0.7576</td>\n",
       "      <td>0.8238</td>\n",
       "      <td>0.7688</td>\n",
       "      <td>0.7704</td>\n",
       "      <td>0.3659</td>\n",
       "    </tr>\n",
       "    <tr>\n",
       "      <th>IEF</th>\n",
       "      <td>0.4345</td>\n",
       "      <td>-0.3217</td>\n",
       "      <td>-0.1023</td>\n",
       "      <td>-0.1323</td>\n",
       "      <td>-0.0086</td>\n",
       "      <td>1.0000</td>\n",
       "      <td>0.0736</td>\n",
       "      <td>-0.1187</td>\n",
       "      <td>0.0557</td>\n",
       "      <td>-0.1557</td>\n",
       "      <td>0.7061</td>\n",
       "    </tr>\n",
       "    <tr>\n",
       "      <th>IYR</th>\n",
       "      <td>0.4535</td>\n",
       "      <td>0.3183</td>\n",
       "      <td>0.6218</td>\n",
       "      <td>0.6979</td>\n",
       "      <td>0.7576</td>\n",
       "      <td>0.0736</td>\n",
       "      <td>1.0000</td>\n",
       "      <td>0.7602</td>\n",
       "      <td>0.6560</td>\n",
       "      <td>0.7536</td>\n",
       "      <td>0.3972</td>\n",
       "    </tr>\n",
       "    <tr>\n",
       "      <th>PSP</th>\n",
       "      <td>0.5249</td>\n",
       "      <td>0.4961</td>\n",
       "      <td>0.7717</td>\n",
       "      <td>0.8919</td>\n",
       "      <td>0.8238</td>\n",
       "      <td>-0.1187</td>\n",
       "      <td>0.7602</td>\n",
       "      <td>1.0000</td>\n",
       "      <td>0.8383</td>\n",
       "      <td>0.8957</td>\n",
       "      <td>0.3209</td>\n",
       "    </tr>\n",
       "    <tr>\n",
       "      <th>QAI</th>\n",
       "      <td>0.6680</td>\n",
       "      <td>0.5479</td>\n",
       "      <td>0.8072</td>\n",
       "      <td>0.8537</td>\n",
       "      <td>0.7688</td>\n",
       "      <td>0.0557</td>\n",
       "      <td>0.6560</td>\n",
       "      <td>0.8383</td>\n",
       "      <td>1.0000</td>\n",
       "      <td>0.8410</td>\n",
       "      <td>0.4597</td>\n",
       "    </tr>\n",
       "    <tr>\n",
       "      <th>SPY</th>\n",
       "      <td>0.4657</td>\n",
       "      <td>0.5099</td>\n",
       "      <td>0.7346</td>\n",
       "      <td>0.8716</td>\n",
       "      <td>0.7704</td>\n",
       "      <td>-0.1557</td>\n",
       "      <td>0.7536</td>\n",
       "      <td>0.8957</td>\n",
       "      <td>0.8410</td>\n",
       "      <td>1.0000</td>\n",
       "      <td>0.2946</td>\n",
       "    </tr>\n",
       "    <tr>\n",
       "      <th>TIP</th>\n",
       "      <td>0.6171</td>\n",
       "      <td>0.1367</td>\n",
       "      <td>0.3027</td>\n",
       "      <td>0.2875</td>\n",
       "      <td>0.3659</td>\n",
       "      <td>0.7061</td>\n",
       "      <td>0.3972</td>\n",
       "      <td>0.3209</td>\n",
       "      <td>0.4597</td>\n",
       "      <td>0.2946</td>\n",
       "      <td>1.0000</td>\n",
       "    </tr>\n",
       "  </tbody>\n",
       "</table>\n",
       "</div>"
      ],
      "text/plain": [
       "       BWX     DBC     EEM     EFA     HYG     IEF    IYR     PSP    QAI  \\\n",
       "BWX 1.0000  0.3498  0.6476  0.6217  0.5577  0.4345 0.4535  0.5249 0.6680   \n",
       "DBC 0.3498  1.0000  0.5657  0.5819  0.4732 -0.3217 0.3183  0.4961 0.5479   \n",
       "EEM 0.6476  0.5657  1.0000  0.8516  0.7260 -0.1023 0.6218  0.7717 0.8072   \n",
       "EFA 0.6217  0.5819  0.8516  1.0000  0.7715 -0.1323 0.6979  0.8919 0.8537   \n",
       "HYG 0.5577  0.4732  0.7260  0.7715  1.0000 -0.0086 0.7576  0.8238 0.7688   \n",
       "IEF 0.4345 -0.3217 -0.1023 -0.1323 -0.0086  1.0000 0.0736 -0.1187 0.0557   \n",
       "IYR 0.4535  0.3183  0.6218  0.6979  0.7576  0.0736 1.0000  0.7602 0.6560   \n",
       "PSP 0.5249  0.4961  0.7717  0.8919  0.8238 -0.1187 0.7602  1.0000 0.8383   \n",
       "QAI 0.6680  0.5479  0.8072  0.8537  0.7688  0.0557 0.6560  0.8383 1.0000   \n",
       "SPY 0.4657  0.5099  0.7346  0.8716  0.7704 -0.1557 0.7536  0.8957 0.8410   \n",
       "TIP 0.6171  0.1367  0.3027  0.2875  0.3659  0.7061 0.3972  0.3209 0.4597   \n",
       "\n",
       "        SPY    TIP  \n",
       "BWX  0.4657 0.6171  \n",
       "DBC  0.5099 0.1367  \n",
       "EEM  0.7346 0.3027  \n",
       "EFA  0.8716 0.2875  \n",
       "HYG  0.7704 0.3659  \n",
       "IEF -0.1557 0.7061  \n",
       "IYR  0.7536 0.3972  \n",
       "PSP  0.8957 0.3209  \n",
       "QAI  0.8410 0.4597  \n",
       "SPY  1.0000 0.2946  \n",
       "TIP  0.2946 1.0000  "
      ]
     },
     "execution_count": 6,
     "metadata": {},
     "output_type": "execute_result"
    }
   ],
   "source": [
    "df_corr = df.corr()\n",
    "df_corr_unstack = df_corr.unstack().sort_values()\n",
    "df_corr_unstack = df_corr_unstack[df_corr_unstack < 1]\n",
    "print(f\"Highest correlation: {df_corr_unstack.index[-1]}; Lowest correlation: {df_corr_unstack.index[0]}\")\n",
    "df_corr"
   ]
  },
  {
   "cell_type": "code",
   "execution_count": 19,
   "id": "8cf6c59a",
   "metadata": {},
   "outputs": [
    {
     "data": {
      "text/plain": [
       "<Axes: >"
      ]
     },
     "execution_count": 19,
     "metadata": {},
     "output_type": "execute_result"
    },
    {
     "data": {
      "image/png": "[encoded data removed]",
      "text/plain": [
       "<Figure size 640x480 with 2 Axes>"
      ]
     },
     "metadata": {},
     "output_type": "display_data"
    }
   ],
   "source": [
    "sns.heatmap(df_corr)"
   ]
  },
  {
   "cell_type": "code",
   "execution_count": 7,
   "id": "d1717c298132d0e",
   "metadata": {
    "ExecuteTime": {
     "end_time": "2023-10-01T23:01:29.914261Z",
     "start_time": "2023-10-01T23:01:29.890296Z"
    },
    "collapsed": false
   },
   "outputs": [
    {
     "name": "stdout",
     "output_type": "stream",
     "text": [
      "By table 1, TIP has higher mean return and sharpe ratio than IEF (domestic bonds) and BWX (foreign bonds).\n"
     ]
    }
   ],
   "source": [
    "print(\"By table 1, TIP has higher mean return and sharpe ratio than IEF (domestic bonds) and BWX (foreign bonds).\")"
   ]
  },
  {
   "cell_type": "markdown",
   "id": "83fb429e0bfd306e",
   "metadata": {
    "collapsed": false
   },
   "source": [
    "## 3. The MV frontier.\n",
    "* Compute and display the weights of the tangency portfolios: $\\wtan$.\n",
    "* Does the ranking of weights align with the ranking of Sharpe ratios?\n",
    "* Compute the mean, volatility, and Sharpe ratio for the tangency portfolio corresponding to\n",
    "$\\wtan$."
   ]
  },
  {
   "cell_type": "code",
   "execution_count": 8,
   "id": "3743a85703e852c6",
   "metadata": {
    "ExecuteTime": {
     "end_time": "2023-10-01T23:01:39.381477Z",
     "start_time": "2023-10-01T23:01:39.368774Z"
    },
    "collapsed": false
   },
   "outputs": [],
   "source": [
    "def mv_frontier_tang(df: pd.DataFrame, is_reg: bool = False) -> pd.Series:\n",
    "    \"\"\"\n",
    "    Calculate the tangent portfolio weight on efficient frontier\n",
    "    \n",
    "    Parameters:\n",
    "        df (pd.DataFrame): \n",
    "            Excess return df.\n",
    "            Columns: all assets\n",
    "            Index: all time period (i.e. monthly)\n",
    "        is_reg (bool): \n",
    "            If True, use regularized covariance matrix.\n",
    "            \n",
    "    Returns:\n",
    "        weight_tang: tangent portfolio weight in ascending order\n",
    "    \"\"\"\n",
    "    df_cov_ann = df.cov()\n",
    "    if is_reg:\n",
    "        df_cov_ann += np.diag(np.diag(df_cov_ann))\n",
    "        df_cov_ann /= 2\n",
    "    df_cov_mean = pd.Series(np.linalg.inv(df_cov_ann) @ df.mean(), \n",
    "                            index=df_cov_ann.columns.to_list(),\n",
    "                            name='Tangency Weight')\n",
    "    df_tang = df_cov_mean / df_cov_mean.sum()\n",
    "    df_tang.sort_values(inplace=True)\n",
    "    return df_tang"
   ]
  },
  {
   "cell_type": "code",
   "execution_count": 9,
   "id": "1aae453b9c1845ad",
   "metadata": {
    "ExecuteTime": {
     "end_time": "2023-10-01T23:01:47.949252Z",
     "start_time": "2023-10-01T23:01:47.890663Z"
    },
    "collapsed": false
   },
   "outputs": [
    {
     "data": {
      "text/plain": [
       "QAI   -3.1334\n",
       "BWX   -1.4650\n",
       "PSP   -1.2711\n",
       "IYR   -0.2428\n",
       "DBC    0.0284\n",
       "EEM    0.2610\n",
       "TIP    0.3569\n",
       "EFA    0.4529\n",
       "HYG    1.5289\n",
       "IEF    1.8940\n",
       "SPY    2.5900\n",
       "Name: Tangency Weight, dtype: float64"
      ]
     },
     "execution_count": 9,
     "metadata": {},
     "output_type": "execute_result"
    }
   ],
   "source": [
    "weight_tang = mv_frontier_tang(df)\n",
    "weight_tang"
   ]
  },
  {
   "cell_type": "code",
   "execution_count": 10,
   "id": "36e67a3e492624f0",
   "metadata": {
    "ExecuteTime": {
     "end_time": "2023-10-01T23:02:00.877542Z",
     "start_time": "2023-10-01T23:02:00.874611Z"
    },
    "collapsed": false
   },
   "outputs": [
    {
     "name": "stdout",
     "output_type": "stream",
     "text": [
      "The ranking of weight of tangency portfolio != sharpe ratio rank.\n"
     ]
    }
   ],
   "source": [
    "print(f\"The ranking of weight of tangency portfolio \"\n",
    "      f\"{'=' if all(df_stat.index == weight_tang.index) else '!='} sharpe ratio rank.\")"
   ]
  },
  {
   "cell_type": "code",
   "execution_count": 11,
   "id": "3f84398f6468247e",
   "metadata": {
    "ExecuteTime": {
     "end_time": "2023-10-01T23:02:07.143224Z",
     "start_time": "2023-10-01T23:02:07.138914Z"
    },
    "collapsed": false
   },
   "outputs": [
    {
     "data": {
      "text/plain": [
       "mean     0.3702\n",
       "std      0.1915\n",
       "sharpe   1.9328\n",
       "dtype: float64"
      ]
     },
     "execution_count": 11,
     "metadata": {},
     "output_type": "execute_result"
    }
   ],
   "source": [
    "df_tang = (df * weight_tang.loc[df.columns]).sum(axis=1)\n",
    "df_tang_stat = performance_stat(df_tang)\n",
    "df_tang_stat"
   ]
  },
  {
   "cell_type": "markdown",
   "id": "ccb31d455edbd932",
   "metadata": {
    "collapsed": false
   },
   "source": [
    "## 4. TIPS\n",
    "Assess how much the tangency portfolio (and performance) change if...\n",
    "* TIPS are dropped completely from the investment set.\n",
    "* The expected excess return to TIPS is adjusted to be 0.0012 higher than what the historic sample shows.\n",
    "\n",
    "Based on the analysis, do TIPS seem to expand the investment opportunity set, implying that Harvard should consider them as a separate asset?"
   ]
  },
  {
   "cell_type": "code",
   "execution_count": 12,
   "id": "ffb5f5de06d13adf",
   "metadata": {
    "ExecuteTime": {
     "end_time": "2023-10-01T23:02:16.162307Z",
     "start_time": "2023-10-01T23:02:16.132182Z"
    },
    "collapsed": false
   },
   "outputs": [
    {
     "data": {
      "text/plain": [
       "mean     0.3863\n",
       "std      0.2001\n",
       "sharpe   1.9304\n",
       "dtype: float64"
      ]
     },
     "execution_count": 12,
     "metadata": {},
     "output_type": "execute_result"
    }
   ],
   "source": [
    "# a) without TIPS\n",
    "weight_tang_excl_tips = mv_frontier_tang(df.drop(columns=[\"TIP\"]))\n",
    "df_tang_excl_tips = (df * weight_tang_excl_tips.loc[df.drop(columns=[\"TIP\"]).columns]).sum(axis=1)\n",
    "performance_stat(df_tang_excl_tips)"
   ]
  },
  {
   "cell_type": "code",
   "execution_count": 13,
   "id": "5985e65a2768ef87",
   "metadata": {
    "ExecuteTime": {
     "end_time": "2023-10-01T23:02:25.524138Z",
     "start_time": "2023-10-01T23:02:25.521255Z"
    },
    "collapsed": false
   },
   "outputs": [
    {
     "data": {
      "text/plain": [
       "BWX   -0.0478\n",
       "DBC    0.0267\n",
       "EEM    0.0171\n",
       "EFA   -0.0114\n",
       "HYG    0.0642\n",
       "IEF    0.3185\n",
       "IYR   -0.0031\n",
       "PSP   -0.0430\n",
       "QAI   -0.1055\n",
       "SPY    0.1414\n",
       "TIP       NaN\n",
       "Name: Tangency Weight, dtype: float64"
      ]
     },
     "execution_count": 13,
     "metadata": {},
     "output_type": "execute_result"
    }
   ],
   "source": [
    "# Change of tangent portfolio\n",
    "weight_tang_excl_tips - weight_tang"
   ]
  },
  {
   "cell_type": "code",
   "execution_count": 14,
   "id": "cc64ef209a223859",
   "metadata": {
    "ExecuteTime": {
     "end_time": "2023-10-01T23:02:39.840097Z",
     "start_time": "2023-10-01T23:02:39.810164Z"
    },
    "collapsed": false
   },
   "outputs": [
    {
     "data": {
      "text/plain": [
       "mean     0.3289\n",
       "std      0.1619\n",
       "sharpe   2.0310\n",
       "dtype: float64"
      ]
     },
     "execution_count": 14,
     "metadata": {},
     "output_type": "execute_result"
    }
   ],
   "source": [
    "# a) TIPS += 0.0012\n",
    "df_tip_adj = df.copy()\n",
    "df_tip_adj[\"TIP\"] += 0.0012\n",
    "weight_tang_adj_tips = mv_frontier_tang(df_tip_adj)\n",
    "df_tang_adj_tips = (df_tip_adj * weight_tang_adj_tips.loc[df_tip_adj.columns]).sum(axis=1)\n",
    "performance_stat(df_tang_adj_tips)"
   ]
  },
  {
   "cell_type": "code",
   "execution_count": 15,
   "id": "f9843aad27e4e9c1",
   "metadata": {
    "ExecuteTime": {
     "end_time": "2023-10-01T23:02:47.605340Z",
     "start_time": "2023-10-01T23:02:47.595017Z"
    },
    "collapsed": false
   },
   "outputs": [
    {
     "data": {
      "text/plain": [
       "BWX    0.2021\n",
       "DBC   -0.1130\n",
       "EEM   -0.0722\n",
       "EFA    0.0483\n",
       "HYG   -0.2716\n",
       "IEF   -1.3472\n",
       "IYR    0.0132\n",
       "PSP    0.1821\n",
       "QAI    0.4464\n",
       "SPY   -0.5980\n",
       "TIP    1.5100\n",
       "Name: Tangency Weight, dtype: float64"
      ]
     },
     "execution_count": 15,
     "metadata": {},
     "output_type": "execute_result"
    }
   ],
   "source": [
    "# Change of tangent portfolio\n",
    "weight_tang_adj_tips - weight_tang"
   ]
  },
  {
   "cell_type": "code",
   "execution_count": 16,
   "id": "51a178811a243df5",
   "metadata": {
    "ExecuteTime": {
     "end_time": "2023-10-01T23:03:05.482540Z",
     "start_time": "2023-10-01T23:03:05.472613Z"
    },
    "collapsed": false
   },
   "outputs": [
    {
     "name": "stdout",
     "output_type": "stream",
     "text": [
      "\n",
      "Based on the results, TIPS should be not considered as a separate assets\n",
      "1. sharpe ratio of tangent portfolio with/without TIPS is almost the same (with-TIPS has marginal advantage);\n",
      "2. when TIPS increase overall, tangent portfolio has a higher sharpe\n",
      "\n"
     ]
    }
   ],
   "source": [
    "print(\"\"\"\n",
    "Based on the results, TIPS should be not considered as a separate assets\n",
    "1. sharpe ratio of tangent portfolio with/without TIPS is almost the same (with-TIPS has marginal advantage);\n",
    "2. when TIPS increase overall, tangent portfolio has a higher sharpe\n",
    "\"\"\")"
   ]
  },
  {
   "cell_type": "markdown",
   "id": "11d94c3b3bc7c756",
   "metadata": {
    "collapsed": false
   },
   "source": [
    "# 3. Allocations"
   ]
  },
  {
   "cell_type": "code",
   "execution_count": 17,
   "id": "110b0922",
   "metadata": {},
   "outputs": [],
   "source": [
    "target_return = 0.01\n",
    "excess_return_mean = df.mean()"
   ]
  },
  {
   "cell_type": "markdown",
   "id": "6343c5e020905fc0",
   "metadata": {
    "collapsed": false
   },
   "source": [
    "#### Equally-weighted (EW)\n",
    "Rescale the entire weighting vector to have target mean $\\mutarg$. Thus, the $i$ element of the weight vector is,\n",
    "$$\\wEW_i = \\frac{1}{n}$$"
   ]
  },
  {
   "cell_type": "code",
   "execution_count": 20,
   "id": "b71c4701e0dd62e2",
   "metadata": {
    "collapsed": false
   },
   "outputs": [
    {
     "data": {
      "text/html": [
       "<div>\n",
       "<style scoped>\n",
       "    .dataframe tbody tr th:only-of-type {\n",
       "        vertical-align: middle;\n",
       "    }\n",
       "\n",
       "    .dataframe tbody tr th {\n",
       "        vertical-align: top;\n",
       "    }\n",
       "\n",
       "    .dataframe thead th {\n",
       "        text-align: right;\n",
       "    }\n",
       "</style>\n",
       "<table border=\"1\" class=\"dataframe\">\n",
       "  <thead>\n",
       "    <tr style=\"text-align: right;\">\n",
       "      <th></th>\n",
       "      <th>Annualized Return</th>\n",
       "      <th>Annualized Volatility</th>\n",
       "      <th>Annualized Sharpe Ratio</th>\n",
       "    </tr>\n",
       "  </thead>\n",
       "  <tbody>\n",
       "    <tr>\n",
       "      <th>Equal Weight Portfolio</th>\n",
       "      <td>0.1200</td>\n",
       "      <td>0.2133</td>\n",
       "      <td>0.5627</td>\n",
       "    </tr>\n",
       "  </tbody>\n",
       "</table>\n",
       "</div>"
      ],
      "text/plain": [
       "                        Annualized Return  Annualized Volatility  \\\n",
       "Equal Weight Portfolio             0.1200                 0.2133   \n",
       "\n",
       "                        Annualized Sharpe Ratio  \n",
       "Equal Weight Portfolio                   0.5627  "
      ]
     },
     "execution_count": 20,
     "metadata": {},
     "output_type": "execute_result"
    }
   ],
   "source": [
    "equalWt = np.array(len(df_corr.index) * [1/len(df_corr.index)])\n",
    "eql_rescale_factor = target_return/(equalWt.T @ excess_return_mean)\n",
    "\n",
    "equalWt_port_stats = mvo_performance_stats(excess_return_mean, df.cov(),(equalWt * eql_rescale_factor),'Equal Weight Portfolio',12)\n",
    "equalWt_port_stats"
   ]
  },
  {
   "cell_type": "markdown",
   "id": "cb46fa1d89351005",
   "metadata": {
    "collapsed": false
   },
   "source": [
    "#### “Risk-parity” (RP)\n",
    "Risk-parity is a term used in a variety of ways, but here we have in mind setting the weight of the portfolio to be proportional to the inverse of its full-sample variance estimate. Thus, the $i$ element of the weight vector is,\n",
    "$$\\wRP_i = \\frac{1}{\\sigma_i^2}$$"
   ]
  },
  {
   "cell_type": "code",
   "execution_count": 21,
   "id": "6563697b6a1f6acc",
   "metadata": {
    "collapsed": false
   },
   "outputs": [
    {
     "data": {
      "text/html": [
       "<div>\n",
       "<style scoped>\n",
       "    .dataframe tbody tr th:only-of-type {\n",
       "        vertical-align: middle;\n",
       "    }\n",
       "\n",
       "    .dataframe tbody tr th {\n",
       "        vertical-align: top;\n",
       "    }\n",
       "\n",
       "    .dataframe thead th {\n",
       "        text-align: right;\n",
       "    }\n",
       "</style>\n",
       "<table border=\"1\" class=\"dataframe\">\n",
       "  <thead>\n",
       "    <tr style=\"text-align: right;\">\n",
       "      <th></th>\n",
       "      <th>Annualized Return</th>\n",
       "      <th>Annualized Volatility</th>\n",
       "      <th>Annualized Sharpe Ratio</th>\n",
       "    </tr>\n",
       "  </thead>\n",
       "  <tbody>\n",
       "    <tr>\n",
       "      <th>Risk Parity Portfolio</th>\n",
       "      <td>0.1200</td>\n",
       "      <td>0.1970</td>\n",
       "      <td>0.6091</td>\n",
       "    </tr>\n",
       "  </tbody>\n",
       "</table>\n",
       "</div>"
      ],
      "text/plain": [
       "                       Annualized Return  Annualized Volatility  \\\n",
       "Risk Parity Portfolio             0.1200                 0.1970   \n",
       "\n",
       "                       Annualized Sharpe Ratio  \n",
       "Risk Parity Portfolio                   0.6091  "
      ]
     },
     "execution_count": 21,
     "metadata": {},
     "output_type": "execute_result"
    }
   ],
   "source": [
    "rp_wt = np.array(1/df_stat['std'])\n",
    "rp_rescale_factor = target_return/ (rp_wt.T @ excess_return_mean)\n",
    "\n",
    "risk_parity_stats = mvo_performance_stats(excess_return_mean,df.cov(),(rp_wt * rp_rescale_factor),'Risk Parity Portfolio',12)\n",
    "risk_parity_stats"
   ]
  },
  {
   "cell_type": "markdown",
   "id": "5789ce9a3141082d",
   "metadata": {
    "collapsed": false
   },
   "source": [
    "#### Regularized (REG)\n",
    "Much like the Mean-Variance portfolio, set the weights proportional to \n",
    "$$\\wREG \\sim \\widehat{\\Sigma}^{-1}\\mux$$\n",
    "but this time, use a regularized covariance matrix,\n",
    "$$\\widehat{\\Sigma} = \\frac{\\Sigma + \\Sigma_D}{2}$$\n",
    "where $\\Sigma_D$ denotes a *diagonal* matrix of the security variances, with zeros in the off-diagonals.\n",
    "\n",
    "Thus, $\\widehat{\\Sigma}$ is obtained from the usual covariance matrix, $\\Sigma$, but shrinking all the covariances to half their estimated values. "
   ]
  },
  {
   "cell_type": "code",
   "execution_count": 32,
   "id": "c5aab340eca1068",
   "metadata": {
    "collapsed": false
   },
   "outputs": [
    {
     "data": {
      "text/html": [
       "<div>\n",
       "<style scoped>\n",
       "    .dataframe tbody tr th:only-of-type {\n",
       "        vertical-align: middle;\n",
       "    }\n",
       "\n",
       "    .dataframe tbody tr th {\n",
       "        vertical-align: top;\n",
       "    }\n",
       "\n",
       "    .dataframe thead th {\n",
       "        text-align: right;\n",
       "    }\n",
       "</style>\n",
       "<table border=\"1\" class=\"dataframe\">\n",
       "  <thead>\n",
       "    <tr style=\"text-align: right;\">\n",
       "      <th></th>\n",
       "      <th>Annualized Return</th>\n",
       "      <th>Annualized Volatility</th>\n",
       "      <th>Annualized Sharpe Ratio</th>\n",
       "    </tr>\n",
       "  </thead>\n",
       "  <tbody>\n",
       "    <tr>\n",
       "      <th>Regularized Portfolio</th>\n",
       "      <td>0.1200</td>\n",
       "      <td>0.0941</td>\n",
       "      <td>1.2753</td>\n",
       "    </tr>\n",
       "  </tbody>\n",
       "</table>\n",
       "</div>"
      ],
      "text/plain": [
       "                       Annualized Return  Annualized Volatility  \\\n",
       "Regularized Portfolio             0.1200                 0.0941   \n",
       "\n",
       "                       Annualized Sharpe Ratio  \n",
       "Regularized Portfolio                   1.2753  "
      ]
     },
     "execution_count": 32,
     "metadata": {},
     "output_type": "execute_result"
    }
   ],
   "source": [
    "asset_var = df.var()\n",
    "reg_cov_matrix = (df.cov() + np.diag(asset_var))/2\n",
    "reg_wt = np.linalg.inv(reg_cov_matrix).dot(np.array(excess_return_mean))\n",
    "unscaled_regularized_stats = mvo_performance_stats(excess_return_mean, df.cov(),(reg_wt),'Regularized Portfolio',12)\n",
    "unscaled_return = np.array(unscaled_regularized_stats['Annualized Return'])\n",
    "reg_rescale = (target_return/unscaled_return[0])*12\n",
    "\n",
    "regularized_stats = mvo_performance_stats(excess_return_mean, df.cov(),(reg_wt*reg_rescale),'Regularized Portfolio',12)\n",
    "regularized_stats"
   ]
  },
  {
   "cell_type": "code",
   "execution_count": 33,
   "id": "9b0f76e2",
   "metadata": {},
   "outputs": [
    {
     "data": {
      "text/html": [
       "<div>\n",
       "<style scoped>\n",
       "    .dataframe tbody tr th:only-of-type {\n",
       "        vertical-align: middle;\n",
       "    }\n",
       "\n",
       "    .dataframe tbody tr th {\n",
       "        vertical-align: top;\n",
       "    }\n",
       "\n",
       "    .dataframe thead th {\n",
       "        text-align: right;\n",
       "    }\n",
       "</style>\n",
       "<table border=\"1\" class=\"dataframe\">\n",
       "  <thead>\n",
       "    <tr style=\"text-align: right;\">\n",
       "      <th></th>\n",
       "      <th>Annualized Return</th>\n",
       "      <th>Annualized Volatility</th>\n",
       "      <th>Annualized Sharpe Ratio</th>\n",
       "    </tr>\n",
       "  </thead>\n",
       "  <tbody>\n",
       "    <tr>\n",
       "      <th>Risk Parity Portfolio</th>\n",
       "      <td>0.1200</td>\n",
       "      <td>0.1970</td>\n",
       "      <td>0.6091</td>\n",
       "    </tr>\n",
       "  </tbody>\n",
       "</table>\n",
       "</div>"
      ],
      "text/plain": [
       "                       Annualized Return  Annualized Volatility  \\\n",
       "Risk Parity Portfolio             0.1200                 0.1970   \n",
       "\n",
       "                       Annualized Sharpe Ratio  \n",
       "Risk Parity Portfolio                   0.6091  "
      ]
     },
     "execution_count": 33,
     "metadata": {},
     "output_type": "execute_result"
    }
   ],
   "source": [
    "risk_parity_stats"
   ]
  },
  {
   "cell_type": "code",
   "execution_count": 34,
   "id": "e21addbe",
   "metadata": {},
   "outputs": [
    {
     "data": {
      "text/html": [
       "<div>\n",
       "<style scoped>\n",
       "    .dataframe tbody tr th:only-of-type {\n",
       "        vertical-align: middle;\n",
       "    }\n",
       "\n",
       "    .dataframe tbody tr th {\n",
       "        vertical-align: top;\n",
       "    }\n",
       "\n",
       "    .dataframe thead th {\n",
       "        text-align: right;\n",
       "    }\n",
       "</style>\n",
       "<table border=\"1\" class=\"dataframe\">\n",
       "  <thead>\n",
       "    <tr style=\"text-align: right;\">\n",
       "      <th></th>\n",
       "      <th>Annualized Return</th>\n",
       "      <th>Annualized Volatility</th>\n",
       "      <th>Annualized Sharpe Ratio</th>\n",
       "    </tr>\n",
       "  </thead>\n",
       "  <tbody>\n",
       "    <tr>\n",
       "      <th>Equal Weight Portfolio</th>\n",
       "      <td>0.1200</td>\n",
       "      <td>0.2133</td>\n",
       "      <td>0.5627</td>\n",
       "    </tr>\n",
       "  </tbody>\n",
       "</table>\n",
       "</div>"
      ],
      "text/plain": [
       "                        Annualized Return  Annualized Volatility  \\\n",
       "Equal Weight Portfolio             0.1200                 0.2133   \n",
       "\n",
       "                        Annualized Sharpe Ratio  \n",
       "Equal Weight Portfolio                   0.5627  "
      ]
     },
     "execution_count": 34,
     "metadata": {},
     "output_type": "execute_result"
    }
   ],
   "source": [
    "equalWt_port_stats"
   ]
  },
  {
   "cell_type": "markdown",
   "id": "bd913426",
   "metadata": {},
   "source": [
    "For each of these portfolios the Annualized Return is the same because they were made with target return conditioning. The volatility of the regularized portfolio has less than half of the volatility of the risk parity and equal weight portfolios. Extending on this the Annualized Sharpe Ratio is roughly double that of the risk parity and equal weight portfolios. Between the risk parity and equal weight portfolios the risk parity portfolio has a slightly higher annualized sharpe ratio."
   ]
  },
  {
   "cell_type": "markdown",
   "id": "ff9526ab2cf9d7db",
   "metadata": {
    "collapsed": false
   },
   "source": [
    "### Comparing\n",
    "\n",
    "In order to compare all these allocation methods, (those above, along with the tangency portfolio obtained in the previous section,) rescale each weight vector, such that it has targeted mean return of $\\mutarg$.\n",
    "\n",
    "* Calculate the performance of each of these portfolios over the sample.\n",
    "* Report their mean, volatility, and Sharpe ratio. \n",
    "* How do these compare across the four allocation methods?"
   ]
  },
  {
   "cell_type": "code",
   "execution_count": null,
   "id": "11be6028373909c4",
   "metadata": {
    "collapsed": false
   },
   "outputs": [],
   "source": []
  }
 ],
 "metadata": {
  "kernelspec": {
   "display_name": "Python 3",
   "language": "python",
   "name": "python3"
  },
  "language_info": {
   "codemirror_mode": {
    "name": "ipython",
    "version": 3
   },
   "file_extension": ".py",
   "mimetype": "text/x-python",
   "name": "python",
   "nbconvert_exporter": "python",
   "pygments_lexer": "ipython3",
   "version": "3.11.3"
  }
 },
 "nbformat": 4,
 "nbformat_minor": 5
}
