{
 "cells": [
  {
   "cell_type": "code",
   "execution_count": 3,
   "outputs": [],
   "source": [
    "import pandas as pd\n",
    "import numpy as np"
   ],
   "metadata": {
    "collapsed": false,
    "ExecuteTime": {
     "end_time": "2023-10-01T22:59:21.384814Z",
     "start_time": "2023-10-01T22:59:20.687621Z"
    }
   },
   "id": "49f1f63f8f71af0e"
  },
  {
   "cell_type": "markdown",
   "source": [
    "# 2 Mean-Variance Optimization"
   ],
   "metadata": {
    "collapsed": false
   },
   "id": "88a96298d9b68638"
  },
  {
   "cell_type": "code",
   "execution_count": 4,
   "outputs": [],
   "source": [
    "df = pd.read_excel(\"../data/multi_asset_etf_data.xlsx\", sheet_name=\"excess returns\")\n",
    "df.set_index(\"Date\", inplace=True)"
   ],
   "metadata": {
    "collapsed": false,
    "ExecuteTime": {
     "end_time": "2023-10-01T22:59:37.345509Z",
     "start_time": "2023-10-01T22:59:37.136533Z"
    }
   },
   "id": "a8fafe8abcdc35c7"
  },
  {
   "cell_type": "markdown",
   "source": [
    "## 1. Summary Statistics\n",
    "* Calculate and display the mean and volatility of each asset’s excess return. (Recall we use volatility to refer to standard deviation.)\n",
    "* Which assets have the best and worst Sharpe ratios? Recall that the Sharpe Ratio is simply the ratio of the mean-to-volatility of excess returns:\n",
    "$$\\text{sharpe ratio of investment }i = \\frac{\\mux_i}{\\sigma_i}$$"
   ],
   "metadata": {
    "collapsed": false
   },
   "id": "1999de1511885912"
  },
  {
   "cell_type": "code",
   "execution_count": 5,
   "outputs": [],
   "source": [
    "def performance_stat(s: pd.Series) -> pd.Series:\n",
    "    \"\"\"\n",
    "    Calculate the mean, volatility, sharpe of given series\n",
    "    \n",
    "    Parameters:\n",
    "        s (pd.Series): \n",
    "            Excess return of certain asset / portfolio\n",
    "            Index: all time period (i.e. monthly)\n",
    "            \n",
    "    Returns:\n",
    "        s_stat: Series contains mean, volatility, sharpe of the input series\n",
    "    \"\"\"\n",
    "    s_stat = s.agg(['mean', 'std']).T\n",
    "    s_stat['mean'] *= 12\n",
    "    s_stat['std'] *= (12 ** (1/2))\n",
    "    s_stat['sharpe'] = s_stat['mean'] / s_stat['std']\n",
    "    return s_stat"
   ],
   "metadata": {
    "collapsed": false,
    "ExecuteTime": {
     "end_time": "2023-10-01T23:00:03.858910Z",
     "start_time": "2023-10-01T23:00:03.855231Z"
    }
   },
   "id": "79ef0141166ca3c8"
  },
  {
   "cell_type": "code",
   "execution_count": 6,
   "outputs": [
    {
     "name": "stdout",
     "output_type": "stream",
     "text": [
      "Best performer: SPY; Worse performer: BWX\n"
     ]
    },
    {
     "data": {
      "text/plain": "         mean       std    sharpe\nBWX -0.001843  0.083359 -0.022112\nDBC  0.025443  0.178975  0.142162\nIEF  0.014269  0.062405  0.228652\nEEM  0.064887  0.196531  0.330163\nPSP  0.079938  0.227387  0.351552\nQAI  0.018974  0.050810  0.373440\nTIP  0.022321  0.051529  0.433166\nEFA  0.081597  0.165991  0.491573\nIYR  0.129473  0.187101  0.691997\nHYG  0.064168  0.089154  0.719746\nSPY  0.143727  0.147679  0.973245",
      "text/html": "<div>\n<style scoped>\n    .dataframe tbody tr th:only-of-type {\n        vertical-align: middle;\n    }\n\n    .dataframe tbody tr th {\n        vertical-align: top;\n    }\n\n    .dataframe thead th {\n        text-align: right;\n    }\n</style>\n<table border=\"1\" class=\"dataframe\">\n  <thead>\n    <tr style=\"text-align: right;\">\n      <th></th>\n      <th>mean</th>\n      <th>std</th>\n      <th>sharpe</th>\n    </tr>\n  </thead>\n  <tbody>\n    <tr>\n      <th>BWX</th>\n      <td>-0.001843</td>\n      <td>0.083359</td>\n      <td>-0.022112</td>\n    </tr>\n    <tr>\n      <th>DBC</th>\n      <td>0.025443</td>\n      <td>0.178975</td>\n      <td>0.142162</td>\n    </tr>\n    <tr>\n      <th>IEF</th>\n      <td>0.014269</td>\n      <td>0.062405</td>\n      <td>0.228652</td>\n    </tr>\n    <tr>\n      <th>EEM</th>\n      <td>0.064887</td>\n      <td>0.196531</td>\n      <td>0.330163</td>\n    </tr>\n    <tr>\n      <th>PSP</th>\n      <td>0.079938</td>\n      <td>0.227387</td>\n      <td>0.351552</td>\n    </tr>\n    <tr>\n      <th>QAI</th>\n      <td>0.018974</td>\n      <td>0.050810</td>\n      <td>0.373440</td>\n    </tr>\n    <tr>\n      <th>TIP</th>\n      <td>0.022321</td>\n      <td>0.051529</td>\n      <td>0.433166</td>\n    </tr>\n    <tr>\n      <th>EFA</th>\n      <td>0.081597</td>\n      <td>0.165991</td>\n      <td>0.491573</td>\n    </tr>\n    <tr>\n      <th>IYR</th>\n      <td>0.129473</td>\n      <td>0.187101</td>\n      <td>0.691997</td>\n    </tr>\n    <tr>\n      <th>HYG</th>\n      <td>0.064168</td>\n      <td>0.089154</td>\n      <td>0.719746</td>\n    </tr>\n    <tr>\n      <th>SPY</th>\n      <td>0.143727</td>\n      <td>0.147679</td>\n      <td>0.973245</td>\n    </tr>\n  </tbody>\n</table>\n</div>"
     },
     "execution_count": 6,
     "metadata": {},
     "output_type": "execute_result"
    }
   ],
   "source": [
    "df_stat = df.apply(performance_stat).T\n",
    "df_stat.sort_values('sharpe', inplace=True)\n",
    "print(f\"Best performer: {df_stat.index[-1]}; Worse performer: {df_stat.index[0]}\")\n",
    "df_stat"
   ],
   "metadata": {
    "collapsed": false,
    "ExecuteTime": {
     "end_time": "2023-10-01T23:00:17.000857Z",
     "start_time": "2023-10-01T23:00:16.992994Z"
    }
   },
   "id": "2703f6e609355f25"
  },
  {
   "cell_type": "markdown",
   "source": [
    "## 2. Descriptive Analysis\n",
    "* Calculate the correlation matrix of the returns. Which pair has the highest correlation? And the lowest?\n",
    "* How well have TIPS done in our sample? Have they outperformed domestic bonds? Foreign bonds?"
   ],
   "metadata": {
    "collapsed": false
   },
   "id": "fb6a74527ec75da8"
  },
  {
   "cell_type": "code",
   "execution_count": 7,
   "outputs": [
    {
     "name": "stdout",
     "output_type": "stream",
     "text": [
      "Highest correlation: ('PSP', 'SPY'); Lowest correlation: ('DBC', 'IEF')\n"
     ]
    },
    {
     "data": {
      "text/plain": "          BWX       DBC       EEM       EFA       HYG       IEF       IYR  \\\nBWX  1.000000  0.349773  0.647614  0.621662  0.557653  0.434472  0.453534   \nDBC  0.349773  1.000000  0.565654  0.581865  0.473208 -0.321738  0.318314   \nEEM  0.647614  0.565654  1.000000  0.851579  0.726041 -0.102347  0.621814   \nEFA  0.621662  0.581865  0.851579  1.000000  0.771463 -0.132331  0.697875   \nHYG  0.557653  0.473208  0.726041  0.771463  1.000000 -0.008598  0.757649   \nIEF  0.434472 -0.321738 -0.102347 -0.132331 -0.008598  1.000000  0.073622   \nIYR  0.453534  0.318314  0.621814  0.697875  0.757649  0.073622  1.000000   \nPSP  0.524870  0.496057  0.771677  0.891929  0.823823 -0.118676  0.760158   \nQAI  0.668045  0.547936  0.807245  0.853674  0.768756  0.055667  0.655963   \nSPY  0.465713  0.509886  0.734556  0.871641  0.770353 -0.155696  0.753610   \nTIP  0.617099  0.136668  0.302729  0.287476  0.365939  0.706078  0.397166   \n\n          PSP       QAI       SPY       TIP  \nBWX  0.524870  0.668045  0.465713  0.617099  \nDBC  0.496057  0.547936  0.509886  0.136668  \nEEM  0.771677  0.807245  0.734556  0.302729  \nEFA  0.891929  0.853674  0.871641  0.287476  \nHYG  0.823823  0.768756  0.770353  0.365939  \nIEF -0.118676  0.055667 -0.155696  0.706078  \nIYR  0.760158  0.655963  0.753610  0.397166  \nPSP  1.000000  0.838287  0.895729  0.320913  \nQAI  0.838287  1.000000  0.840989  0.459712  \nSPY  0.895729  0.840989  1.000000  0.294639  \nTIP  0.320913  0.459712  0.294639  1.000000  ",
      "text/html": "<div>\n<style scoped>\n    .dataframe tbody tr th:only-of-type {\n        vertical-align: middle;\n    }\n\n    .dataframe tbody tr th {\n        vertical-align: top;\n    }\n\n    .dataframe thead th {\n        text-align: right;\n    }\n</style>\n<table border=\"1\" class=\"dataframe\">\n  <thead>\n    <tr style=\"text-align: right;\">\n      <th></th>\n      <th>BWX</th>\n      <th>DBC</th>\n      <th>EEM</th>\n      <th>EFA</th>\n      <th>HYG</th>\n      <th>IEF</th>\n      <th>IYR</th>\n      <th>PSP</th>\n      <th>QAI</th>\n      <th>SPY</th>\n      <th>TIP</th>\n    </tr>\n  </thead>\n  <tbody>\n    <tr>\n      <th>BWX</th>\n      <td>1.000000</td>\n      <td>0.349773</td>\n      <td>0.647614</td>\n      <td>0.621662</td>\n      <td>0.557653</td>\n      <td>0.434472</td>\n      <td>0.453534</td>\n      <td>0.524870</td>\n      <td>0.668045</td>\n      <td>0.465713</td>\n      <td>0.617099</td>\n    </tr>\n    <tr>\n      <th>DBC</th>\n      <td>0.349773</td>\n      <td>1.000000</td>\n      <td>0.565654</td>\n      <td>0.581865</td>\n      <td>0.473208</td>\n      <td>-0.321738</td>\n      <td>0.318314</td>\n      <td>0.496057</td>\n      <td>0.547936</td>\n      <td>0.509886</td>\n      <td>0.136668</td>\n    </tr>\n    <tr>\n      <th>EEM</th>\n      <td>0.647614</td>\n      <td>0.565654</td>\n      <td>1.000000</td>\n      <td>0.851579</td>\n      <td>0.726041</td>\n      <td>-0.102347</td>\n      <td>0.621814</td>\n      <td>0.771677</td>\n      <td>0.807245</td>\n      <td>0.734556</td>\n      <td>0.302729</td>\n    </tr>\n    <tr>\n      <th>EFA</th>\n      <td>0.621662</td>\n      <td>0.581865</td>\n      <td>0.851579</td>\n      <td>1.000000</td>\n      <td>0.771463</td>\n      <td>-0.132331</td>\n      <td>0.697875</td>\n      <td>0.891929</td>\n      <td>0.853674</td>\n      <td>0.871641</td>\n      <td>0.287476</td>\n    </tr>\n    <tr>\n      <th>HYG</th>\n      <td>0.557653</td>\n      <td>0.473208</td>\n      <td>0.726041</td>\n      <td>0.771463</td>\n      <td>1.000000</td>\n      <td>-0.008598</td>\n      <td>0.757649</td>\n      <td>0.823823</td>\n      <td>0.768756</td>\n      <td>0.770353</td>\n      <td>0.365939</td>\n    </tr>\n    <tr>\n      <th>IEF</th>\n      <td>0.434472</td>\n      <td>-0.321738</td>\n      <td>-0.102347</td>\n      <td>-0.132331</td>\n      <td>-0.008598</td>\n      <td>1.000000</td>\n      <td>0.073622</td>\n      <td>-0.118676</td>\n      <td>0.055667</td>\n      <td>-0.155696</td>\n      <td>0.706078</td>\n    </tr>\n    <tr>\n      <th>IYR</th>\n      <td>0.453534</td>\n      <td>0.318314</td>\n      <td>0.621814</td>\n      <td>0.697875</td>\n      <td>0.757649</td>\n      <td>0.073622</td>\n      <td>1.000000</td>\n      <td>0.760158</td>\n      <td>0.655963</td>\n      <td>0.753610</td>\n      <td>0.397166</td>\n    </tr>\n    <tr>\n      <th>PSP</th>\n      <td>0.524870</td>\n      <td>0.496057</td>\n      <td>0.771677</td>\n      <td>0.891929</td>\n      <td>0.823823</td>\n      <td>-0.118676</td>\n      <td>0.760158</td>\n      <td>1.000000</td>\n      <td>0.838287</td>\n      <td>0.895729</td>\n      <td>0.320913</td>\n    </tr>\n    <tr>\n      <th>QAI</th>\n      <td>0.668045</td>\n      <td>0.547936</td>\n      <td>0.807245</td>\n      <td>0.853674</td>\n      <td>0.768756</td>\n      <td>0.055667</td>\n      <td>0.655963</td>\n      <td>0.838287</td>\n      <td>1.000000</td>\n      <td>0.840989</td>\n      <td>0.459712</td>\n    </tr>\n    <tr>\n      <th>SPY</th>\n      <td>0.465713</td>\n      <td>0.509886</td>\n      <td>0.734556</td>\n      <td>0.871641</td>\n      <td>0.770353</td>\n      <td>-0.155696</td>\n      <td>0.753610</td>\n      <td>0.895729</td>\n      <td>0.840989</td>\n      <td>1.000000</td>\n      <td>0.294639</td>\n    </tr>\n    <tr>\n      <th>TIP</th>\n      <td>0.617099</td>\n      <td>0.136668</td>\n      <td>0.302729</td>\n      <td>0.287476</td>\n      <td>0.365939</td>\n      <td>0.706078</td>\n      <td>0.397166</td>\n      <td>0.320913</td>\n      <td>0.459712</td>\n      <td>0.294639</td>\n      <td>1.000000</td>\n    </tr>\n  </tbody>\n</table>\n</div>"
     },
     "execution_count": 7,
     "metadata": {},
     "output_type": "execute_result"
    }
   ],
   "source": [
    "df_corr = df.corr()\n",
    "df_corr_unstack = df_corr.unstack().sort_values()\n",
    "df_corr_unstack = df_corr_unstack[df_corr_unstack < 1]\n",
    "print(f\"Highest correlation: {df_corr_unstack.index[-1]}; Lowest correlation: {df_corr_unstack.index[0]}\")\n",
    "df_corr"
   ],
   "metadata": {
    "collapsed": false,
    "ExecuteTime": {
     "end_time": "2023-10-01T23:01:04.636181Z",
     "start_time": "2023-10-01T23:01:04.619806Z"
    }
   },
   "id": "c1b5148dc62dcea0"
  },
  {
   "cell_type": "code",
   "execution_count": 8,
   "outputs": [
    {
     "name": "stdout",
     "output_type": "stream",
     "text": [
      "By table 1, TIP has higher mean return and sharpe ratio than IEF (domestic bonds) and BWX (foreign bonds).\n"
     ]
    }
   ],
   "source": [
    "print(\"By table 1, TIP has higher mean return and sharpe ratio than IEF (domestic bonds) and BWX (foreign bonds).\")"
   ],
   "metadata": {
    "collapsed": false,
    "ExecuteTime": {
     "end_time": "2023-10-01T23:01:29.914261Z",
     "start_time": "2023-10-01T23:01:29.890296Z"
    }
   },
   "id": "d1717c298132d0e"
  },
  {
   "cell_type": "markdown",
   "source": [
    "## 3. The MV frontier.\n",
    "* Compute and display the weights of the tangency portfolios: $\\wtan$.\n",
    "* Does the ranking of weights align with the ranking of Sharpe ratios?\n",
    "* Compute the mean, volatility, and Sharpe ratio for the tangency portfolio corresponding to\n",
    "$\\wtan$."
   ],
   "metadata": {
    "collapsed": false
   },
   "id": "83fb429e0bfd306e"
  },
  {
   "cell_type": "code",
   "execution_count": 9,
   "outputs": [],
   "source": [
    "def mv_frontier_tang(df: pd.DataFrame, is_reg: bool = False) -> pd.Series:\n",
    "    \"\"\"\n",
    "    Calculate the tangent portfolio weight on efficient frontier\n",
    "    \n",
    "    Parameters:\n",
    "        df (pd.DataFrame): \n",
    "            Excess return df.\n",
    "            Columns: all assets\n",
    "            Index: all time period (i.e. monthly)\n",
    "        is_reg (bool): \n",
    "            If True, use regularized covariance matrix.\n",
    "            \n",
    "    Returns:\n",
    "        weight_tang: tangent portfolio weight in ascending order\n",
    "    \"\"\"\n",
    "    df_cov_ann = df.cov()\n",
    "    if is_reg:\n",
    "        df_cov_ann += np.diag(np.diag(df_cov_ann))\n",
    "        df_cov_ann /= 2\n",
    "    df_cov_mean = pd.Series(np.linalg.inv(df_cov_ann) @ df.mean(), \n",
    "                            index=df_cov_ann.columns.to_list(),\n",
    "                            name='Tangency Weight')\n",
    "    df_tang = df_cov_mean / df_cov_mean.sum()\n",
    "    df_tang.sort_values(inplace=True)\n",
    "    return df_tang"
   ],
   "metadata": {
    "collapsed": false,
    "ExecuteTime": {
     "end_time": "2023-10-01T23:01:39.381477Z",
     "start_time": "2023-10-01T23:01:39.368774Z"
    }
   },
   "id": "3743a85703e852c6"
  },
  {
   "cell_type": "code",
   "execution_count": 10,
   "outputs": [
    {
     "data": {
      "text/plain": "QAI   -3.133445\nBWX   -1.464974\nPSP   -1.271055\nIYR   -0.242772\nDBC    0.028436\nEEM    0.261028\nTIP    0.356935\nEFA    0.452914\nHYG    1.528942\nIEF    1.893992\nSPY    2.589999\nName: Tangency Weight, dtype: float64"
     },
     "execution_count": 10,
     "metadata": {},
     "output_type": "execute_result"
    }
   ],
   "source": [
    "weight_tang = mv_frontier_tang(df)\n",
    "weight_tang"
   ],
   "metadata": {
    "collapsed": false,
    "ExecuteTime": {
     "end_time": "2023-10-01T23:01:47.949252Z",
     "start_time": "2023-10-01T23:01:47.890663Z"
    }
   },
   "id": "1aae453b9c1845ad"
  },
  {
   "cell_type": "code",
   "execution_count": 11,
   "outputs": [
    {
     "name": "stdout",
     "output_type": "stream",
     "text": [
      "The ranking of weight of tangency portfolio != sharpe ratio rank.\n"
     ]
    }
   ],
   "source": [
    "print(f\"The ranking of weight of tangency portfolio \"\n",
    "      f\"{'=' if all(df_stat.index == weight_tang.index) else '!='} sharpe ratio rank.\")"
   ],
   "metadata": {
    "collapsed": false,
    "ExecuteTime": {
     "end_time": "2023-10-01T23:02:00.877542Z",
     "start_time": "2023-10-01T23:02:00.874611Z"
    }
   },
   "id": "36e67a3e492624f0"
  },
  {
   "cell_type": "code",
   "execution_count": 12,
   "outputs": [
    {
     "data": {
      "text/plain": "mean      0.370180\nstd       0.191523\nsharpe    1.932824\ndtype: float64"
     },
     "execution_count": 12,
     "metadata": {},
     "output_type": "execute_result"
    }
   ],
   "source": [
    "df_tang = (df * weight_tang.loc[df.columns]).sum(axis=1)\n",
    "df_tang_stat = performance_stat(df_tang)\n",
    "df_tang_stat"
   ],
   "metadata": {
    "collapsed": false,
    "ExecuteTime": {
     "end_time": "2023-10-01T23:02:07.143224Z",
     "start_time": "2023-10-01T23:02:07.138914Z"
    }
   },
   "id": "3f84398f6468247e"
  },
  {
   "cell_type": "markdown",
   "source": [
    "## 4. TIPS\n",
    "Assess how much the tangency portfolio (and performance) change if...\n",
    "* TIPS are dropped completely from the investment set.\n",
    "* The expected excess return to TIPS is adjusted to be 0.0012 higher than what the historic sample shows.\n",
    "\n",
    "Based on the analysis, do TIPS seem to expand the investment opportunity set, implying that Harvard should consider them as a separate asset?"
   ],
   "metadata": {
    "collapsed": false
   },
   "id": "ccb31d455edbd932"
  },
  {
   "cell_type": "code",
   "execution_count": 13,
   "outputs": [
    {
     "data": {
      "text/plain": "mean      0.386291\nstd       0.200111\nsharpe    1.930383\ndtype: float64"
     },
     "execution_count": 13,
     "metadata": {},
     "output_type": "execute_result"
    }
   ],
   "source": [
    "# a) without TIPS\n",
    "weight_tang_excl_tips = mv_frontier_tang(df.drop(columns=[\"TIP\"]))\n",
    "df_tang_excl_tips = (df * weight_tang_excl_tips.loc[df.drop(columns=[\"TIP\"]).columns]).sum(axis=1)\n",
    "performance_stat(df_tang_excl_tips)"
   ],
   "metadata": {
    "collapsed": false,
    "ExecuteTime": {
     "end_time": "2023-10-01T23:02:16.162307Z",
     "start_time": "2023-10-01T23:02:16.132182Z"
    }
   },
   "id": "ffb5f5de06d13adf"
  },
  {
   "cell_type": "code",
   "execution_count": 14,
   "outputs": [
    {
     "data": {
      "text/plain": "BWX   -0.047776\nDBC    0.026721\nEEM    0.017058\nEFA   -0.011418\nHYG    0.064197\nIEF    0.318459\nIYR   -0.003123\nPSP   -0.043037\nQAI   -0.105510\nSPY    0.141364\nTIP         NaN\nName: Tangency Weight, dtype: float64"
     },
     "execution_count": 14,
     "metadata": {},
     "output_type": "execute_result"
    }
   ],
   "source": [
    "# Change of tangent portfolio\n",
    "weight_tang_excl_tips - weight_tang"
   ],
   "metadata": {
    "collapsed": false,
    "ExecuteTime": {
     "end_time": "2023-10-01T23:02:25.524138Z",
     "start_time": "2023-10-01T23:02:25.521255Z"
    }
   },
   "id": "5985e65a2768ef87"
  },
  {
   "cell_type": "code",
   "execution_count": 15,
   "outputs": [
    {
     "data": {
      "text/plain": "mean      0.328908\nstd       0.161947\nsharpe    2.030967\ndtype: float64"
     },
     "execution_count": 15,
     "metadata": {},
     "output_type": "execute_result"
    }
   ],
   "source": [
    "# a) TIPS += 0.0012\n",
    "df_tip_adj = df.copy()\n",
    "df_tip_adj[\"TIP\"] += 0.0012\n",
    "weight_tang_adj_tips = mv_frontier_tang(df_tip_adj)\n",
    "df_tang_adj_tips = (df_tip_adj * weight_tang_adj_tips.loc[df_tip_adj.columns]).sum(axis=1)\n",
    "performance_stat(df_tang_adj_tips)"
   ],
   "metadata": {
    "collapsed": false,
    "ExecuteTime": {
     "end_time": "2023-10-01T23:02:39.840097Z",
     "start_time": "2023-10-01T23:02:39.810164Z"
    }
   },
   "id": "cc64ef209a223859"
  },
  {
   "cell_type": "code",
   "execution_count": 16,
   "outputs": [
    {
     "data": {
      "text/plain": "BWX    0.202111\nDBC   -0.113042\nEEM   -0.072163\nEFA    0.048303\nHYG   -0.271582\nIEF   -1.347217\nIYR    0.013213\nPSP    0.182065\nQAI    0.446354\nSPY   -0.598029\nTIP    1.509987\nName: Tangency Weight, dtype: float64"
     },
     "execution_count": 16,
     "metadata": {},
     "output_type": "execute_result"
    }
   ],
   "source": [
    "# Change of tangent portfolio\n",
    "weight_tang_adj_tips - weight_tang"
   ],
   "metadata": {
    "collapsed": false,
    "ExecuteTime": {
     "end_time": "2023-10-01T23:02:47.605340Z",
     "start_time": "2023-10-01T23:02:47.595017Z"
    }
   },
   "id": "f9843aad27e4e9c1"
  },
  {
   "cell_type": "code",
   "execution_count": 17,
   "outputs": [
    {
     "name": "stdout",
     "output_type": "stream",
     "text": [
      "\n",
      "Based on the results, TIPS should be not considered as a separate assets\n",
      "1. sharpe ratio of tangent portfolio with/without TIPS is almost the same (with-TIPS has marginal advantage);\n",
      "2. when TIPS increase overall, tangent portfolio has a higher sharpe\n"
     ]
    }
   ],
   "source": [
    "print(\"\"\"\n",
    "Based on the results, TIPS should be not considered as a separate assets\n",
    "1. sharpe ratio of tangent portfolio with/without TIPS is almost the same (with-TIPS has marginal advantage);\n",
    "2. when TIPS increase overall, tangent portfolio has a higher sharpe\n",
    "\"\"\")"
   ],
   "metadata": {
    "collapsed": false,
    "ExecuteTime": {
     "end_time": "2023-10-01T23:03:05.482540Z",
     "start_time": "2023-10-01T23:03:05.472613Z"
    }
   },
   "id": "51a178811a243df5"
  },
  {
   "cell_type": "markdown",
   "source": [
    "# 3. Allocations"
   ],
   "metadata": {
    "collapsed": false
   },
   "id": "11d94c3b3bc7c756"
  },
  {
   "cell_type": "markdown",
   "source": [
    "#### Equally-weighted (EW)\n",
    "Rescale the entire weighting vector to have target mean $\\mutarg$. Thus, the $i$ element of the weight vector is,\n",
    "$$\\wEW_i = \\frac{1}{n}$$"
   ],
   "metadata": {
    "collapsed": false
   },
   "id": "6343c5e020905fc0"
  },
  {
   "cell_type": "code",
   "execution_count": null,
   "outputs": [],
   "source": [],
   "metadata": {
    "collapsed": false
   },
   "id": "b71c4701e0dd62e2"
  },
  {
   "cell_type": "markdown",
   "source": [
    "#### “Risk-parity” (RP)\n",
    "Risk-parity is a term used in a variety of ways, but here we have in mind setting the weight of the portfolio to be proportional to the inverse of its full-sample variance estimate. Thus, the $i$ element of the weight vector is,\n",
    "$$\\wRP_i = \\frac{1}{\\sigma_i^2}$$"
   ],
   "metadata": {
    "collapsed": false
   },
   "id": "cb46fa1d89351005"
  },
  {
   "cell_type": "code",
   "execution_count": null,
   "outputs": [],
   "source": [],
   "metadata": {
    "collapsed": false
   },
   "id": "6563697b6a1f6acc"
  },
  {
   "cell_type": "markdown",
   "source": [
    "#### Regularized (REG)\n",
    "Much like the Mean-Variance portfolio, set the weights proportional to \n",
    "$$\\wREG \\sim \\widehat{\\Sigma}^{-1}\\mux$$\n",
    "but this time, use a regularized covariance matrix,\n",
    "$$\\widehat{\\Sigma} = \\frac{\\Sigma + \\Sigma_D}{2}$$\n",
    "where $\\Sigma_D$ denotes a *diagonal* matrix of the security variances, with zeros in the off-diagonals.\n",
    "\n",
    "Thus, $\\widehat{\\Sigma}$ is obtained from the usual covariance matrix, $\\Sigma$, but shrinking all the covariances to half their estimated values. "
   ],
   "metadata": {
    "collapsed": false
   },
   "id": "5789ce9a3141082d"
  },
  {
   "cell_type": "code",
   "execution_count": null,
   "outputs": [],
   "source": [],
   "metadata": {
    "collapsed": false
   },
   "id": "c5aab340eca1068"
  },
  {
   "cell_type": "markdown",
   "source": [
    "### Comparing\n",
    "\n",
    "In order to compare all these allocation methods, (those above, along with the tangency portfolio obtained in the previous section,) rescale each weight vector, such that it has targeted mean return of $\\mutarg$.\n",
    "\n",
    "* Calculate the performance of each of these portfolios over the sample.\n",
    "* Report their mean, volatility, and Sharpe ratio. \n",
    "* How do these compare across the four allocation methods?"
   ],
   "metadata": {
    "collapsed": false
   },
   "id": "ff9526ab2cf9d7db"
  },
  {
   "cell_type": "code",
   "execution_count": null,
   "outputs": [],
   "source": [],
   "metadata": {
    "collapsed": false
   },
   "id": "11be6028373909c4"
  }
 ],
 "metadata": {
  "kernelspec": {
   "display_name": "Python 3",
   "language": "python",
   "name": "python3"
  },
  "language_info": {
   "codemirror_mode": {
    "name": "ipython",
    "version": 2
   },
   "file_extension": ".py",
   "mimetype": "text/x-python",
   "name": "python",
   "nbconvert_exporter": "python",
   "pygments_lexer": "ipython2",
   "version": "2.7.6"
  }
 },
 "nbformat": 4,
 "nbformat_minor": 5
}
