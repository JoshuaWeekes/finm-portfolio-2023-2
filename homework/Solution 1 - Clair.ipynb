{
 "cells": [
  {
   "cell_type": "code",
   "execution_count": 1,
   "id": "initial_id",
   "metadata": {
    "collapsed": true,
    "ExecuteTime": {
     "end_time": "2023-10-01T20:22:13.391628Z",
     "start_time": "2023-10-01T20:22:12.731602Z"
    }
   },
   "outputs": [],
   "source": [
    "import pandas as pd\n",
    "import numpy as np"
   ]
  },
  {
   "cell_type": "code",
   "execution_count": 2,
   "outputs": [
    {
     "data": {
      "text/plain": "                 BWX       DBC       EEM       EFA       HYG       IEF  \\\nDate                                                                     \n2009-04-30  0.008441 -0.001553  0.155030  0.114637  0.137907 -0.028004   \n2009-05-31  0.054143  0.163134  0.159871  0.132389  0.029026 -0.020303   \n2009-06-30  0.004550 -0.026858 -0.023094 -0.014648  0.032919 -0.006170   \n2009-07-31  0.031312  0.018595  0.110173  0.100442  0.069217  0.008344   \n2009-08-31  0.007193 -0.040800 -0.013571  0.044595 -0.017404  0.007199   \n\n                 IYR       PSP       QAI       SPY       TIP  \nDate                                                          \n2009-04-30  0.295598  0.229650  0.022329  0.098793 -0.018505  \n2009-05-31  0.023198  0.054363  0.028336  0.058925  0.020437  \n2009-06-30 -0.025462  0.041443 -0.004035 -0.001254  0.001383  \n2009-07-31  0.105826  0.143274  0.015353  0.074633  0.000906  \n2009-08-31  0.131504  0.032977 -0.004586  0.036504  0.007979  ",
      "text/html": "<div>\n<style scoped>\n    .dataframe tbody tr th:only-of-type {\n        vertical-align: middle;\n    }\n\n    .dataframe tbody tr th {\n        vertical-align: top;\n    }\n\n    .dataframe thead th {\n        text-align: right;\n    }\n</style>\n<table border=\"1\" class=\"dataframe\">\n  <thead>\n    <tr style=\"text-align: right;\">\n      <th></th>\n      <th>BWX</th>\n      <th>DBC</th>\n      <th>EEM</th>\n      <th>EFA</th>\n      <th>HYG</th>\n      <th>IEF</th>\n      <th>IYR</th>\n      <th>PSP</th>\n      <th>QAI</th>\n      <th>SPY</th>\n      <th>TIP</th>\n    </tr>\n    <tr>\n      <th>Date</th>\n      <th></th>\n      <th></th>\n      <th></th>\n      <th></th>\n      <th></th>\n      <th></th>\n      <th></th>\n      <th></th>\n      <th></th>\n      <th></th>\n      <th></th>\n    </tr>\n  </thead>\n  <tbody>\n    <tr>\n      <th>2009-04-30</th>\n      <td>0.008441</td>\n      <td>-0.001553</td>\n      <td>0.155030</td>\n      <td>0.114637</td>\n      <td>0.137907</td>\n      <td>-0.028004</td>\n      <td>0.295598</td>\n      <td>0.229650</td>\n      <td>0.022329</td>\n      <td>0.098793</td>\n      <td>-0.018505</td>\n    </tr>\n    <tr>\n      <th>2009-05-31</th>\n      <td>0.054143</td>\n      <td>0.163134</td>\n      <td>0.159871</td>\n      <td>0.132389</td>\n      <td>0.029026</td>\n      <td>-0.020303</td>\n      <td>0.023198</td>\n      <td>0.054363</td>\n      <td>0.028336</td>\n      <td>0.058925</td>\n      <td>0.020437</td>\n    </tr>\n    <tr>\n      <th>2009-06-30</th>\n      <td>0.004550</td>\n      <td>-0.026858</td>\n      <td>-0.023094</td>\n      <td>-0.014648</td>\n      <td>0.032919</td>\n      <td>-0.006170</td>\n      <td>-0.025462</td>\n      <td>0.041443</td>\n      <td>-0.004035</td>\n      <td>-0.001254</td>\n      <td>0.001383</td>\n    </tr>\n    <tr>\n      <th>2009-07-31</th>\n      <td>0.031312</td>\n      <td>0.018595</td>\n      <td>0.110173</td>\n      <td>0.100442</td>\n      <td>0.069217</td>\n      <td>0.008344</td>\n      <td>0.105826</td>\n      <td>0.143274</td>\n      <td>0.015353</td>\n      <td>0.074633</td>\n      <td>0.000906</td>\n    </tr>\n    <tr>\n      <th>2009-08-31</th>\n      <td>0.007193</td>\n      <td>-0.040800</td>\n      <td>-0.013571</td>\n      <td>0.044595</td>\n      <td>-0.017404</td>\n      <td>0.007199</td>\n      <td>0.131504</td>\n      <td>0.032977</td>\n      <td>-0.004586</td>\n      <td>0.036504</td>\n      <td>0.007979</td>\n    </tr>\n  </tbody>\n</table>\n</div>"
     },
     "execution_count": 2,
     "metadata": {},
     "output_type": "execute_result"
    }
   ],
   "source": [
    "df = pd.read_excel(\"../data/multi_asset_etf_data.xlsx\", sheet_name=\"excess returns\")\n",
    "df.set_index(\"Date\", inplace=True)\n",
    "df.head()"
   ],
   "metadata": {
    "collapsed": false,
    "ExecuteTime": {
     "end_time": "2023-10-01T20:22:13.589373Z",
     "start_time": "2023-10-01T20:22:13.392239Z"
    }
   },
   "id": "1a20556662d763d5"
  },
  {
   "cell_type": "markdown",
   "source": [
    "# 1. HMC's Approach"
   ],
   "metadata": {
    "collapsed": false
   },
   "id": "830728f50a16cb4c"
  },
  {
   "cell_type": "markdown",
   "source": [
    "### 1. \n",
    "There are thousands of individual risky assets in which HMC can invest.  Explain why MV optimization across 1,000 securities is infeasible.\n",
    "\n",
    "Answer: \n",
    "Because calculate covariance matrix of 1000 securities is a resource expensive process.\n",
    "\n",
    "### 2.\n",
    "Rather than optimize across all securities directly, HMC runs a two-stage optimization.\n",
    "1. They build asset class portfolios with each one optimized over the securities of the specific asset class.  \n",
    "2. HMC combines the asset-class portfolios into one total optimized portfolio.\n",
    "\n",
    "In order for the two-stage optimization to be a good approximation of the full MV-optimization on all assets, what must be true of the partition of securities into asset classes?\n",
    "\n",
    "Answer: \n",
    "Covariance within asset classes must be much higher than across asset classes. \n",
    "??????\n",
    "\n",
    "### 3.\n",
    "Should TIPS form a new asset class or be grouped into one of the other 11 classes?\n",
    "\n",
    "Answer: \n",
    "Separate. See Q2.4. \n",
    "\n",
    "### 4. \n",
    "Why does HMC focus on real returns when analyzing its portfolio allocation? Is this just a matter of scaling, or does using real returns versus nominal returns potentially change the MV solution?\n",
    "\n",
    "Answer:\n",
    "Because the targets of HMC is to contribute 4 ~ 5% to different schools for their spending while preserve the endowment balance, if using nominal returns, there would be a mismatch between this targets and solution due to inflation.\n",
    "?????\n",
    "\n",
    "### 5.\n",
    "The case discusses the fact that Harvard places bounds on the portfolio allocation rather than implementing whatever numbers come out of the MV optimization problem.\n",
    "\n",
    "How might we adjust the stated optimization problem in the lecture notes to reflect the extra constraints Harvard is using in their bounded solutions given in Exhibits 5 and 6. Just consider how we might rewrite the optimization; don’t try to solve this extra-constrained optimization.\n",
    "\n",
    "Answer:\n",
    "Exhibit 5:\n",
    "1. weight-i in [0, 1] for i in each non-cash asset class\n",
    "2. Cash's constraint is [-0.5, 1]\n",
    "\n",
    "Exhibit 6:\n",
    "1. weight-tips in [0, 1]\n",
    "1. weight-i in [weight-i-1999 - 0.1, weight-i-1999 + 0.1] for i in each non-cash asset class\n",
    "(Cash's constraint is [-0.5, 1] but since 1999 cash weight = -0.05, and by constraints (2), no need to add extra constraint for cash)\n",
    "\n",
    "### 6. \n",
    "Exhibits 5 shows zero allocation to domestic equities and domestic bonds across the entire computed range of targeted returns, (5.75% to 7.25%). Conceptually, why is the constraint binding in all these cases? What would the unconstrained portfolio want to do with those allocations and why?\n",
    "\n",
    "Answer:\n",
    "Domestic Equity: h\n",
    "\n",
    "### 7.\n",
    "Exhibit 6 changes the constraints, (tightening them in most cases.) How much deterioration do we see in the mean-variance tradeoff that Harvard achieved?"
   ],
   "metadata": {
    "collapsed": false
   },
   "id": "14e834da4ea863a2"
  },
  {
   "cell_type": "markdown",
   "source": [
    "# 2. Mean-Variance Optimization"
   ],
   "metadata": {
    "collapsed": false
   },
   "id": "8d7db318c7ccf4e2"
  },
  {
   "cell_type": "code",
   "execution_count": 7,
   "outputs": [],
   "source": [
    "## 1. Summary Statistics\n",
    "def performance_stat(s: pd.Series) -> pd.Series:\n",
    "    \"\"\"\n",
    "    Calculate the mean, volatility, sharpe of given series\n",
    "    \n",
    "    Parameters:\n",
    "        s (pd.Series): \n",
    "            Excess return of certain asset / portfolio\n",
    "            Index: all time period (i.e. monthly)\n",
    "            \n",
    "    Returns:\n",
    "        s_stat: Series contains mean, volatility, sharpe of the input series\n",
    "    \"\"\"\n",
    "    s_stat = s.agg(['mean', 'std']).T\n",
    "    s_stat['mean'] *= 12\n",
    "    s_stat['std'] *= (12 ** (1/2))\n",
    "    s_stat['sharpe'] = s_stat['mean'] / s_stat['std']\n",
    "    return s_stat"
   ],
   "metadata": {
    "collapsed": false,
    "ExecuteTime": {
     "end_time": "2023-10-01T20:25:22.640299Z",
     "start_time": "2023-10-01T20:25:22.637913Z"
    }
   },
   "id": "452fe1def2c8d43f"
  },
  {
   "cell_type": "code",
   "execution_count": 8,
   "outputs": [
    {
     "name": "stdout",
     "output_type": "stream",
     "text": [
      "Best performer: SPY; Worse performer: BWX\n"
     ]
    },
    {
     "data": {
      "text/plain": "         mean       std    sharpe\nBWX -0.001843  0.083359 -0.022112\nDBC  0.025443  0.178975  0.142162\nIEF  0.014269  0.062405  0.228652\nEEM  0.064887  0.196531  0.330163\nPSP  0.079938  0.227387  0.351552\nQAI  0.018974  0.050810  0.373440\nTIP  0.022321  0.051529  0.433166\nEFA  0.081597  0.165991  0.491573\nIYR  0.129473  0.187101  0.691997\nHYG  0.064168  0.089154  0.719746\nSPY  0.143727  0.147679  0.973245",
      "text/html": "<div>\n<style scoped>\n    .dataframe tbody tr th:only-of-type {\n        vertical-align: middle;\n    }\n\n    .dataframe tbody tr th {\n        vertical-align: top;\n    }\n\n    .dataframe thead th {\n        text-align: right;\n    }\n</style>\n<table border=\"1\" class=\"dataframe\">\n  <thead>\n    <tr style=\"text-align: right;\">\n      <th></th>\n      <th>mean</th>\n      <th>std</th>\n      <th>sharpe</th>\n    </tr>\n  </thead>\n  <tbody>\n    <tr>\n      <th>BWX</th>\n      <td>-0.001843</td>\n      <td>0.083359</td>\n      <td>-0.022112</td>\n    </tr>\n    <tr>\n      <th>DBC</th>\n      <td>0.025443</td>\n      <td>0.178975</td>\n      <td>0.142162</td>\n    </tr>\n    <tr>\n      <th>IEF</th>\n      <td>0.014269</td>\n      <td>0.062405</td>\n      <td>0.228652</td>\n    </tr>\n    <tr>\n      <th>EEM</th>\n      <td>0.064887</td>\n      <td>0.196531</td>\n      <td>0.330163</td>\n    </tr>\n    <tr>\n      <th>PSP</th>\n      <td>0.079938</td>\n      <td>0.227387</td>\n      <td>0.351552</td>\n    </tr>\n    <tr>\n      <th>QAI</th>\n      <td>0.018974</td>\n      <td>0.050810</td>\n      <td>0.373440</td>\n    </tr>\n    <tr>\n      <th>TIP</th>\n      <td>0.022321</td>\n      <td>0.051529</td>\n      <td>0.433166</td>\n    </tr>\n    <tr>\n      <th>EFA</th>\n      <td>0.081597</td>\n      <td>0.165991</td>\n      <td>0.491573</td>\n    </tr>\n    <tr>\n      <th>IYR</th>\n      <td>0.129473</td>\n      <td>0.187101</td>\n      <td>0.691997</td>\n    </tr>\n    <tr>\n      <th>HYG</th>\n      <td>0.064168</td>\n      <td>0.089154</td>\n      <td>0.719746</td>\n    </tr>\n    <tr>\n      <th>SPY</th>\n      <td>0.143727</td>\n      <td>0.147679</td>\n      <td>0.973245</td>\n    </tr>\n  </tbody>\n</table>\n</div>"
     },
     "execution_count": 8,
     "metadata": {},
     "output_type": "execute_result"
    }
   ],
   "source": [
    "df_stat = df.apply(performance_stat).T\n",
    "df_stat.sort_values('sharpe', inplace=True)\n",
    "print(f\"Best performer: {df_stat.index[-1]}; Worse performer: {df_stat.index[0]}\")\n",
    "df_stat"
   ],
   "metadata": {
    "collapsed": false,
    "ExecuteTime": {
     "end_time": "2023-10-01T20:25:23.596231Z",
     "start_time": "2023-10-01T20:25:23.545773Z"
    }
   },
   "id": "a25c0c78f787b494"
  },
  {
   "cell_type": "code",
   "execution_count": 10,
   "outputs": [
    {
     "name": "stdout",
     "output_type": "stream",
     "text": [
      "Highest correlation: ('PSP', 'SPY'); Lowest correlation: ('DBC', 'IEF')\n"
     ]
    },
    {
     "data": {
      "text/plain": "          BWX       DBC       EEM       EFA       HYG       IEF       IYR  \\\nBWX  1.000000  0.349773  0.647614  0.621662  0.557653  0.434472  0.453534   \nDBC  0.349773  1.000000  0.565654  0.581865  0.473208 -0.321738  0.318314   \nEEM  0.647614  0.565654  1.000000  0.851579  0.726041 -0.102347  0.621814   \nEFA  0.621662  0.581865  0.851579  1.000000  0.771463 -0.132331  0.697875   \nHYG  0.557653  0.473208  0.726041  0.771463  1.000000 -0.008598  0.757649   \nIEF  0.434472 -0.321738 -0.102347 -0.132331 -0.008598  1.000000  0.073622   \nIYR  0.453534  0.318314  0.621814  0.697875  0.757649  0.073622  1.000000   \nPSP  0.524870  0.496057  0.771677  0.891929  0.823823 -0.118676  0.760158   \nQAI  0.668045  0.547936  0.807245  0.853674  0.768756  0.055667  0.655963   \nSPY  0.465713  0.509886  0.734556  0.871641  0.770353 -0.155696  0.753610   \nTIP  0.617099  0.136668  0.302729  0.287476  0.365939  0.706078  0.397166   \n\n          PSP       QAI       SPY       TIP  \nBWX  0.524870  0.668045  0.465713  0.617099  \nDBC  0.496057  0.547936  0.509886  0.136668  \nEEM  0.771677  0.807245  0.734556  0.302729  \nEFA  0.891929  0.853674  0.871641  0.287476  \nHYG  0.823823  0.768756  0.770353  0.365939  \nIEF -0.118676  0.055667 -0.155696  0.706078  \nIYR  0.760158  0.655963  0.753610  0.397166  \nPSP  1.000000  0.838287  0.895729  0.320913  \nQAI  0.838287  1.000000  0.840989  0.459712  \nSPY  0.895729  0.840989  1.000000  0.294639  \nTIP  0.320913  0.459712  0.294639  1.000000  ",
      "text/html": "<div>\n<style scoped>\n    .dataframe tbody tr th:only-of-type {\n        vertical-align: middle;\n    }\n\n    .dataframe tbody tr th {\n        vertical-align: top;\n    }\n\n    .dataframe thead th {\n        text-align: right;\n    }\n</style>\n<table border=\"1\" class=\"dataframe\">\n  <thead>\n    <tr style=\"text-align: right;\">\n      <th></th>\n      <th>BWX</th>\n      <th>DBC</th>\n      <th>EEM</th>\n      <th>EFA</th>\n      <th>HYG</th>\n      <th>IEF</th>\n      <th>IYR</th>\n      <th>PSP</th>\n      <th>QAI</th>\n      <th>SPY</th>\n      <th>TIP</th>\n    </tr>\n  </thead>\n  <tbody>\n    <tr>\n      <th>BWX</th>\n      <td>1.000000</td>\n      <td>0.349773</td>\n      <td>0.647614</td>\n      <td>0.621662</td>\n      <td>0.557653</td>\n      <td>0.434472</td>\n      <td>0.453534</td>\n      <td>0.524870</td>\n      <td>0.668045</td>\n      <td>0.465713</td>\n      <td>0.617099</td>\n    </tr>\n    <tr>\n      <th>DBC</th>\n      <td>0.349773</td>\n      <td>1.000000</td>\n      <td>0.565654</td>\n      <td>0.581865</td>\n      <td>0.473208</td>\n      <td>-0.321738</td>\n      <td>0.318314</td>\n      <td>0.496057</td>\n      <td>0.547936</td>\n      <td>0.509886</td>\n      <td>0.136668</td>\n    </tr>\n    <tr>\n      <th>EEM</th>\n      <td>0.647614</td>\n      <td>0.565654</td>\n      <td>1.000000</td>\n      <td>0.851579</td>\n      <td>0.726041</td>\n      <td>-0.102347</td>\n      <td>0.621814</td>\n      <td>0.771677</td>\n      <td>0.807245</td>\n      <td>0.734556</td>\n      <td>0.302729</td>\n    </tr>\n    <tr>\n      <th>EFA</th>\n      <td>0.621662</td>\n      <td>0.581865</td>\n      <td>0.851579</td>\n      <td>1.000000</td>\n      <td>0.771463</td>\n      <td>-0.132331</td>\n      <td>0.697875</td>\n      <td>0.891929</td>\n      <td>0.853674</td>\n      <td>0.871641</td>\n      <td>0.287476</td>\n    </tr>\n    <tr>\n      <th>HYG</th>\n      <td>0.557653</td>\n      <td>0.473208</td>\n      <td>0.726041</td>\n      <td>0.771463</td>\n      <td>1.000000</td>\n      <td>-0.008598</td>\n      <td>0.757649</td>\n      <td>0.823823</td>\n      <td>0.768756</td>\n      <td>0.770353</td>\n      <td>0.365939</td>\n    </tr>\n    <tr>\n      <th>IEF</th>\n      <td>0.434472</td>\n      <td>-0.321738</td>\n      <td>-0.102347</td>\n      <td>-0.132331</td>\n      <td>-0.008598</td>\n      <td>1.000000</td>\n      <td>0.073622</td>\n      <td>-0.118676</td>\n      <td>0.055667</td>\n      <td>-0.155696</td>\n      <td>0.706078</td>\n    </tr>\n    <tr>\n      <th>IYR</th>\n      <td>0.453534</td>\n      <td>0.318314</td>\n      <td>0.621814</td>\n      <td>0.697875</td>\n      <td>0.757649</td>\n      <td>0.073622</td>\n      <td>1.000000</td>\n      <td>0.760158</td>\n      <td>0.655963</td>\n      <td>0.753610</td>\n      <td>0.397166</td>\n    </tr>\n    <tr>\n      <th>PSP</th>\n      <td>0.524870</td>\n      <td>0.496057</td>\n      <td>0.771677</td>\n      <td>0.891929</td>\n      <td>0.823823</td>\n      <td>-0.118676</td>\n      <td>0.760158</td>\n      <td>1.000000</td>\n      <td>0.838287</td>\n      <td>0.895729</td>\n      <td>0.320913</td>\n    </tr>\n    <tr>\n      <th>QAI</th>\n      <td>0.668045</td>\n      <td>0.547936</td>\n      <td>0.807245</td>\n      <td>0.853674</td>\n      <td>0.768756</td>\n      <td>0.055667</td>\n      <td>0.655963</td>\n      <td>0.838287</td>\n      <td>1.000000</td>\n      <td>0.840989</td>\n      <td>0.459712</td>\n    </tr>\n    <tr>\n      <th>SPY</th>\n      <td>0.465713</td>\n      <td>0.509886</td>\n      <td>0.734556</td>\n      <td>0.871641</td>\n      <td>0.770353</td>\n      <td>-0.155696</td>\n      <td>0.753610</td>\n      <td>0.895729</td>\n      <td>0.840989</td>\n      <td>1.000000</td>\n      <td>0.294639</td>\n    </tr>\n    <tr>\n      <th>TIP</th>\n      <td>0.617099</td>\n      <td>0.136668</td>\n      <td>0.302729</td>\n      <td>0.287476</td>\n      <td>0.365939</td>\n      <td>0.706078</td>\n      <td>0.397166</td>\n      <td>0.320913</td>\n      <td>0.459712</td>\n      <td>0.294639</td>\n      <td>1.000000</td>\n    </tr>\n  </tbody>\n</table>\n</div>"
     },
     "execution_count": 10,
     "metadata": {},
     "output_type": "execute_result"
    }
   ],
   "source": [
    "## 2. Descriptive Analysis\n",
    "df_corr = df.corr()\n",
    "df_corr_unstack = df_corr.unstack().sort_values()\n",
    "df_corr_unstack = df_corr_unstack[df_corr_unstack < 1]\n",
    "print(f\"Highest correlation: {df_corr_unstack.index[-1]}; Lowest correlation: {df_corr_unstack.index[0]}\")\n",
    "df_corr"
   ],
   "metadata": {
    "collapsed": false,
    "ExecuteTime": {
     "end_time": "2023-10-01T20:27:09.601591Z",
     "start_time": "2023-10-01T20:27:09.587477Z"
    }
   },
   "id": "3d7c219a6f64dca0"
  },
  {
   "cell_type": "code",
   "execution_count": 92,
   "outputs": [
    {
     "name": "stdout",
     "output_type": "stream",
     "text": [
      "By table 1, TIP has higher mean return and sharpe ratio than IEF (domestic bonds) and BWX (foreign bonds).\n"
     ]
    }
   ],
   "source": [
    "print(\"By table 1, TIP has higher mean return and sharpe ratio than IEF (domestic bonds) and BWX (foreign bonds).\")"
   ],
   "metadata": {
    "collapsed": false,
    "ExecuteTime": {
     "end_time": "2023-10-01T17:39:28.916478Z",
     "start_time": "2023-10-01T17:39:28.908964Z"
    }
   },
   "id": "25063b52592fdc7a"
  },
  {
   "cell_type": "code",
   "execution_count": 73,
   "outputs": [],
   "source": [
    "## 3. The MV frontier\n",
    "def mv_frontier_tang(df: pd.DataFrame, is_reg: bool = False) -> pd.Series:\n",
    "    \"\"\"\n",
    "    Calculate the tangent portfolio weight on efficient frontier\n",
    "    \n",
    "    Parameters:\n",
    "        df (pd.DataFrame): \n",
    "            Excess return df.\n",
    "            Columns: all assets\n",
    "            Index: all time period (i.e. monthly)\n",
    "        is_reg (bool): \n",
    "            If True, use regularized covariance matrix.\n",
    "            \n",
    "    Returns:\n",
    "        weight_tang: tangent portfolio weight in ascending order\n",
    "    \"\"\"\n",
    "    df_cov_ann = df.cov()\n",
    "    if is_reg:\n",
    "        df_cov_ann += np.diag(np.diag(df_cov_ann))\n",
    "        df_cov_ann /= 2\n",
    "    df_cov_mean = pd.Series(np.linalg.inv(df_cov_ann) @ df.mean(), \n",
    "                            index=df_cov_ann.columns.to_list(),\n",
    "                            name='Tangency Weight')\n",
    "    df_tang = df_cov_mean / df_cov_mean.sum()\n",
    "    df_tang.sort_values(inplace=True)\n",
    "    return df_tang"
   ],
   "metadata": {
    "collapsed": false,
    "ExecuteTime": {
     "end_time": "2023-10-01T22:07:03.088611Z",
     "start_time": "2023-10-01T22:07:03.082062Z"
    }
   },
   "id": "857930a181e62382"
  },
  {
   "cell_type": "code",
   "execution_count": 15,
   "outputs": [
    {
     "data": {
      "text/plain": "QAI   -3.133445\nBWX   -1.464974\nPSP   -1.271055\nIYR   -0.242772\nDBC    0.028436\nEEM    0.261028\nTIP    0.356935\nEFA    0.452914\nHYG    1.528942\nIEF    1.893992\nSPY    2.589999\nName: Tangency Weight, dtype: float64"
     },
     "execution_count": 15,
     "metadata": {},
     "output_type": "execute_result"
    }
   ],
   "source": [
    "weight_tang = mv_frontier_tang(df)\n",
    "weight_tang"
   ],
   "metadata": {
    "collapsed": false,
    "ExecuteTime": {
     "end_time": "2023-10-01T20:38:02.644299Z",
     "start_time": "2023-10-01T20:38:02.589575Z"
    }
   },
   "id": "ecf09a7b40f543f3"
  },
  {
   "cell_type": "code",
   "execution_count": 74,
   "outputs": [
    {
     "name": "stdout",
     "output_type": "stream",
     "text": [
      "The ranking of weight of tangency portfolio != sharpe ratio rank.\n"
     ]
    }
   ],
   "source": [
    "print(f\"The ranking of weight of tangency portfolio \"\n",
    "      f\"{'=' if all(df_stat.index == weight_tang.index) else '!='} sharpe ratio rank.\")"
   ],
   "metadata": {
    "collapsed": false,
    "ExecuteTime": {
     "end_time": "2023-10-01T22:07:07.133415Z",
     "start_time": "2023-10-01T22:07:07.124505Z"
    }
   },
   "id": "fb68bc7add84f547"
  },
  {
   "cell_type": "code",
   "execution_count": 75,
   "outputs": [
    {
     "data": {
      "text/plain": "mean      0.370180\nstd       0.191523\nsharpe    1.932824\ndtype: float64"
     },
     "execution_count": 75,
     "metadata": {},
     "output_type": "execute_result"
    }
   ],
   "source": [
    "df_tang = (df * weight_tang.loc[df.columns]).sum(axis=1)\n",
    "df_tang_stat = performance_stat(df_tang)\n",
    "df_tang_stat"
   ],
   "metadata": {
    "collapsed": false,
    "ExecuteTime": {
     "end_time": "2023-10-01T22:07:07.708012Z",
     "start_time": "2023-10-01T22:07:07.702491Z"
    }
   },
   "id": "a1df440a27c4e6ce"
  },
  {
   "cell_type": "code",
   "execution_count": 76,
   "outputs": [
    {
     "data": {
      "text/plain": "mean      0.386291\nstd       0.200111\nsharpe    1.930383\ndtype: float64"
     },
     "execution_count": 76,
     "metadata": {},
     "output_type": "execute_result"
    }
   ],
   "source": [
    "## 4. TIPS\n",
    "\n",
    "# a) without TIPS\n",
    "weight_tang_excl_tips = mv_frontier_tang(df.drop(columns=[\"TIP\"]))\n",
    "df_tang_excl_tips = (df * weight_tang_excl_tips.loc[df.drop(columns=[\"TIP\"]).columns]).sum(axis=1)\n",
    "performance_stat(df_tang_excl_tips)"
   ],
   "metadata": {
    "collapsed": false,
    "ExecuteTime": {
     "end_time": "2023-10-01T22:07:08.888097Z",
     "start_time": "2023-10-01T22:07:08.861424Z"
    }
   },
   "id": "86ecbcf13096b04c"
  },
  {
   "cell_type": "code",
   "execution_count": 77,
   "outputs": [
    {
     "data": {
      "text/plain": "BWX   -0.047776\nDBC    0.026721\nEEM    0.017058\nEFA   -0.011418\nHYG    0.064197\nIEF    0.318459\nIYR   -0.003123\nPSP   -0.043037\nQAI   -0.105510\nSPY    0.141364\nTIP         NaN\nName: Tangency Weight, dtype: float64"
     },
     "execution_count": 77,
     "metadata": {},
     "output_type": "execute_result"
    }
   ],
   "source": [
    "# Change of tangent portfolio\n",
    "weight_tang_excl_tips - weight_tang"
   ],
   "metadata": {
    "collapsed": false,
    "ExecuteTime": {
     "end_time": "2023-10-01T22:07:09.169153Z",
     "start_time": "2023-10-01T22:07:09.160589Z"
    }
   },
   "id": "45c3e384f1a71067"
  },
  {
   "cell_type": "code",
   "execution_count": 78,
   "outputs": [
    {
     "data": {
      "text/plain": "mean      0.328908\nstd       0.161947\nsharpe    2.030967\ndtype: float64"
     },
     "execution_count": 78,
     "metadata": {},
     "output_type": "execute_result"
    }
   ],
   "source": [
    "# a) TIPS += 0.0012\n",
    "df_tip_adj = df.copy()\n",
    "df_tip_adj[\"TIP\"] += 0.0012\n",
    "weight_tang_adj_tips = mv_frontier_tang(df_tip_adj)\n",
    "df_tang_adj_tips = (df_tip_adj * weight_tang_adj_tips.loc[df_tip_adj.columns]).sum(axis=1)\n",
    "performance_stat(df_tang_adj_tips)"
   ],
   "metadata": {
    "collapsed": false,
    "ExecuteTime": {
     "end_time": "2023-10-01T22:07:09.667061Z",
     "start_time": "2023-10-01T22:07:09.622359Z"
    }
   },
   "id": "5e82cab0053fe9ef"
  },
  {
   "cell_type": "code",
   "execution_count": 79,
   "outputs": [
    {
     "data": {
      "text/plain": "BWX    0.202111\nDBC   -0.113042\nEEM   -0.072163\nEFA    0.048303\nHYG   -0.271582\nIEF   -1.347217\nIYR    0.013213\nPSP    0.182065\nQAI    0.446354\nSPY   -0.598029\nTIP    1.509987\nName: Tangency Weight, dtype: float64"
     },
     "execution_count": 79,
     "metadata": {},
     "output_type": "execute_result"
    }
   ],
   "source": [
    "# Change of tangent portfolio\n",
    "weight_tang_adj_tips - weight_tang"
   ],
   "metadata": {
    "collapsed": false,
    "ExecuteTime": {
     "end_time": "2023-10-01T22:07:10.369616Z",
     "start_time": "2023-10-01T22:07:10.362937Z"
    }
   },
   "id": "f097cadc50252df3"
  },
  {
   "cell_type": "code",
   "execution_count": 80,
   "outputs": [],
   "source": [
    "# Based on the results, TIPS should be not considered as a separate assets\n",
    "# 1. sharpe ratio of tangent portfolio with/without TIPS is almost the same (with-TIPS has marginal advantage);\n",
    "# 2. when TIPS increase overall, tangent portfolio has a higher sharpe"
   ],
   "metadata": {
    "collapsed": false,
    "ExecuteTime": {
     "end_time": "2023-10-01T22:07:11.220156Z",
     "start_time": "2023-10-01T22:07:11.215649Z"
    }
   },
   "id": "62e44eff8bcce73a"
  },
  {
   "cell_type": "markdown",
   "source": [
    "# 3. Allocation"
   ],
   "metadata": {
    "collapsed": false
   },
   "id": "4de99a1cc81c3537"
  },
  {
   "cell_type": "code",
   "execution_count": 81,
   "outputs": [
    {
     "data": {
      "text/plain": "Date\n2009-04-30    0.189311\n2009-05-31    0.131303\n2009-06-30   -0.003961\n2009-07-31    0.126554\n2009-08-31    0.035758\n                ...   \n2023-04-30    0.009788\n2023-05-31   -0.054093\n2023-06-30    0.049935\n2023-07-31    0.052559\n2023-08-31   -0.049650\nLength: 173, dtype: float64"
     },
     "execution_count": 81,
     "metadata": {},
     "output_type": "execute_result"
    }
   ],
   "source": [
    "df_ew = df.mean(axis=1)\n",
    "df_ew *= 0.01 / df_ew.mean()        # rescale for target return (i.e. weights not sum to 1)\n",
    "df_ew"
   ],
   "metadata": {
    "collapsed": false,
    "ExecuteTime": {
     "end_time": "2023-10-01T22:07:12.339130Z",
     "start_time": "2023-10-01T22:07:12.327892Z"
    }
   },
   "id": "3e3596edc76347ad"
  },
  {
   "cell_type": "code",
   "execution_count": 82,
   "outputs": [
    {
     "data": {
      "text/plain": "Date\n2009-04-30    0.104082\n2009-05-31    0.116919\n2009-06-30    0.000589\n2009-07-31    0.102312\n2009-08-31    0.021531\n                ...   \n2023-04-30    0.005043\n2023-05-31   -0.070606\n2023-06-30    0.026585\n2023-07-31    0.031494\n2023-08-31   -0.058573\nLength: 173, dtype: float64"
     },
     "execution_count": 82,
     "metadata": {},
     "output_type": "execute_result"
    }
   ],
   "source": [
    "rp_weight = 12 / df.var()\n",
    "rp_weight = rp_weight / rp_weight.sum()\n",
    "df_rp = (df * rp_weight).sum(axis=1)\n",
    "df_rp *= 0.01 / df_rp.mean() \n",
    "df_rp"
   ],
   "metadata": {
    "collapsed": false,
    "ExecuteTime": {
     "end_time": "2023-10-01T22:07:13.316197Z",
     "start_time": "2023-10-01T22:07:13.308843Z"
    }
   },
   "id": "cf54ce74ebdc4773"
  },
  {
   "cell_type": "code",
   "execution_count": 83,
   "outputs": [
    {
     "data": {
      "text/plain": "Date\n2009-04-30    0.104374\n2009-05-31    0.010093\n2009-06-30    0.002777\n2009-07-31    0.056504\n2009-08-31    0.033247\n                ...   \n2023-04-30    0.009056\n2023-05-31   -0.007136\n2023-06-30    0.024594\n2023-07-31    0.001026\n2023-08-31   -0.007315\nLength: 173, dtype: float64"
     },
     "execution_count": 83,
     "metadata": {},
     "output_type": "execute_result"
    }
   ],
   "source": [
    "weight_reg = mv_frontier_tang(df, is_reg=True)\n",
    "df_reg = (df * weight_reg.loc[df.columns]).sum(axis=1)\n",
    "df_reg *= 0.01 / df_reg.mean() \n",
    "df_reg"
   ],
   "metadata": {
    "collapsed": false,
    "ExecuteTime": {
     "end_time": "2023-10-01T22:07:14.284447Z",
     "start_time": "2023-10-01T22:07:14.255900Z"
    }
   },
   "id": "d59799bef76b7cd8"
  },
  {
   "cell_type": "code",
   "execution_count": 84,
   "outputs": [
    {
     "data": {
      "text/plain": "         Tangent  Equal Weight  Risk Parity  Regularized\nmean    0.120000      0.120000     0.120000     0.120000\nstd     0.062085      0.213275     0.217685     0.094096\nsharpe  1.932824      0.562655     0.551256     1.275299",
      "text/html": "<div>\n<style scoped>\n    .dataframe tbody tr th:only-of-type {\n        vertical-align: middle;\n    }\n\n    .dataframe tbody tr th {\n        vertical-align: top;\n    }\n\n    .dataframe thead th {\n        text-align: right;\n    }\n</style>\n<table border=\"1\" class=\"dataframe\">\n  <thead>\n    <tr style=\"text-align: right;\">\n      <th></th>\n      <th>Tangent</th>\n      <th>Equal Weight</th>\n      <th>Risk Parity</th>\n      <th>Regularized</th>\n    </tr>\n  </thead>\n  <tbody>\n    <tr>\n      <th>mean</th>\n      <td>0.120000</td>\n      <td>0.120000</td>\n      <td>0.120000</td>\n      <td>0.120000</td>\n    </tr>\n    <tr>\n      <th>std</th>\n      <td>0.062085</td>\n      <td>0.213275</td>\n      <td>0.217685</td>\n      <td>0.094096</td>\n    </tr>\n    <tr>\n      <th>sharpe</th>\n      <td>1.932824</td>\n      <td>0.562655</td>\n      <td>0.551256</td>\n      <td>1.275299</td>\n    </tr>\n  </tbody>\n</table>\n</div>"
     },
     "execution_count": 84,
     "metadata": {},
     "output_type": "execute_result"
    }
   ],
   "source": [
    "df_tang_rescale = df_tang * 0.01 / df_tang.mean() \n",
    "\n",
    "stat_comp = pd.concat([performance_stat(df_tang_rescale).rename('Tangent'), \n",
    "                       performance_stat(df_ew).rename('Equal Weight'),\n",
    "                       performance_stat(df_rp).rename('Risk Parity'),\n",
    "                       performance_stat(df_reg).rename('Regularized')], axis=1)\n",
    "stat_comp"
   ],
   "metadata": {
    "collapsed": false,
    "ExecuteTime": {
     "end_time": "2023-10-01T22:07:15.178167Z",
     "start_time": "2023-10-01T22:07:15.173472Z"
    }
   },
   "id": "f5f4c29b525e5d56"
  },
  {
   "cell_type": "code",
   "execution_count": null,
   "outputs": [],
   "source": [],
   "metadata": {
    "collapsed": false
   },
   "id": "548eee7cb571c58e"
  }
 ],
 "metadata": {
  "kernelspec": {
   "display_name": "Python 3",
   "language": "python",
   "name": "python3"
  },
  "language_info": {
   "codemirror_mode": {
    "name": "ipython",
    "version": 2
   },
   "file_extension": ".py",
   "mimetype": "text/x-python",
   "name": "python",
   "nbconvert_exporter": "python",
   "pygments_lexer": "ipython2",
   "version": "2.7.6"
  }
 },
 "nbformat": 4,
 "nbformat_minor": 5
}
