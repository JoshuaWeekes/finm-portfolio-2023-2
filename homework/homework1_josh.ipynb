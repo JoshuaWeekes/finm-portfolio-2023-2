{
 "cells": [
  {
   "cell_type": "markdown",
   "id": "a97c4251",
   "metadata": {},
   "source": [
    "# Homework 1\n",
    "\n",
    "## FINM 36700 - 2023\n",
    "\n",
    "### UChicago Financial Mathematics\n",
    "\n",
    "* Mark Hendricks\n",
    "* hendricks@uchicago.edu\n",
    "\n",
    "## HBS Case\n",
    "\n",
    "### *The Harvard Management Company and Inflation-Indexed Bonds*"
   ]
  },
  {
   "cell_type": "markdown",
   "id": "cef92ba4",
   "metadata": {},
   "source": [
    "### Notation\n",
    "(Hidden LaTeX commands)\n",
    "\n",
    "$$\\newcommand{\\mux}{\\tilde{\\boldsymbol{\\mu}}}$$\n",
    "$$\\newcommand{\\wtan}{\\boldsymbol{\\text{w}}^{\\text{tan}}}$$\n",
    "$$\\newcommand{\\wtarg}{\\boldsymbol{\\text{w}}^{\\text{port}}}$$\n",
    "$$\\newcommand{\\mutarg}{\\tilde{\\boldsymbol{\\mu}}^{\\text{port}}}$$\n",
    "$$\\newcommand{\\wEW}{\\boldsymbol{\\text{w}}^{\\text{EW}}}$$\n",
    "$$\\newcommand{\\wRP}{\\boldsymbol{\\text{w}}^{\\text{RP}}}$$\n",
    "$$\\newcommand{\\wREG}{\\boldsymbol{\\text{w}}^{\\text{REG}}}$$"
   ]
  },
  {
   "cell_type": "markdown",
   "id": "cbb624b4",
   "metadata": {},
   "source": [
    "***"
   ]
  },
  {
   "cell_type": "markdown",
   "id": "31dfdadc",
   "metadata": {},
   "source": [
    "# 1. HMC's Approach\n",
    "\n",
    "**Section 1 is not graded**, and you do not need to submit your answers. But you are encouraged to think about them, and we will discuss them."
   ]
  },
  {
   "cell_type": "markdown",
   "id": "77eafffb",
   "metadata": {},
   "source": [
    "### 1. \n",
    "There are thousands of individual risky assets in which HMC can invest.  Explain why MV optimization across 1,000 securities is infeasible.\n",
    "\n",
    "### 2.\n",
    "Rather than optimize across all securities directly, HMC runs a two-stage optimization.\n",
    "1. They build asset class portfolios with each one optimized over the securities of the specific asset class.  \n",
    "2. HMC combines the asset-class portfolios into one total optimized portfolio.\n",
    "\n",
    "In order for the two-stage optimization to be a good approximation of the full MV-optimization on all assets, what must be true of the partition of securities into asset classes?\n",
    "\n",
    "### 3.\n",
    "Should TIPS form a new asset class or be grouped into one of the other 11 classes?\n",
    "\n",
    "### 4. \n",
    "Why does HMC focus on real returns when analyzing its portfolio allocation? Is this just a matter of scaling, or does using real returns versus nominal returns potentially change the MV solution?\n",
    "\n",
    "### 5.\n",
    "The case discusses the fact that Harvard places bounds on the portfolio allocation rather than implementing whatever numbers come out of the MV optimization problem.\n",
    "\n",
    "How might we adjust the stated optimization problem in the lecture notes to reflect the extra constraints Harvard is using in their bounded solutions given in Exhibits 5 and 6. Just consider how we might rewrite the optimization; don’t try to solve this extra-constrained optimization.\n",
    "\n",
    "### 6. \n",
    "Exhibits 5 shows zero allocation to domestic equities and domestic bonds across the entire computed range of targeted returns, (5.75% to 7.25%). Conceptually, why is the constraint binding in all these cases? What would the unconstrained portfolio want to do with those allocations and why?\n",
    "\n",
    "### 7.\n",
    "Exhibit 6 changes the constraints, (tightening them in most cases.) How much deterioration do we see in the mean-variance tradeoff that Harvard achieved?"
   ]
  },
  {
   "cell_type": "markdown",
   "id": "f7d7adf1",
   "metadata": {},
   "source": [
    "***"
   ]
  },
  {
   "cell_type": "markdown",
   "id": "d1614003",
   "metadata": {},
   "source": [
    "# 2 Mean-Variance Optimization\n",
    "\n",
    "<i>This section is graded for a good-faith effort by your group. Submit your write-up- along with your supporting code. \n",
    "    \n",
    "    Don't just submit code or messy numbers; submit a coherent write-up based on your work.</i>\n",
    "\n",
    "### Data\n",
    "You will need the file in the github repo, `data/multi_asset_etf_data.xlsx`.\n",
    "- The time-series data gives monthly returns for the 11 asset classes and a short-term Treasury-bill fund return, (\"SHV\",) which we consider as the risk-free rate.\n",
    "- The data is provided in total returns, (in which case you should ignore the SHV column,) as well as excess returns, (where SHV has been subtracted from the other columns.)\n",
    "- These are nominal returns-they are not adjusted for inflation, and in our calculations we are not making any adjustment for inflation.\n",
    "- The exhibit data that comes via Harvard with the case is unnecessary for our analysis.\n",
    "\n",
    "### Model\n",
    "We are going to analyze the problem in terms of **excess** returns.\n",
    "- Thus, you will focus on the `Excess Returns` section of the lecture notes, especially the formulas on slide 50.\n",
    "- Be sure to use the`excess returns` tab of the data.\n",
    "\n",
    "### Format\n",
    "In the questions below, **annualize the statistics** you report.\n",
    "- Annualize the mean of monthly returns with a scaling of 12.\n",
    "- Annualize the volatility of monthly returns with a scaling of $\\sqrt{12}$\n",
    "- The Sharpe Ratio is the mean return divided by the volatility of returns. Accordingly, we can annualize the Sharpe Ratio with a scaling of $\\sqrt{12}$\n",
    "- Note that we are not scaling the raw timeseries data, just the statistics computed from it (mean, vol, Sharpe). "
   ]
  },
  {
   "cell_type": "markdown",
   "id": "1d8cbaf7",
   "metadata": {},
   "source": [
    "Importing Packages"
   ]
  },
  {
   "cell_type": "code",
   "execution_count": 1,
   "id": "02d7f066",
   "metadata": {},
   "outputs": [],
   "source": [
    "import pandas as pd\n",
    "import numpy as np\n",
    "pd.options.display.float_format = \"{:,.4f}\".format\n",
    "\n",
    "import matplotlib.pyplot as plt\n",
    "import seaborn as sns\n",
    "\n",
    "import statsmodels.api as sm\n",
    "from sklearn.linear_model import LinearRegression\n",
    "\n",
    "import warnings\n",
    "warnings.filterwarnings(\"ignore\")"
   ]
  },
  {
   "cell_type": "markdown",
   "id": "8ccdb341",
   "metadata": {},
   "source": [
    "Import data from excess returns tab of excel"
   ]
  },
  {
   "cell_type": "code",
   "execution_count": 2,
   "id": "ccb72336",
   "metadata": {},
   "outputs": [
    {
     "data": {
      "text/html": [
       "<div>\n",
       "<style scoped>\n",
       "    .dataframe tbody tr th:only-of-type {\n",
       "        vertical-align: middle;\n",
       "    }\n",
       "\n",
       "    .dataframe tbody tr th {\n",
       "        vertical-align: top;\n",
       "    }\n",
       "\n",
       "    .dataframe thead th {\n",
       "        text-align: right;\n",
       "    }\n",
       "</style>\n",
       "<table border=\"1\" class=\"dataframe\">\n",
       "  <thead>\n",
       "    <tr style=\"text-align: right;\">\n",
       "      <th></th>\n",
       "      <th>BWX</th>\n",
       "      <th>DBC</th>\n",
       "      <th>EEM</th>\n",
       "      <th>EFA</th>\n",
       "      <th>HYG</th>\n",
       "      <th>IEF</th>\n",
       "      <th>IYR</th>\n",
       "      <th>PSP</th>\n",
       "      <th>QAI</th>\n",
       "      <th>SPY</th>\n",
       "      <th>TIP</th>\n",
       "    </tr>\n",
       "    <tr>\n",
       "      <th>Date</th>\n",
       "      <th></th>\n",
       "      <th></th>\n",
       "      <th></th>\n",
       "      <th></th>\n",
       "      <th></th>\n",
       "      <th></th>\n",
       "      <th></th>\n",
       "      <th></th>\n",
       "      <th></th>\n",
       "      <th></th>\n",
       "      <th></th>\n",
       "    </tr>\n",
       "  </thead>\n",
       "  <tbody>\n",
       "    <tr>\n",
       "      <th>2009-04-30</th>\n",
       "      <td>0.0084</td>\n",
       "      <td>-0.0016</td>\n",
       "      <td>0.1550</td>\n",
       "      <td>0.1146</td>\n",
       "      <td>0.1379</td>\n",
       "      <td>-0.0280</td>\n",
       "      <td>0.2956</td>\n",
       "      <td>0.2296</td>\n",
       "      <td>0.0223</td>\n",
       "      <td>0.0988</td>\n",
       "      <td>-0.0185</td>\n",
       "    </tr>\n",
       "    <tr>\n",
       "      <th>2009-05-31</th>\n",
       "      <td>0.0541</td>\n",
       "      <td>0.1631</td>\n",
       "      <td>0.1599</td>\n",
       "      <td>0.1324</td>\n",
       "      <td>0.0290</td>\n",
       "      <td>-0.0203</td>\n",
       "      <td>0.0232</td>\n",
       "      <td>0.0544</td>\n",
       "      <td>0.0283</td>\n",
       "      <td>0.0589</td>\n",
       "      <td>0.0204</td>\n",
       "    </tr>\n",
       "    <tr>\n",
       "      <th>2009-06-30</th>\n",
       "      <td>0.0045</td>\n",
       "      <td>-0.0269</td>\n",
       "      <td>-0.0231</td>\n",
       "      <td>-0.0146</td>\n",
       "      <td>0.0329</td>\n",
       "      <td>-0.0062</td>\n",
       "      <td>-0.0255</td>\n",
       "      <td>0.0414</td>\n",
       "      <td>-0.0040</td>\n",
       "      <td>-0.0013</td>\n",
       "      <td>0.0014</td>\n",
       "    </tr>\n",
       "    <tr>\n",
       "      <th>2009-07-31</th>\n",
       "      <td>0.0313</td>\n",
       "      <td>0.0186</td>\n",
       "      <td>0.1102</td>\n",
       "      <td>0.1004</td>\n",
       "      <td>0.0692</td>\n",
       "      <td>0.0083</td>\n",
       "      <td>0.1058</td>\n",
       "      <td>0.1433</td>\n",
       "      <td>0.0154</td>\n",
       "      <td>0.0746</td>\n",
       "      <td>0.0009</td>\n",
       "    </tr>\n",
       "    <tr>\n",
       "      <th>2009-08-31</th>\n",
       "      <td>0.0072</td>\n",
       "      <td>-0.0408</td>\n",
       "      <td>-0.0136</td>\n",
       "      <td>0.0446</td>\n",
       "      <td>-0.0174</td>\n",
       "      <td>0.0072</td>\n",
       "      <td>0.1315</td>\n",
       "      <td>0.0330</td>\n",
       "      <td>-0.0046</td>\n",
       "      <td>0.0365</td>\n",
       "      <td>0.0080</td>\n",
       "    </tr>\n",
       "  </tbody>\n",
       "</table>\n",
       "</div>"
      ],
      "text/plain": [
       "              BWX     DBC     EEM     EFA     HYG     IEF     IYR    PSP  \\\n",
       "Date                                                                       \n",
       "2009-04-30 0.0084 -0.0016  0.1550  0.1146  0.1379 -0.0280  0.2956 0.2296   \n",
       "2009-05-31 0.0541  0.1631  0.1599  0.1324  0.0290 -0.0203  0.0232 0.0544   \n",
       "2009-06-30 0.0045 -0.0269 -0.0231 -0.0146  0.0329 -0.0062 -0.0255 0.0414   \n",
       "2009-07-31 0.0313  0.0186  0.1102  0.1004  0.0692  0.0083  0.1058 0.1433   \n",
       "2009-08-31 0.0072 -0.0408 -0.0136  0.0446 -0.0174  0.0072  0.1315 0.0330   \n",
       "\n",
       "               QAI     SPY     TIP  \n",
       "Date                                \n",
       "2009-04-30  0.0223  0.0988 -0.0185  \n",
       "2009-05-31  0.0283  0.0589  0.0204  \n",
       "2009-06-30 -0.0040 -0.0013  0.0014  \n",
       "2009-07-31  0.0154  0.0746  0.0009  \n",
       "2009-08-31 -0.0046  0.0365  0.0080  "
      ]
     },
     "execution_count": 2,
     "metadata": {},
     "output_type": "execute_result"
    }
   ],
   "source": [
    "multi_asset_etf_excess_ret = pd.read_excel('..\\data\\multi_asset_etf_data.xlsx', sheet_name = 'excess returns').set_index('Date')\n",
    "multi_asset_etf_excess_ret.head(5)"
   ]
  },
  {
   "cell_type": "code",
   "execution_count": 3,
   "id": "f7bce681",
   "metadata": {},
   "outputs": [
    {
     "data": {
      "text/plain": [
       "BWX    float64\n",
       "DBC    float64\n",
       "EEM    float64\n",
       "EFA    float64\n",
       "HYG    float64\n",
       "IEF    float64\n",
       "IYR    float64\n",
       "PSP    float64\n",
       "QAI    float64\n",
       "SPY    float64\n",
       "TIP    float64\n",
       "dtype: object"
      ]
     },
     "execution_count": 3,
     "metadata": {},
     "output_type": "execute_result"
    }
   ],
   "source": [
    "multi_asset_etf_excess_ret.dtypes"
   ]
  },
  {
   "cell_type": "markdown",
   "id": "a36ad2c8",
   "metadata": {},
   "source": [
    "Create helper function to find annualized summary statistics"
   ]
  },
  {
   "cell_type": "code",
   "execution_count": 4,
   "id": "093ba2f7",
   "metadata": {},
   "outputs": [],
   "source": [
    "def summary_statistics_annualized(returns, annual_factor = 12):\n",
    "    #This function returns the summary statistics for the input total/excess returns passed in\n",
    "\n",
    "    summary_statistics = pd.DataFrame(index=returns.columns)\n",
    "    summary_statistics['Mean'] = returns.mean() * annual_factor\n",
    "    summary_statistics['Vol'] = returns.std() * np.sqrt(annual_factor)\n",
    "    summary_statistics['Sharpe'] = (returns.mean() / returns.std()) * np.sqrt(annual_factor)\n",
    "    summary_statistics['Min'] = returns.min()\n",
    "    summary_statistics['Max'] = returns.max()\n",
    "    summary_statistics['Skewness'] = returns.skew()\n",
    "    summary_statistics['Excess Kurtosis'] = returns.kurtosis()\n",
    "    summary_statistics['Var (0.05)'] = returns.quantile(.05,axis = 0)\n",
    "    summary_statistics['CVaR (0.05)'] = returns[returns <= returns.quantile(.05, axis = 0)].mean()\n",
    "\n",
    "    return summary_statistics"
   ]
  },
  {
   "cell_type": "markdown",
   "id": "afa47172",
   "metadata": {},
   "source": [
    "### Footnotes\n",
    "\n",
    "#### Data File\n",
    "* The case does not give time-series data, so this data has been compiled outside of the case, and it intends to represent the main asset classes under consideration via various ETFs. For details on the specific securities/indexes, check the “Info” tab of the data.\n",
    "\n",
    "#### Risk-free rate\n",
    "* In the lecture-note we considered a constant risk-free rate. It is okay that our risk-free rate changes over time, but the assumption is that investors know it’s value one-period ahead of time. Thus, at any given point in time, it is a risk-free rate for the next period. (This is often discussed as the \"bank account\" or \"money market account\" in other settings."
   ]
  },
  {
   "cell_type": "markdown",
   "id": "d3962427",
   "metadata": {},
   "source": [
    "## 1. Summary Statistics\n",
    "* Calculate and display the mean and volatility of each asset’s excess return. (Recall we use volatility to refer to standard deviation.)\n",
    "* Which assets have the best and worst Sharpe ratios? Recall that the Sharpe Ratio is simply the ratio of the mean-to-volatility of excess returns:\n",
    "$$\\text{sharpe ratio of investment }i = \\frac{\\mux_i}{\\sigma_i}$$\n",
    "\n",
    "## 2. Descriptive Analysis\n",
    "* Calculate the correlation matrix of the returns. Which pair has the highest correlation? And the lowest?\n",
    "* How well have TIPS done in our sample? Have they outperformed domestic bonds? Foreign bonds?\n",
    "\n",
    "## 3. The MV frontier.\n",
    "* Compute and display the weights of the tangency portfolios: $\\wtan$.\n",
    "* Does the ranking of weights align with the ranking of Sharpe ratios?\n",
    "* Compute the mean, volatility, and Sharpe ratio for the tangency portfolio corresponding to\n",
    "$\\wtan$.\n",
    "\n",
    "## 4. TIPS\n",
    "Assess how much the tangency portfolio (and performance) change if...\n",
    "* TIPS are dropped completely from the investment set.\n",
    "* The expected excess return to TIPS is adjusted to be 0.0012 higher than what the historic sample shows.\n",
    "\n",
    "Based on the analysis, do TIPS seem to expand the investment opportunity set, implying that Harvard should consider them as a separate asset?"
   ]
  },
  {
   "cell_type": "markdown",
   "id": "f723e621",
   "metadata": {},
   "source": [
    "Question 1"
   ]
  },
  {
   "cell_type": "code",
   "execution_count": 36,
   "id": "7840592d",
   "metadata": {},
   "outputs": [
    {
     "data": {
      "text/html": [
       "<div>\n",
       "<style scoped>\n",
       "    .dataframe tbody tr th:only-of-type {\n",
       "        vertical-align: middle;\n",
       "    }\n",
       "\n",
       "    .dataframe tbody tr th {\n",
       "        vertical-align: top;\n",
       "    }\n",
       "\n",
       "    .dataframe thead th {\n",
       "        text-align: right;\n",
       "    }\n",
       "</style>\n",
       "<table border=\"1\" class=\"dataframe\">\n",
       "  <thead>\n",
       "    <tr style=\"text-align: right;\">\n",
       "      <th></th>\n",
       "      <th>Mean</th>\n",
       "      <th>Vol</th>\n",
       "      <th>Sharpe</th>\n",
       "      <th>Min</th>\n",
       "      <th>Max</th>\n",
       "      <th>Skewness</th>\n",
       "      <th>Excess Kurtosis</th>\n",
       "      <th>Var (0.05)</th>\n",
       "      <th>CVaR (0.05)</th>\n",
       "    </tr>\n",
       "  </thead>\n",
       "  <tbody>\n",
       "    <tr>\n",
       "      <th>SPY</th>\n",
       "      <td>0.1437</td>\n",
       "      <td>0.1477</td>\n",
       "      <td>0.9732</td>\n",
       "      <td>-0.1290</td>\n",
       "      <td>0.1268</td>\n",
       "      <td>-0.3868</td>\n",
       "      <td>0.6016</td>\n",
       "      <td>-0.0675</td>\n",
       "      <td>-0.0869</td>\n",
       "    </tr>\n",
       "    <tr>\n",
       "      <th>HYG</th>\n",
       "      <td>0.0642</td>\n",
       "      <td>0.0892</td>\n",
       "      <td>0.7197</td>\n",
       "      <td>-0.1044</td>\n",
       "      <td>0.1379</td>\n",
       "      <td>0.4607</td>\n",
       "      <td>5.7623</td>\n",
       "      <td>-0.0287</td>\n",
       "      <td>-0.0512</td>\n",
       "    </tr>\n",
       "    <tr>\n",
       "      <th>IYR</th>\n",
       "      <td>0.1295</td>\n",
       "      <td>0.1871</td>\n",
       "      <td>0.6920</td>\n",
       "      <td>-0.2005</td>\n",
       "      <td>0.2956</td>\n",
       "      <td>0.4899</td>\n",
       "      <td>4.7454</td>\n",
       "      <td>-0.0650</td>\n",
       "      <td>-0.0972</td>\n",
       "    </tr>\n",
       "    <tr>\n",
       "      <th>EFA</th>\n",
       "      <td>0.0816</td>\n",
       "      <td>0.1660</td>\n",
       "      <td>0.4916</td>\n",
       "      <td>-0.1452</td>\n",
       "      <td>0.1429</td>\n",
       "      <td>-0.0658</td>\n",
       "      <td>0.7240</td>\n",
       "      <td>-0.0765</td>\n",
       "      <td>-0.1008</td>\n",
       "    </tr>\n",
       "    <tr>\n",
       "      <th>TIP</th>\n",
       "      <td>0.0224</td>\n",
       "      <td>0.0517</td>\n",
       "      <td>0.4332</td>\n",
       "      <td>-0.0678</td>\n",
       "      <td>0.0423</td>\n",
       "      <td>-0.6380</td>\n",
       "      <td>2.5229</td>\n",
       "      <td>-0.0204</td>\n",
       "      <td>-0.0330</td>\n",
       "    </tr>\n",
       "    <tr>\n",
       "      <th>QAI</th>\n",
       "      <td>0.0190</td>\n",
       "      <td>0.0508</td>\n",
       "      <td>0.3734</td>\n",
       "      <td>-0.0605</td>\n",
       "      <td>0.0364</td>\n",
       "      <td>-0.5567</td>\n",
       "      <td>1.7665</td>\n",
       "      <td>-0.0196</td>\n",
       "      <td>-0.0342</td>\n",
       "    </tr>\n",
       "    <tr>\n",
       "      <th>PSP</th>\n",
       "      <td>0.0799</td>\n",
       "      <td>0.2274</td>\n",
       "      <td>0.3516</td>\n",
       "      <td>-0.2951</td>\n",
       "      <td>0.2296</td>\n",
       "      <td>-0.4402</td>\n",
       "      <td>2.6579</td>\n",
       "      <td>-0.1030</td>\n",
       "      <td>-0.1465</td>\n",
       "    </tr>\n",
       "    <tr>\n",
       "      <th>EEM</th>\n",
       "      <td>0.0649</td>\n",
       "      <td>0.1965</td>\n",
       "      <td>0.3302</td>\n",
       "      <td>-0.1791</td>\n",
       "      <td>0.1628</td>\n",
       "      <td>0.1369</td>\n",
       "      <td>0.8588</td>\n",
       "      <td>-0.0817</td>\n",
       "      <td>-0.1128</td>\n",
       "    </tr>\n",
       "    <tr>\n",
       "      <th>IEF</th>\n",
       "      <td>0.0143</td>\n",
       "      <td>0.0624</td>\n",
       "      <td>0.2287</td>\n",
       "      <td>-0.0476</td>\n",
       "      <td>0.0461</td>\n",
       "      <td>-0.0875</td>\n",
       "      <td>0.1744</td>\n",
       "      <td>-0.0292</td>\n",
       "      <td>-0.0396</td>\n",
       "    </tr>\n",
       "    <tr>\n",
       "      <th>DBC</th>\n",
       "      <td>0.0254</td>\n",
       "      <td>0.1790</td>\n",
       "      <td>0.1422</td>\n",
       "      <td>-0.1776</td>\n",
       "      <td>0.1631</td>\n",
       "      <td>-0.3254</td>\n",
       "      <td>0.6971</td>\n",
       "      <td>-0.0859</td>\n",
       "      <td>-0.1150</td>\n",
       "    </tr>\n",
       "    <tr>\n",
       "      <th>BWX</th>\n",
       "      <td>-0.0018</td>\n",
       "      <td>0.0834</td>\n",
       "      <td>-0.0221</td>\n",
       "      <td>-0.0694</td>\n",
       "      <td>0.0780</td>\n",
       "      <td>-0.3006</td>\n",
       "      <td>0.9020</td>\n",
       "      <td>-0.0434</td>\n",
       "      <td>-0.0564</td>\n",
       "    </tr>\n",
       "  </tbody>\n",
       "</table>\n",
       "</div>"
      ],
      "text/plain": [
       "       Mean    Vol  Sharpe     Min    Max  Skewness  Excess Kurtosis  \\\n",
       "SPY  0.1437 0.1477  0.9732 -0.1290 0.1268   -0.3868           0.6016   \n",
       "HYG  0.0642 0.0892  0.7197 -0.1044 0.1379    0.4607           5.7623   \n",
       "IYR  0.1295 0.1871  0.6920 -0.2005 0.2956    0.4899           4.7454   \n",
       "EFA  0.0816 0.1660  0.4916 -0.1452 0.1429   -0.0658           0.7240   \n",
       "TIP  0.0224 0.0517  0.4332 -0.0678 0.0423   -0.6380           2.5229   \n",
       "QAI  0.0190 0.0508  0.3734 -0.0605 0.0364   -0.5567           1.7665   \n",
       "PSP  0.0799 0.2274  0.3516 -0.2951 0.2296   -0.4402           2.6579   \n",
       "EEM  0.0649 0.1965  0.3302 -0.1791 0.1628    0.1369           0.8588   \n",
       "IEF  0.0143 0.0624  0.2287 -0.0476 0.0461   -0.0875           0.1744   \n",
       "DBC  0.0254 0.1790  0.1422 -0.1776 0.1631   -0.3254           0.6971   \n",
       "BWX -0.0018 0.0834 -0.0221 -0.0694 0.0780   -0.3006           0.9020   \n",
       "\n",
       "     Var (0.05)  CVaR (0.05)  \n",
       "SPY     -0.0675      -0.0869  \n",
       "HYG     -0.0287      -0.0512  \n",
       "IYR     -0.0650      -0.0972  \n",
       "EFA     -0.0765      -0.1008  \n",
       "TIP     -0.0204      -0.0330  \n",
       "QAI     -0.0196      -0.0342  \n",
       "PSP     -0.1030      -0.1465  \n",
       "EEM     -0.0817      -0.1128  \n",
       "IEF     -0.0292      -0.0396  \n",
       "DBC     -0.0859      -0.1150  \n",
       "BWX     -0.0434      -0.0564  "
      ]
     },
     "execution_count": 36,
     "metadata": {},
     "output_type": "execute_result"
    }
   ],
   "source": [
    "sum_stats_label = summary_statistics_annualized(multi_asset_etf_excess_ret)\n",
    "sum_stats = summary_statistics_annualized(multi_asset_etf_excess_ret).sort_values( 'Sharpe', ascending=False)\n",
    "sum_stats"
   ]
  },
  {
   "cell_type": "markdown",
   "id": "1a8bb804",
   "metadata": {},
   "source": [
    "The 3 assets with the best sharpe ratios are SPY, HYG, and IYR. The 3 assets with the lowest sharpe ratio are IEF, DBC, and BWX."
   ]
  },
  {
   "cell_type": "markdown",
   "id": "06101ee7",
   "metadata": {},
   "source": [
    "Question 2"
   ]
  },
  {
   "cell_type": "code",
   "execution_count": 6,
   "id": "314af048",
   "metadata": {},
   "outputs": [
    {
     "name": "stdout",
     "output_type": "stream",
     "text": [
      "       BWX     DBC     EEM     EFA     HYG     IEF    IYR     PSP    QAI  \\\n",
      "BWX 1.0000  0.3498  0.6476  0.6217  0.5577  0.4345 0.4535  0.5249 0.6680   \n",
      "DBC 0.3498  1.0000  0.5657  0.5819  0.4732 -0.3217 0.3183  0.4961 0.5479   \n",
      "EEM 0.6476  0.5657  1.0000  0.8516  0.7260 -0.1023 0.6218  0.7717 0.8072   \n",
      "EFA 0.6217  0.5819  0.8516  1.0000  0.7715 -0.1323 0.6979  0.8919 0.8537   \n",
      "HYG 0.5577  0.4732  0.7260  0.7715  1.0000 -0.0086 0.7576  0.8238 0.7688   \n",
      "IEF 0.4345 -0.3217 -0.1023 -0.1323 -0.0086  1.0000 0.0736 -0.1187 0.0557   \n",
      "IYR 0.4535  0.3183  0.6218  0.6979  0.7576  0.0736 1.0000  0.7602 0.6560   \n",
      "PSP 0.5249  0.4961  0.7717  0.8919  0.8238 -0.1187 0.7602  1.0000 0.8383   \n",
      "QAI 0.6680  0.5479  0.8072  0.8537  0.7688  0.0557 0.6560  0.8383 1.0000   \n",
      "SPY 0.4657  0.5099  0.7346  0.8716  0.7704 -0.1557 0.7536  0.8957 0.8410   \n",
      "TIP 0.6171  0.1367  0.3027  0.2875  0.3659  0.7061 0.3972  0.3209 0.4597   \n",
      "\n",
      "        SPY    TIP  \n",
      "BWX  0.4657 0.6171  \n",
      "DBC  0.5099 0.1367  \n",
      "EEM  0.7346 0.3027  \n",
      "EFA  0.8716 0.2875  \n",
      "HYG  0.7704 0.3659  \n",
      "IEF -0.1557 0.7061  \n",
      "IYR  0.7536 0.3972  \n",
      "PSP  0.8957 0.3209  \n",
      "QAI  0.8410 0.4597  \n",
      "SPY  1.0000 0.2946  \n",
      "TIP  0.2946 1.0000  \n"
     ]
    },
    {
     "data": {
      "image/png": "[encoded data removed]",
      "text/plain": [
       "<Figure size 640x480 with 2 Axes>"
      ]
     },
     "metadata": {},
     "output_type": "display_data"
    }
   ],
   "source": [
    "corr_matrix = multi_asset_etf_excess_ret.corr()\n",
    "sns.heatmap(corr_matrix)\n",
    "print(corr_matrix)"
   ]
  },
  {
   "cell_type": "markdown",
   "id": "fe71bb3e",
   "metadata": {},
   "source": [
    "The security pair with the highest correlation is PSP and SPY with a correlation of .8957. The pair with the lowest correlation is IEF and DCB with a correlation of -0.3217."
   ]
  },
  {
   "cell_type": "markdown",
   "id": "6d4c90d1",
   "metadata": {},
   "source": [
    "TIPs have done fairly well in our sample ranking 5th in terms of Sharpe ratio. TIPs have outperformed both domestic and international bonds."
   ]
  },
  {
   "cell_type": "markdown",
   "id": "48661eab",
   "metadata": {},
   "source": [
    "Question 3"
   ]
  },
  {
   "cell_type": "markdown",
   "id": "c1b01323",
   "metadata": {},
   "source": [
    "Create function for Tangency weights"
   ]
  },
  {
   "cell_type": "code",
   "execution_count": 7,
   "id": "9645b7c1",
   "metadata": {},
   "outputs": [],
   "source": [
    "def tangency_weights(asset_return,cov_matrix, cov_diagnolize = False):\n",
    "    \"\"\" \n",
    "        Returns the tangency portfolio weights in a (1 x n) vector\n",
    "        Inputs: \n",
    "            asset_return - return for each asset (n x 1) Vector\n",
    "            cov_matrix = nxn covariance matrix for the assets\n",
    "    \"\"\"\n",
    "    if cov_diagnolize:\n",
    "        asset_cov = np.diag(np.diag(cov_matrix))\n",
    "    else:\n",
    "        asset_cov = np.array(cov_matrix)\n",
    "    inverted_cov= np.linalg.inv(asset_cov)\n",
    "    one_vector = np.ones(len(cov_matrix.index))\n",
    "    \n",
    "    den = (one_vector @ inverted_cov) @ (asset_return)\n",
    "    num =  inverted_cov @ asset_return\n",
    "    return (1/den) * num"
   ]
  },
  {
   "cell_type": "code",
   "execution_count": 8,
   "id": "126f6c24",
   "metadata": {},
   "outputs": [],
   "source": [
    "mean_excess_return = np.array(sum_stats['Mean'])"
   ]
  },
  {
   "cell_type": "code",
   "execution_count": 21,
   "id": "0d531ebb",
   "metadata": {},
   "outputs": [
    {
     "name": "stdout",
     "output_type": "stream",
     "text": [
      "       BWX     DBC     EEM     EFA     HYG     IEF    IYR     PSP    QAI  \\\n",
      "BWX 0.0006  0.0004  0.0009  0.0007  0.0003  0.0002 0.0006  0.0008 0.0002   \n",
      "DBC 0.0004  0.0027  0.0017  0.0014  0.0006 -0.0003 0.0009  0.0017 0.0004   \n",
      "EEM 0.0009  0.0017  0.0032  0.0023  0.0011 -0.0001 0.0019  0.0029 0.0007   \n",
      "EFA 0.0007  0.0014  0.0023  0.0023  0.0010 -0.0001 0.0018  0.0028 0.0006   \n",
      "HYG 0.0003  0.0006  0.0011  0.0010  0.0007 -0.0000 0.0011  0.0014 0.0003   \n",
      "IEF 0.0002 -0.0003 -0.0001 -0.0001 -0.0000  0.0003 0.0001 -0.0001 0.0000   \n",
      "IYR 0.0006  0.0009  0.0019  0.0018  0.0011  0.0001 0.0029  0.0027 0.0005   \n",
      "PSP 0.0008  0.0017  0.0029  0.0028  0.0014 -0.0001 0.0027  0.0043 0.0008   \n",
      "QAI 0.0002  0.0004  0.0007  0.0006  0.0003  0.0000 0.0005  0.0008 0.0002   \n",
      "SPY 0.0005  0.0011  0.0018  0.0018  0.0008 -0.0001 0.0017  0.0025 0.0005   \n",
      "TIP 0.0002  0.0001  0.0003  0.0002  0.0001  0.0002 0.0003  0.0003 0.0001   \n",
      "\n",
      "        SPY    TIP  \n",
      "BWX  0.0005 0.0002  \n",
      "DBC  0.0011 0.0001  \n",
      "EEM  0.0018 0.0003  \n",
      "EFA  0.0018 0.0002  \n",
      "HYG  0.0008 0.0001  \n",
      "IEF -0.0001 0.0002  \n",
      "IYR  0.0017 0.0003  \n",
      "PSP  0.0025 0.0003  \n",
      "QAI  0.0005 0.0001  \n",
      "SPY  0.0018 0.0002  \n",
      "TIP  0.0002 0.0002  \n",
      "[ 0.01197729  0.00534736  0.01078944  0.00679974  0.00186006  0.0015812\n",
      "  0.00666152  0.00540727  0.00118909  0.00212029 -0.0001536 ]\n"
     ]
    }
   ],
   "source": [
    "print(multi_asset_etf_excess_ret.cov())\n",
    "print(mean_excess_return/12)"
   ]
  },
  {
   "cell_type": "code",
   "execution_count": 37,
   "id": "733e049b",
   "metadata": {},
   "outputs": [
    {
     "data": {
      "text/html": [
       "<div>\n",
       "<style scoped>\n",
       "    .dataframe tbody tr th:only-of-type {\n",
       "        vertical-align: middle;\n",
       "    }\n",
       "\n",
       "    .dataframe tbody tr th {\n",
       "        vertical-align: top;\n",
       "    }\n",
       "\n",
       "    .dataframe thead th {\n",
       "        text-align: right;\n",
       "    }\n",
       "</style>\n",
       "<table border=\"1\" class=\"dataframe\">\n",
       "  <thead>\n",
       "    <tr style=\"text-align: right;\">\n",
       "      <th></th>\n",
       "      <th>Tangent Portfolio Weights</th>\n",
       "    </tr>\n",
       "  </thead>\n",
       "  <tbody>\n",
       "    <tr>\n",
       "      <th>SPY</th>\n",
       "      <td>2.5922</td>\n",
       "    </tr>\n",
       "    <tr>\n",
       "      <th>IEF</th>\n",
       "      <td>1.8956</td>\n",
       "    </tr>\n",
       "    <tr>\n",
       "      <th>HYG</th>\n",
       "      <td>1.5303</td>\n",
       "    </tr>\n",
       "    <tr>\n",
       "      <th>EFA</th>\n",
       "      <td>0.4533</td>\n",
       "    </tr>\n",
       "    <tr>\n",
       "      <th>TIP</th>\n",
       "      <td>0.3564</td>\n",
       "    </tr>\n",
       "    <tr>\n",
       "      <th>EEM</th>\n",
       "      <td>0.2613</td>\n",
       "    </tr>\n",
       "    <tr>\n",
       "      <th>DBC</th>\n",
       "      <td>0.0285</td>\n",
       "    </tr>\n",
       "    <tr>\n",
       "      <th>IYR</th>\n",
       "      <td>-0.2430</td>\n",
       "    </tr>\n",
       "    <tr>\n",
       "      <th>PSP</th>\n",
       "      <td>-1.2721</td>\n",
       "    </tr>\n",
       "    <tr>\n",
       "      <th>BWX</th>\n",
       "      <td>-1.4662</td>\n",
       "    </tr>\n",
       "    <tr>\n",
       "      <th>QAI</th>\n",
       "      <td>-3.1361</td>\n",
       "    </tr>\n",
       "  </tbody>\n",
       "</table>\n",
       "</div>"
      ],
      "text/plain": [
       "     Tangent Portfolio Weights\n",
       "SPY                     2.5922\n",
       "IEF                     1.8956\n",
       "HYG                     1.5303\n",
       "EFA                     0.4533\n",
       "TIP                     0.3564\n",
       "EEM                     0.2613\n",
       "DBC                     0.0285\n",
       "IYR                    -0.2430\n",
       "PSP                    -1.2721\n",
       "BWX                    -1.4662\n",
       "QAI                    -3.1361"
      ]
     },
     "execution_count": 37,
     "metadata": {},
     "output_type": "execute_result"
    }
   ],
   "source": [
    "tangent_port = tangency_weights(multi_asset_etf_excess_ret.mean(),multi_asset_etf_excess_ret.cov())\n",
    "tangentPort_df = pd.DataFrame(tangent_port, columns=[\"Tangent Portfolio Weights\"], index=sum_stats_label.index).sort_values('Tangent Portfolio Weights', ascending=False)\n",
    "tangentPort_df"
   ]
  },
  {
   "cell_type": "code",
   "execution_count": 27,
   "id": "948658d2",
   "metadata": {},
   "outputs": [
    {
     "data": {
      "text/plain": [
       "SPY    0.9732\n",
       "HYG    0.7197\n",
       "IYR    0.6920\n",
       "EFA    0.4916\n",
       "TIP    0.4332\n",
       "QAI    0.3734\n",
       "PSP    0.3516\n",
       "EEM    0.3302\n",
       "IEF    0.2287\n",
       "DBC    0.1422\n",
       "BWX   -0.0221\n",
       "Name: Sharpe, dtype: float64"
      ]
     },
     "execution_count": 27,
     "metadata": {},
     "output_type": "execute_result"
    }
   ],
   "source": [
    "sum_stats['Sharpe']"
   ]
  },
  {
   "cell_type": "markdown",
   "id": "3165969b",
   "metadata": {},
   "source": [
    "The ranking of the portfolio weights does not align with the ranking of the Sharpe Ratios."
   ]
  },
  {
   "cell_type": "markdown",
   "id": "45c13a71",
   "metadata": {},
   "source": [
    "Function to find portfolio stats"
   ]
  },
  {
   "cell_type": "code",
   "execution_count": 39,
   "id": "3aef3b88",
   "metadata": {},
   "outputs": [],
   "source": [
    "def mvo_performance_stats(asset_returns,cov_matrix,port_weights, port_type,period):\n",
    "    \"\"\" \n",
    "        Returns the Annualized Performance Stats for given asset returns, portfolio weights and covariance matrix\n",
    "        Inputs: \n",
    "            asset_return - Excess return over the risk free rate for each asset (n x 1) Vector\n",
    "            cov_matrix = nxn covariance matrix for the assets\n",
    "            port_weights = weights of the assets in the portfolio (1 x n) Vector\n",
    "            port_type = Type of Portfolio | Eg - Tangency or Mean-Variance Portfolio\n",
    "            period = Monthly frequency\n",
    "    \"\"\"\n",
    "    \n",
    "    ret = np.dot(port_weights,asset_returns)*period\n",
    "    vol = np.sqrt(port_weights @ cov_matrix @ port_weights.T)*np.sqrt(period)\n",
    "    sharpe = ret/vol\n",
    "\n",
    "    stats = pd.DataFrame([[ret,vol,sharpe]],columns= [\"Annualized Return\",\"Annualized Volatility\",\"Annualized Sharpe Ratio\"], index = [port_type])\n",
    "    return stats"
   ]
  },
  {
   "cell_type": "code",
   "execution_count": 40,
   "id": "a42e3b6f",
   "metadata": {},
   "outputs": [
    {
     "data": {
      "text/html": [
       "<div>\n",
       "<style scoped>\n",
       "    .dataframe tbody tr th:only-of-type {\n",
       "        vertical-align: middle;\n",
       "    }\n",
       "\n",
       "    .dataframe tbody tr th {\n",
       "        vertical-align: top;\n",
       "    }\n",
       "\n",
       "    .dataframe thead th {\n",
       "        text-align: right;\n",
       "    }\n",
       "</style>\n",
       "<table border=\"1\" class=\"dataframe\">\n",
       "  <thead>\n",
       "    <tr style=\"text-align: right;\">\n",
       "      <th></th>\n",
       "      <th>Annualized Return</th>\n",
       "      <th>Annualized Volatility</th>\n",
       "      <th>Annualized Sharpe Ratio</th>\n",
       "    </tr>\n",
       "  </thead>\n",
       "  <tbody>\n",
       "    <tr>\n",
       "      <th>Tangent Portfolio</th>\n",
       "      <td>0.3705</td>\n",
       "      <td>0.1917</td>\n",
       "      <td>1.9328</td>\n",
       "    </tr>\n",
       "  </tbody>\n",
       "</table>\n",
       "</div>"
      ],
      "text/plain": [
       "                   Annualized Return  Annualized Volatility  \\\n",
       "Tangent Portfolio             0.3705                 0.1917   \n",
       "\n",
       "                   Annualized Sharpe Ratio  \n",
       "Tangent Portfolio                   1.9328  "
      ]
     },
     "execution_count": 40,
     "metadata": {},
     "output_type": "execute_result"
    }
   ],
   "source": [
    "tangent_port_stats = mvo_performance_stats(multi_asset_etf_excess_ret.mean(), multi_asset_etf_excess_ret.cov(), tangent_port, 'Tangent Portfolio',12)\n",
    "tangent_port_stats"
   ]
  },
  {
   "cell_type": "markdown",
   "id": "c2ebb531",
   "metadata": {},
   "source": [
    "Question 4"
   ]
  },
  {
   "cell_type": "markdown",
   "id": "30d2a473",
   "metadata": {},
   "source": [
    "Tangent Portfolio Without TIPs"
   ]
  },
  {
   "cell_type": "code",
   "execution_count": 41,
   "id": "2043f250",
   "metadata": {},
   "outputs": [
    {
     "data": {
      "text/html": [
       "<div>\n",
       "<style scoped>\n",
       "    .dataframe tbody tr th:only-of-type {\n",
       "        vertical-align: middle;\n",
       "    }\n",
       "\n",
       "    .dataframe tbody tr th {\n",
       "        vertical-align: top;\n",
       "    }\n",
       "\n",
       "    .dataframe thead th {\n",
       "        text-align: right;\n",
       "    }\n",
       "</style>\n",
       "<table border=\"1\" class=\"dataframe\">\n",
       "  <thead>\n",
       "    <tr style=\"text-align: right;\">\n",
       "      <th></th>\n",
       "      <th>BWX</th>\n",
       "      <th>DBC</th>\n",
       "      <th>EEM</th>\n",
       "      <th>EFA</th>\n",
       "      <th>HYG</th>\n",
       "      <th>IEF</th>\n",
       "      <th>IYR</th>\n",
       "      <th>PSP</th>\n",
       "      <th>QAI</th>\n",
       "      <th>SPY</th>\n",
       "      <th>TIP</th>\n",
       "    </tr>\n",
       "    <tr>\n",
       "      <th>Date</th>\n",
       "      <th></th>\n",
       "      <th></th>\n",
       "      <th></th>\n",
       "      <th></th>\n",
       "      <th></th>\n",
       "      <th></th>\n",
       "      <th></th>\n",
       "      <th></th>\n",
       "      <th></th>\n",
       "      <th></th>\n",
       "      <th></th>\n",
       "    </tr>\n",
       "  </thead>\n",
       "  <tbody>\n",
       "    <tr>\n",
       "      <th>2009-04-30</th>\n",
       "      <td>0.0084</td>\n",
       "      <td>-0.0016</td>\n",
       "      <td>0.1550</td>\n",
       "      <td>0.1146</td>\n",
       "      <td>0.1379</td>\n",
       "      <td>-0.0280</td>\n",
       "      <td>0.2956</td>\n",
       "      <td>0.2296</td>\n",
       "      <td>0.0223</td>\n",
       "      <td>0.0988</td>\n",
       "      <td>-0.0185</td>\n",
       "    </tr>\n",
       "    <tr>\n",
       "      <th>2009-05-31</th>\n",
       "      <td>0.0541</td>\n",
       "      <td>0.1631</td>\n",
       "      <td>0.1599</td>\n",
       "      <td>0.1324</td>\n",
       "      <td>0.0290</td>\n",
       "      <td>-0.0203</td>\n",
       "      <td>0.0232</td>\n",
       "      <td>0.0544</td>\n",
       "      <td>0.0283</td>\n",
       "      <td>0.0589</td>\n",
       "      <td>0.0205</td>\n",
       "    </tr>\n",
       "    <tr>\n",
       "      <th>2009-06-30</th>\n",
       "      <td>0.0045</td>\n",
       "      <td>-0.0269</td>\n",
       "      <td>-0.0231</td>\n",
       "      <td>-0.0146</td>\n",
       "      <td>0.0329</td>\n",
       "      <td>-0.0062</td>\n",
       "      <td>-0.0255</td>\n",
       "      <td>0.0414</td>\n",
       "      <td>-0.0040</td>\n",
       "      <td>-0.0013</td>\n",
       "      <td>0.0014</td>\n",
       "    </tr>\n",
       "    <tr>\n",
       "      <th>2009-07-31</th>\n",
       "      <td>0.0313</td>\n",
       "      <td>0.0186</td>\n",
       "      <td>0.1102</td>\n",
       "      <td>0.1004</td>\n",
       "      <td>0.0692</td>\n",
       "      <td>0.0083</td>\n",
       "      <td>0.1058</td>\n",
       "      <td>0.1433</td>\n",
       "      <td>0.0154</td>\n",
       "      <td>0.0746</td>\n",
       "      <td>0.0009</td>\n",
       "    </tr>\n",
       "    <tr>\n",
       "      <th>2009-08-31</th>\n",
       "      <td>0.0072</td>\n",
       "      <td>-0.0408</td>\n",
       "      <td>-0.0136</td>\n",
       "      <td>0.0446</td>\n",
       "      <td>-0.0174</td>\n",
       "      <td>0.0072</td>\n",
       "      <td>0.1315</td>\n",
       "      <td>0.0330</td>\n",
       "      <td>-0.0046</td>\n",
       "      <td>0.0365</td>\n",
       "      <td>0.0080</td>\n",
       "    </tr>\n",
       "  </tbody>\n",
       "</table>\n",
       "</div>"
      ],
      "text/plain": [
       "              BWX     DBC     EEM     EFA     HYG     IEF     IYR    PSP  \\\n",
       "Date                                                                       \n",
       "2009-04-30 0.0084 -0.0016  0.1550  0.1146  0.1379 -0.0280  0.2956 0.2296   \n",
       "2009-05-31 0.0541  0.1631  0.1599  0.1324  0.0290 -0.0203  0.0232 0.0544   \n",
       "2009-06-30 0.0045 -0.0269 -0.0231 -0.0146  0.0329 -0.0062 -0.0255 0.0414   \n",
       "2009-07-31 0.0313  0.0186  0.1102  0.1004  0.0692  0.0083  0.1058 0.1433   \n",
       "2009-08-31 0.0072 -0.0408 -0.0136  0.0446 -0.0174  0.0072  0.1315 0.0330   \n",
       "\n",
       "               QAI     SPY     TIP  \n",
       "Date                                \n",
       "2009-04-30  0.0223  0.0988 -0.0185  \n",
       "2009-05-31  0.0283  0.0589  0.0205  \n",
       "2009-06-30 -0.0040 -0.0013  0.0014  \n",
       "2009-07-31  0.0154  0.0746  0.0009  \n",
       "2009-08-31 -0.0046  0.0365  0.0080  "
      ]
     },
     "execution_count": 41,
     "metadata": {},
     "output_type": "execute_result"
    }
   ],
   "source": [
    "multi_asset_etf_excess_ret.head(5)"
   ]
  },
  {
   "cell_type": "code",
   "execution_count": 42,
   "id": "e4fd553b",
   "metadata": {},
   "outputs": [
    {
     "data": {
      "text/html": [
       "<div>\n",
       "<style scoped>\n",
       "    .dataframe tbody tr th:only-of-type {\n",
       "        vertical-align: middle;\n",
       "    }\n",
       "\n",
       "    .dataframe tbody tr th {\n",
       "        vertical-align: top;\n",
       "    }\n",
       "\n",
       "    .dataframe thead th {\n",
       "        text-align: right;\n",
       "    }\n",
       "</style>\n",
       "<table border=\"1\" class=\"dataframe\">\n",
       "  <thead>\n",
       "    <tr style=\"text-align: right;\">\n",
       "      <th></th>\n",
       "      <th>BWX</th>\n",
       "      <th>DBC</th>\n",
       "      <th>EEM</th>\n",
       "      <th>EFA</th>\n",
       "      <th>HYG</th>\n",
       "      <th>IEF</th>\n",
       "      <th>IYR</th>\n",
       "      <th>PSP</th>\n",
       "      <th>QAI</th>\n",
       "      <th>SPY</th>\n",
       "    </tr>\n",
       "    <tr>\n",
       "      <th>Date</th>\n",
       "      <th></th>\n",
       "      <th></th>\n",
       "      <th></th>\n",
       "      <th></th>\n",
       "      <th></th>\n",
       "      <th></th>\n",
       "      <th></th>\n",
       "      <th></th>\n",
       "      <th></th>\n",
       "      <th></th>\n",
       "    </tr>\n",
       "  </thead>\n",
       "  <tbody>\n",
       "    <tr>\n",
       "      <th>2009-04-30</th>\n",
       "      <td>0.0084</td>\n",
       "      <td>-0.0016</td>\n",
       "      <td>0.1550</td>\n",
       "      <td>0.1146</td>\n",
       "      <td>0.1379</td>\n",
       "      <td>-0.0280</td>\n",
       "      <td>0.2956</td>\n",
       "      <td>0.2296</td>\n",
       "      <td>0.0223</td>\n",
       "      <td>0.0988</td>\n",
       "    </tr>\n",
       "    <tr>\n",
       "      <th>2009-05-31</th>\n",
       "      <td>0.0541</td>\n",
       "      <td>0.1631</td>\n",
       "      <td>0.1599</td>\n",
       "      <td>0.1324</td>\n",
       "      <td>0.0290</td>\n",
       "      <td>-0.0203</td>\n",
       "      <td>0.0232</td>\n",
       "      <td>0.0544</td>\n",
       "      <td>0.0283</td>\n",
       "      <td>0.0589</td>\n",
       "    </tr>\n",
       "    <tr>\n",
       "      <th>2009-06-30</th>\n",
       "      <td>0.0045</td>\n",
       "      <td>-0.0269</td>\n",
       "      <td>-0.0231</td>\n",
       "      <td>-0.0146</td>\n",
       "      <td>0.0329</td>\n",
       "      <td>-0.0062</td>\n",
       "      <td>-0.0255</td>\n",
       "      <td>0.0414</td>\n",
       "      <td>-0.0040</td>\n",
       "      <td>-0.0013</td>\n",
       "    </tr>\n",
       "    <tr>\n",
       "      <th>2009-07-31</th>\n",
       "      <td>0.0313</td>\n",
       "      <td>0.0186</td>\n",
       "      <td>0.1102</td>\n",
       "      <td>0.1004</td>\n",
       "      <td>0.0692</td>\n",
       "      <td>0.0083</td>\n",
       "      <td>0.1058</td>\n",
       "      <td>0.1433</td>\n",
       "      <td>0.0154</td>\n",
       "      <td>0.0746</td>\n",
       "    </tr>\n",
       "    <tr>\n",
       "      <th>2009-08-31</th>\n",
       "      <td>0.0072</td>\n",
       "      <td>-0.0408</td>\n",
       "      <td>-0.0136</td>\n",
       "      <td>0.0446</td>\n",
       "      <td>-0.0174</td>\n",
       "      <td>0.0072</td>\n",
       "      <td>0.1315</td>\n",
       "      <td>0.0330</td>\n",
       "      <td>-0.0046</td>\n",
       "      <td>0.0365</td>\n",
       "    </tr>\n",
       "  </tbody>\n",
       "</table>\n",
       "</div>"
      ],
      "text/plain": [
       "              BWX     DBC     EEM     EFA     HYG     IEF     IYR    PSP  \\\n",
       "Date                                                                       \n",
       "2009-04-30 0.0084 -0.0016  0.1550  0.1146  0.1379 -0.0280  0.2956 0.2296   \n",
       "2009-05-31 0.0541  0.1631  0.1599  0.1324  0.0290 -0.0203  0.0232 0.0544   \n",
       "2009-06-30 0.0045 -0.0269 -0.0231 -0.0146  0.0329 -0.0062 -0.0255 0.0414   \n",
       "2009-07-31 0.0313  0.0186  0.1102  0.1004  0.0692  0.0083  0.1058 0.1433   \n",
       "2009-08-31 0.0072 -0.0408 -0.0136  0.0446 -0.0174  0.0072  0.1315 0.0330   \n",
       "\n",
       "               QAI     SPY  \n",
       "Date                        \n",
       "2009-04-30  0.0223  0.0988  \n",
       "2009-05-31  0.0283  0.0589  \n",
       "2009-06-30 -0.0040 -0.0013  \n",
       "2009-07-31  0.0154  0.0746  \n",
       "2009-08-31 -0.0046  0.0365  "
      ]
     },
     "execution_count": 42,
     "metadata": {},
     "output_type": "execute_result"
    }
   ],
   "source": [
    "returns_minus_tips = multi_asset_etf_excess_ret.drop(columns=['TIP'])\n",
    "sum_stats_minus_tips = summary_statistics_annualized(returns_minus_tips)\n",
    "returns_minus_tips.head(5)"
   ]
  },
  {
   "cell_type": "code",
   "execution_count": 43,
   "id": "7ba7121e",
   "metadata": {},
   "outputs": [
    {
     "data": {
      "text/html": [
       "<div>\n",
       "<style scoped>\n",
       "    .dataframe tbody tr th:only-of-type {\n",
       "        vertical-align: middle;\n",
       "    }\n",
       "\n",
       "    .dataframe tbody tr th {\n",
       "        vertical-align: top;\n",
       "    }\n",
       "\n",
       "    .dataframe thead th {\n",
       "        text-align: right;\n",
       "    }\n",
       "</style>\n",
       "<table border=\"1\" class=\"dataframe\">\n",
       "  <thead>\n",
       "    <tr style=\"text-align: right;\">\n",
       "      <th></th>\n",
       "      <th>Tangent Portfolio Weights</th>\n",
       "    </tr>\n",
       "  </thead>\n",
       "  <tbody>\n",
       "    <tr>\n",
       "      <th>SPY</th>\n",
       "      <td>2.7314</td>\n",
       "    </tr>\n",
       "    <tr>\n",
       "      <th>IEF</th>\n",
       "      <td>2.2125</td>\n",
       "    </tr>\n",
       "    <tr>\n",
       "      <th>HYG</th>\n",
       "      <td>1.5931</td>\n",
       "    </tr>\n",
       "    <tr>\n",
       "      <th>EFA</th>\n",
       "      <td>0.4415</td>\n",
       "    </tr>\n",
       "    <tr>\n",
       "      <th>EEM</th>\n",
       "      <td>0.2781</td>\n",
       "    </tr>\n",
       "    <tr>\n",
       "      <th>DBC</th>\n",
       "      <td>0.0552</td>\n",
       "    </tr>\n",
       "    <tr>\n",
       "      <th>IYR</th>\n",
       "      <td>-0.2459</td>\n",
       "    </tr>\n",
       "    <tr>\n",
       "      <th>PSP</th>\n",
       "      <td>-1.3141</td>\n",
       "    </tr>\n",
       "    <tr>\n",
       "      <th>BWX</th>\n",
       "      <td>-1.5127</td>\n",
       "    </tr>\n",
       "    <tr>\n",
       "      <th>QAI</th>\n",
       "      <td>-3.2390</td>\n",
       "    </tr>\n",
       "  </tbody>\n",
       "</table>\n",
       "</div>"
      ],
      "text/plain": [
       "     Tangent Portfolio Weights\n",
       "SPY                     2.7314\n",
       "IEF                     2.2125\n",
       "HYG                     1.5931\n",
       "EFA                     0.4415\n",
       "EEM                     0.2781\n",
       "DBC                     0.0552\n",
       "IYR                    -0.2459\n",
       "PSP                    -1.3141\n",
       "BWX                    -1.5127\n",
       "QAI                    -3.2390"
      ]
     },
     "execution_count": 43,
     "metadata": {},
     "output_type": "execute_result"
    }
   ],
   "source": [
    "tangent_port_minus_tips = tangency_weights(returns_minus_tips.mean(),returns_minus_tips.cov())\n",
    "tangentPort_minus_tips_df = pd.DataFrame(tangent_port_minus_tips, columns=[\"Tangent Portfolio Weights\"], index=sum_stats_minus_tips.index).sort_values('Tangent Portfolio Weights', ascending=False)\n",
    "tangentPort_minus_tips_df"
   ]
  },
  {
   "cell_type": "code",
   "execution_count": 44,
   "id": "5fe38c5e",
   "metadata": {},
   "outputs": [
    {
     "data": {
      "text/html": [
       "<div>\n",
       "<style scoped>\n",
       "    .dataframe tbody tr th:only-of-type {\n",
       "        vertical-align: middle;\n",
       "    }\n",
       "\n",
       "    .dataframe tbody tr th {\n",
       "        vertical-align: top;\n",
       "    }\n",
       "\n",
       "    .dataframe thead th {\n",
       "        text-align: right;\n",
       "    }\n",
       "</style>\n",
       "<table border=\"1\" class=\"dataframe\">\n",
       "  <thead>\n",
       "    <tr style=\"text-align: right;\">\n",
       "      <th></th>\n",
       "      <th>Annualized Return</th>\n",
       "      <th>Annualized Volatility</th>\n",
       "      <th>Annualized Sharpe Ratio</th>\n",
       "    </tr>\n",
       "  </thead>\n",
       "  <tbody>\n",
       "    <tr>\n",
       "      <th>Tangent Portfolio Without TIPs</th>\n",
       "      <td>0.3863</td>\n",
       "      <td>0.2001</td>\n",
       "      <td>1.9304</td>\n",
       "    </tr>\n",
       "  </tbody>\n",
       "</table>\n",
       "</div>"
      ],
      "text/plain": [
       "                                Annualized Return  Annualized Volatility  \\\n",
       "Tangent Portfolio Without TIPs             0.3863                 0.2001   \n",
       "\n",
       "                                Annualized Sharpe Ratio  \n",
       "Tangent Portfolio Without TIPs                   1.9304  "
      ]
     },
     "execution_count": 44,
     "metadata": {},
     "output_type": "execute_result"
    }
   ],
   "source": [
    "tangent_port_minus_tips_stats = mvo_performance_stats(returns_minus_tips.mean(), returns_minus_tips.cov(), tangent_port_minus_tips, 'Tangent Portfolio Without TIPs',12)\n",
    "tangent_port_minus_tips_stats"
   ]
  },
  {
   "cell_type": "markdown",
   "id": "fcf347a6",
   "metadata": {},
   "source": [
    "Tangent Portfolio with TIPs adjusted by .0012"
   ]
  },
  {
   "cell_type": "code",
   "execution_count": 48,
   "id": "d2c1619a",
   "metadata": {},
   "outputs": [
    {
     "data": {
      "text/html": [
       "<div>\n",
       "<style scoped>\n",
       "    .dataframe tbody tr th:only-of-type {\n",
       "        vertical-align: middle;\n",
       "    }\n",
       "\n",
       "    .dataframe tbody tr th {\n",
       "        vertical-align: top;\n",
       "    }\n",
       "\n",
       "    .dataframe thead th {\n",
       "        text-align: right;\n",
       "    }\n",
       "</style>\n",
       "<table border=\"1\" class=\"dataframe\">\n",
       "  <thead>\n",
       "    <tr style=\"text-align: right;\">\n",
       "      <th></th>\n",
       "      <th>BWX</th>\n",
       "      <th>DBC</th>\n",
       "      <th>EEM</th>\n",
       "      <th>EFA</th>\n",
       "      <th>HYG</th>\n",
       "      <th>IEF</th>\n",
       "      <th>IYR</th>\n",
       "      <th>PSP</th>\n",
       "      <th>QAI</th>\n",
       "      <th>SPY</th>\n",
       "      <th>TIP</th>\n",
       "    </tr>\n",
       "    <tr>\n",
       "      <th>Date</th>\n",
       "      <th></th>\n",
       "      <th></th>\n",
       "      <th></th>\n",
       "      <th></th>\n",
       "      <th></th>\n",
       "      <th></th>\n",
       "      <th></th>\n",
       "      <th></th>\n",
       "      <th></th>\n",
       "      <th></th>\n",
       "      <th></th>\n",
       "    </tr>\n",
       "  </thead>\n",
       "  <tbody>\n",
       "    <tr>\n",
       "      <th>2009-04-30</th>\n",
       "      <td>0.0084</td>\n",
       "      <td>-0.0016</td>\n",
       "      <td>0.1550</td>\n",
       "      <td>0.1146</td>\n",
       "      <td>0.1379</td>\n",
       "      <td>-0.0280</td>\n",
       "      <td>0.2956</td>\n",
       "      <td>0.2296</td>\n",
       "      <td>0.0223</td>\n",
       "      <td>0.0988</td>\n",
       "      <td>-0.0174</td>\n",
       "    </tr>\n",
       "    <tr>\n",
       "      <th>2009-05-31</th>\n",
       "      <td>0.0541</td>\n",
       "      <td>0.1631</td>\n",
       "      <td>0.1599</td>\n",
       "      <td>0.1324</td>\n",
       "      <td>0.0290</td>\n",
       "      <td>-0.0203</td>\n",
       "      <td>0.0232</td>\n",
       "      <td>0.0544</td>\n",
       "      <td>0.0283</td>\n",
       "      <td>0.0589</td>\n",
       "      <td>0.0217</td>\n",
       "    </tr>\n",
       "    <tr>\n",
       "      <th>2009-06-30</th>\n",
       "      <td>0.0045</td>\n",
       "      <td>-0.0269</td>\n",
       "      <td>-0.0231</td>\n",
       "      <td>-0.0146</td>\n",
       "      <td>0.0329</td>\n",
       "      <td>-0.0062</td>\n",
       "      <td>-0.0255</td>\n",
       "      <td>0.0414</td>\n",
       "      <td>-0.0040</td>\n",
       "      <td>-0.0013</td>\n",
       "      <td>0.0026</td>\n",
       "    </tr>\n",
       "    <tr>\n",
       "      <th>2009-07-31</th>\n",
       "      <td>0.0313</td>\n",
       "      <td>0.0186</td>\n",
       "      <td>0.1102</td>\n",
       "      <td>0.1004</td>\n",
       "      <td>0.0692</td>\n",
       "      <td>0.0083</td>\n",
       "      <td>0.1058</td>\n",
       "      <td>0.1433</td>\n",
       "      <td>0.0154</td>\n",
       "      <td>0.0746</td>\n",
       "      <td>0.0021</td>\n",
       "    </tr>\n",
       "    <tr>\n",
       "      <th>2009-08-31</th>\n",
       "      <td>0.0072</td>\n",
       "      <td>-0.0408</td>\n",
       "      <td>-0.0136</td>\n",
       "      <td>0.0446</td>\n",
       "      <td>-0.0174</td>\n",
       "      <td>0.0072</td>\n",
       "      <td>0.1315</td>\n",
       "      <td>0.0330</td>\n",
       "      <td>-0.0046</td>\n",
       "      <td>0.0365</td>\n",
       "      <td>0.0092</td>\n",
       "    </tr>\n",
       "  </tbody>\n",
       "</table>\n",
       "</div>"
      ],
      "text/plain": [
       "              BWX     DBC     EEM     EFA     HYG     IEF     IYR    PSP  \\\n",
       "Date                                                                       \n",
       "2009-04-30 0.0084 -0.0016  0.1550  0.1146  0.1379 -0.0280  0.2956 0.2296   \n",
       "2009-05-31 0.0541  0.1631  0.1599  0.1324  0.0290 -0.0203  0.0232 0.0544   \n",
       "2009-06-30 0.0045 -0.0269 -0.0231 -0.0146  0.0329 -0.0062 -0.0255 0.0414   \n",
       "2009-07-31 0.0313  0.0186  0.1102  0.1004  0.0692  0.0083  0.1058 0.1433   \n",
       "2009-08-31 0.0072 -0.0408 -0.0136  0.0446 -0.0174  0.0072  0.1315 0.0330   \n",
       "\n",
       "               QAI     SPY     TIP  \n",
       "Date                                \n",
       "2009-04-30  0.0223  0.0988 -0.0174  \n",
       "2009-05-31  0.0283  0.0589  0.0217  \n",
       "2009-06-30 -0.0040 -0.0013  0.0026  \n",
       "2009-07-31  0.0154  0.0746  0.0021  \n",
       "2009-08-31 -0.0046  0.0365  0.0092  "
      ]
     },
     "execution_count": 48,
     "metadata": {},
     "output_type": "execute_result"
    }
   ],
   "source": [
    "adjusted_tips_mean = multi_asset_etf_excess_ret\n",
    "adjusted_tips_df['TIP'] = adjusted_tips_df['TIP'] + .0012\n",
    "sum_stats_adjusted_tips = summary_statistics_annualized(adjusted_tips_df)\n",
    "adjusted_tips_df.head(5)"
   ]
  },
  {
   "cell_type": "code",
   "execution_count": 49,
   "id": "3a3bb2d0",
   "metadata": {},
   "outputs": [
    {
     "data": {
      "text/html": [
       "<div>\n",
       "<style scoped>\n",
       "    .dataframe tbody tr th:only-of-type {\n",
       "        vertical-align: middle;\n",
       "    }\n",
       "\n",
       "    .dataframe tbody tr th {\n",
       "        vertical-align: top;\n",
       "    }\n",
       "\n",
       "    .dataframe thead th {\n",
       "        text-align: right;\n",
       "    }\n",
       "</style>\n",
       "<table border=\"1\" class=\"dataframe\">\n",
       "  <thead>\n",
       "    <tr style=\"text-align: right;\">\n",
       "      <th></th>\n",
       "      <th>Tangent Portfolio Weights</th>\n",
       "    </tr>\n",
       "  </thead>\n",
       "  <tbody>\n",
       "    <tr>\n",
       "      <th>SPY</th>\n",
       "      <td>2.0071</td>\n",
       "    </tr>\n",
       "    <tr>\n",
       "      <th>TIP</th>\n",
       "      <td>1.8684</td>\n",
       "    </tr>\n",
       "    <tr>\n",
       "      <th>HYG</th>\n",
       "      <td>1.2666</td>\n",
       "    </tr>\n",
       "    <tr>\n",
       "      <th>IEF</th>\n",
       "      <td>0.5544</td>\n",
       "    </tr>\n",
       "    <tr>\n",
       "      <th>EFA</th>\n",
       "      <td>0.5045</td>\n",
       "    </tr>\n",
       "    <tr>\n",
       "      <th>EEM</th>\n",
       "      <td>0.1903</td>\n",
       "    </tr>\n",
       "    <tr>\n",
       "      <th>DBC</th>\n",
       "      <td>-0.0848</td>\n",
       "    </tr>\n",
       "    <tr>\n",
       "      <th>IYR</th>\n",
       "      <td>-0.2311</td>\n",
       "    </tr>\n",
       "    <tr>\n",
       "      <th>PSP</th>\n",
       "      <td>-1.0969</td>\n",
       "    </tr>\n",
       "    <tr>\n",
       "      <th>BWX</th>\n",
       "      <td>-1.2720</td>\n",
       "    </tr>\n",
       "    <tr>\n",
       "      <th>QAI</th>\n",
       "      <td>-2.7065</td>\n",
       "    </tr>\n",
       "  </tbody>\n",
       "</table>\n",
       "</div>"
      ],
      "text/plain": [
       "     Tangent Portfolio Weights\n",
       "SPY                     2.0071\n",
       "TIP                     1.8684\n",
       "HYG                     1.2666\n",
       "IEF                     0.5544\n",
       "EFA                     0.5045\n",
       "EEM                     0.1903\n",
       "DBC                    -0.0848\n",
       "IYR                    -0.2311\n",
       "PSP                    -1.0969\n",
       "BWX                    -1.2720\n",
       "QAI                    -2.7065"
      ]
     },
     "execution_count": 49,
     "metadata": {},
     "output_type": "execute_result"
    }
   ],
   "source": [
    "tangent_port_adjusted_tips = tangency_weights(adjusted_tips_df.mean(),adjusted_tips_df.cov())\n",
    "tangentPort_adjusted_tips_df = pd.DataFrame(tangent_port_adjusted_tips, columns=[\"Tangent Portfolio Weights\"], index=sum_stats_adjusted_tips.index).sort_values('Tangent Portfolio Weights', ascending=False)\n",
    "tangentPort_adjusted_tips_df"
   ]
  },
  {
   "cell_type": "code",
   "execution_count": 51,
   "id": "c81420b8",
   "metadata": {},
   "outputs": [
    {
     "data": {
      "text/html": [
       "<div>\n",
       "<style scoped>\n",
       "    .dataframe tbody tr th:only-of-type {\n",
       "        vertical-align: middle;\n",
       "    }\n",
       "\n",
       "    .dataframe tbody tr th {\n",
       "        vertical-align: top;\n",
       "    }\n",
       "\n",
       "    .dataframe thead th {\n",
       "        text-align: right;\n",
       "    }\n",
       "</style>\n",
       "<table border=\"1\" class=\"dataframe\">\n",
       "  <thead>\n",
       "    <tr style=\"text-align: right;\">\n",
       "      <th></th>\n",
       "      <th>Annualized Return</th>\n",
       "      <th>Annualized Volatility</th>\n",
       "      <th>Annualized Sharpe Ratio</th>\n",
       "    </tr>\n",
       "  </thead>\n",
       "  <tbody>\n",
       "    <tr>\n",
       "      <th>Tangent Portfolio With Adjusted TIPs</th>\n",
       "      <td>0.3312</td>\n",
       "      <td>0.1631</td>\n",
       "      <td>2.0304</td>\n",
       "    </tr>\n",
       "  </tbody>\n",
       "</table>\n",
       "</div>"
      ],
      "text/plain": [
       "                                      Annualized Return  \\\n",
       "Tangent Portfolio With Adjusted TIPs             0.3312   \n",
       "\n",
       "                                      Annualized Volatility  \\\n",
       "Tangent Portfolio With Adjusted TIPs                 0.1631   \n",
       "\n",
       "                                      Annualized Sharpe Ratio  \n",
       "Tangent Portfolio With Adjusted TIPs                   2.0304  "
      ]
     },
     "execution_count": 51,
     "metadata": {},
     "output_type": "execute_result"
    }
   ],
   "source": [
    "tangent_port_adjusted_tips_stats = mvo_performance_stats(adjusted_tips_df.mean(), adjusted_tips_df.cov(), tangent_port_adjusted_tips, 'Tangent Portfolio With Adjusted TIPs',12)\n",
    "tangent_port_adjusted_tips_stats"
   ]
  },
  {
   "cell_type": "code",
   "execution_count": 56,
   "id": "4be94df6",
   "metadata": {},
   "outputs": [
    {
     "data": {
      "text/html": [
       "<div>\n",
       "<style scoped>\n",
       "    .dataframe tbody tr th:only-of-type {\n",
       "        vertical-align: middle;\n",
       "    }\n",
       "\n",
       "    .dataframe tbody tr th {\n",
       "        vertical-align: top;\n",
       "    }\n",
       "\n",
       "    .dataframe thead th {\n",
       "        text-align: right;\n",
       "    }\n",
       "</style>\n",
       "<table border=\"1\" class=\"dataframe\">\n",
       "  <thead>\n",
       "    <tr style=\"text-align: right;\">\n",
       "      <th></th>\n",
       "      <th>Annualized Return</th>\n",
       "      <th>Annualized Volatility</th>\n",
       "      <th>Annualized Sharpe Ratio</th>\n",
       "    </tr>\n",
       "  </thead>\n",
       "  <tbody>\n",
       "    <tr>\n",
       "      <th>Tangent Portfolio Without TIPs</th>\n",
       "      <td>0.3863</td>\n",
       "      <td>0.2001</td>\n",
       "      <td>1.9304</td>\n",
       "    </tr>\n",
       "  </tbody>\n",
       "</table>\n",
       "</div>"
      ],
      "text/plain": [
       "                                Annualized Return  Annualized Volatility  \\\n",
       "Tangent Portfolio Without TIPs             0.3863                 0.2001   \n",
       "\n",
       "                                Annualized Sharpe Ratio  \n",
       "Tangent Portfolio Without TIPs                   1.9304  "
      ]
     },
     "execution_count": 56,
     "metadata": {},
     "output_type": "execute_result"
    }
   ],
   "source": [
    "tangent_port_minus_tips_stats"
   ]
  },
  {
   "cell_type": "code",
   "execution_count": 55,
   "id": "06636041",
   "metadata": {},
   "outputs": [
    {
     "data": {
      "text/html": [
       "<div>\n",
       "<style scoped>\n",
       "    .dataframe tbody tr th:only-of-type {\n",
       "        vertical-align: middle;\n",
       "    }\n",
       "\n",
       "    .dataframe tbody tr th {\n",
       "        vertical-align: top;\n",
       "    }\n",
       "\n",
       "    .dataframe thead th {\n",
       "        text-align: right;\n",
       "    }\n",
       "</style>\n",
       "<table border=\"1\" class=\"dataframe\">\n",
       "  <thead>\n",
       "    <tr style=\"text-align: right;\">\n",
       "      <th></th>\n",
       "      <th>Annualized Return</th>\n",
       "      <th>Annualized Volatility</th>\n",
       "      <th>Annualized Sharpe Ratio</th>\n",
       "    </tr>\n",
       "  </thead>\n",
       "  <tbody>\n",
       "    <tr>\n",
       "      <th>Tangent Portfolio</th>\n",
       "      <td>0.3705</td>\n",
       "      <td>0.1917</td>\n",
       "      <td>1.9328</td>\n",
       "    </tr>\n",
       "  </tbody>\n",
       "</table>\n",
       "</div>"
      ],
      "text/plain": [
       "                   Annualized Return  Annualized Volatility  \\\n",
       "Tangent Portfolio             0.3705                 0.1917   \n",
       "\n",
       "                   Annualized Sharpe Ratio  \n",
       "Tangent Portfolio                   1.9328  "
      ]
     },
     "execution_count": 55,
     "metadata": {},
     "output_type": "execute_result"
    }
   ],
   "source": [
    "tangent_port_stats"
   ]
  },
  {
   "cell_type": "markdown",
   "id": "4efb9d96",
   "metadata": {},
   "source": [
    "Based on the Sharpe Ratios TIPs should be included in the portfolio."
   ]
  },
  {
   "cell_type": "markdown",
   "id": "a8609d16",
   "metadata": {},
   "source": [
    "***"
   ]
  },
  {
   "cell_type": "markdown",
   "id": "c59490d8",
   "metadata": {},
   "source": [
    "# 3. Allocations\n",
    "\n",
    "<i>This section is graded for a good-faith effort by your group. Submit your write-up- along with your supporting code."
   ]
  },
  {
   "cell_type": "markdown",
   "id": "8e5eb238",
   "metadata": {},
   "source": [
    "* Continue with the same data file as the previous section.\n",
    "\n",
    "* Suppose the investor has a targeted mean excess return (per month) of $\\mutarg$ = 0.01."
   ]
  },
  {
   "cell_type": "markdown",
   "id": "1d46b44c",
   "metadata": {},
   "source": [
    "Build the following portfolios:\n",
    "\n",
    "#### Equally-weighted (EW)\n",
    "Rescale the entire weighting vector to have target mean $\\mutarg$. Thus, the $i$ element of the weight vector is,\n",
    "$$\\wEW_i = \\frac{1}{n}$$\n",
    "\n",
    "#### “Risk-parity” (RP)\n",
    "Risk-parity is a term used in a variety of ways, but here we have in mind setting the weight of the portfolio to be proportional to the inverse of its full-sample variance estimate. Thus, the $i$ element of the weight vector is,\n",
    "$$\\wRP_i = \\frac{1}{\\sigma_i^2}$$\n",
    "\n",
    "#### Regularized (REG)\n",
    "Much like the Mean-Variance portfolio, set the weights proportional to \n",
    "$$\\wREG \\sim \\widehat{\\Sigma}^{-1}\\mux$$\n",
    "but this time, use a regularized covariance matrix,\n",
    "$$\\widehat{\\Sigma} = \\frac{\\Sigma + \\Sigma_D}{2}$$\n",
    "where $\\Sigma_D$ denotes a *diagonal* matrix of the security variances, with zeros in the off-diagonals.\n",
    "\n",
    "Thus, $\\widehat{\\Sigma}$ is obtained from the usual covariance matrix, $\\Sigma$, but shrinking all the covariances to half their estimated values. \n",
    "\n",
    "\n",
    "### Comparing\n",
    "\n",
    "In order to compare all these allocation methods, (those above, along with the tangency portfolio obtained in the previous section,) rescale each weight vector, such that it has targeted mean return of $\\mutarg$.\n",
    "\n",
    "* Calculate the performance of each of these portfolios over the sample.\n",
    "* Report their mean, volatility, and Sharpe ratio. \n",
    "* How do these compare across the four allocation methods?"
   ]
  },
  {
   "cell_type": "code",
   "execution_count": 58,
   "id": "85f0471b",
   "metadata": {},
   "outputs": [],
   "source": [
    "target_return = 0.01\n",
    "excess_return_mean = multi_asset_etf_excess_ret.mean()"
   ]
  },
  {
   "cell_type": "markdown",
   "id": "af4e095a",
   "metadata": {},
   "source": [
    "Equally Weighted (EW)"
   ]
  },
  {
   "cell_type": "code",
   "execution_count": 82,
   "id": "dbf8d005",
   "metadata": {},
   "outputs": [
    {
     "data": {
      "text/html": [
       "<div>\n",
       "<style scoped>\n",
       "    .dataframe tbody tr th:only-of-type {\n",
       "        vertical-align: middle;\n",
       "    }\n",
       "\n",
       "    .dataframe tbody tr th {\n",
       "        vertical-align: top;\n",
       "    }\n",
       "\n",
       "    .dataframe thead th {\n",
       "        text-align: right;\n",
       "    }\n",
       "</style>\n",
       "<table border=\"1\" class=\"dataframe\">\n",
       "  <thead>\n",
       "    <tr style=\"text-align: right;\">\n",
       "      <th></th>\n",
       "      <th>Annualized Return</th>\n",
       "      <th>Annualized Volatility</th>\n",
       "      <th>Annualized Sharpe Ratio</th>\n",
       "    </tr>\n",
       "  </thead>\n",
       "  <tbody>\n",
       "    <tr>\n",
       "      <th>Equal Weight Portfolio</th>\n",
       "      <td>0.1200</td>\n",
       "      <td>0.2086</td>\n",
       "      <td>0.5753</td>\n",
       "    </tr>\n",
       "  </tbody>\n",
       "</table>\n",
       "</div>"
      ],
      "text/plain": [
       "                        Annualized Return  Annualized Volatility  \\\n",
       "Equal Weight Portfolio             0.1200                 0.2086   \n",
       "\n",
       "                        Annualized Sharpe Ratio  \n",
       "Equal Weight Portfolio                   0.5753  "
      ]
     },
     "execution_count": 82,
     "metadata": {},
     "output_type": "execute_result"
    }
   ],
   "source": [
    "\n",
    "equalWt = np.array(len(corr_matrix.index) * [1/len(corr_matrix.index)])\n",
    "eql_rescale_factor = target_return/(equalWt.T @ excess_return_mean)\n",
    "\n",
    "equalWt_port_stats = mvo_performance_stats(excess_return_mean, multi_asset_etf_excess_ret.cov(),(equalWt * eql_rescale_factor),'Equal Weight Portfolio',12)\n",
    "equalWt_port_stats"
   ]
  },
  {
   "cell_type": "code",
   "execution_count": 63,
   "id": "215910ad",
   "metadata": {},
   "outputs": [
    {
     "data": {
      "text/plain": [
       "array([0.09090909, 0.09090909, 0.09090909, 0.09090909, 0.09090909,\n",
       "       0.09090909, 0.09090909, 0.09090909, 0.09090909, 0.09090909,\n",
       "       0.09090909])"
      ]
     },
     "execution_count": 63,
     "metadata": {},
     "output_type": "execute_result"
    }
   ],
   "source": [
    "equalWt"
   ]
  },
  {
   "cell_type": "markdown",
   "id": "eed2205f",
   "metadata": {},
   "source": [
    "Risk-Parity (RP)"
   ]
  },
  {
   "cell_type": "code",
   "execution_count": 83,
   "id": "51ec0033",
   "metadata": {},
   "outputs": [
    {
     "data": {
      "text/html": [
       "<div>\n",
       "<style scoped>\n",
       "    .dataframe tbody tr th:only-of-type {\n",
       "        vertical-align: middle;\n",
       "    }\n",
       "\n",
       "    .dataframe tbody tr th {\n",
       "        vertical-align: top;\n",
       "    }\n",
       "\n",
       "    .dataframe thead th {\n",
       "        text-align: right;\n",
       "    }\n",
       "</style>\n",
       "<table border=\"1\" class=\"dataframe\">\n",
       "  <thead>\n",
       "    <tr style=\"text-align: right;\">\n",
       "      <th></th>\n",
       "      <th>Annualized Return</th>\n",
       "      <th>Annualized Volatility</th>\n",
       "      <th>Annualized Sharpe Ratio</th>\n",
       "    </tr>\n",
       "  </thead>\n",
       "  <tbody>\n",
       "    <tr>\n",
       "      <th>Risk Parity Portfolio</th>\n",
       "      <td>0.1200</td>\n",
       "      <td>0.1963</td>\n",
       "      <td>0.6112</td>\n",
       "    </tr>\n",
       "  </tbody>\n",
       "</table>\n",
       "</div>"
      ],
      "text/plain": [
       "                       Annualized Return  Annualized Volatility  \\\n",
       "Risk Parity Portfolio             0.1200                 0.1963   \n",
       "\n",
       "                       Annualized Sharpe Ratio  \n",
       "Risk Parity Portfolio                   0.6112  "
      ]
     },
     "execution_count": 83,
     "metadata": {},
     "output_type": "execute_result"
    }
   ],
   "source": [
    "stats = summary_statistics_annualized(multi_asset_etf_excess_ret)\n",
    "rp_wt = np.array(1/stats['Vol'])\n",
    "rp_rescale_factor = target_return/ (rp_wt.T @ excess_return_mean)\n",
    "\n",
    "risk_parity_stats = mvo_performance_stats(excess_return_mean,multi_asset_etf_excess_ret.cov(),(rp_wt * rp_rescale_factor),'Risk Parity Portfolio',12)\n",
    "risk_parity_stats"
   ]
  },
  {
   "cell_type": "markdown",
   "id": "111da0b5",
   "metadata": {},
   "source": [
    "Regularized (REG)"
   ]
  },
  {
   "cell_type": "code",
   "execution_count": 84,
   "id": "49239a6a",
   "metadata": {},
   "outputs": [
    {
     "data": {
      "text/html": [
       "<div>\n",
       "<style scoped>\n",
       "    .dataframe tbody tr th:only-of-type {\n",
       "        vertical-align: middle;\n",
       "    }\n",
       "\n",
       "    .dataframe tbody tr th {\n",
       "        vertical-align: top;\n",
       "    }\n",
       "\n",
       "    .dataframe thead th {\n",
       "        text-align: right;\n",
       "    }\n",
       "</style>\n",
       "<table border=\"1\" class=\"dataframe\">\n",
       "  <thead>\n",
       "    <tr style=\"text-align: right;\">\n",
       "      <th></th>\n",
       "      <th>Annualized Return</th>\n",
       "      <th>Annualized Volatility</th>\n",
       "      <th>Annualized Sharpe Ratio</th>\n",
       "    </tr>\n",
       "  </thead>\n",
       "  <tbody>\n",
       "    <tr>\n",
       "      <th>Regularized Portfolio</th>\n",
       "      <td>0.1200</td>\n",
       "      <td>0.0868</td>\n",
       "      <td>1.3826</td>\n",
       "    </tr>\n",
       "  </tbody>\n",
       "</table>\n",
       "</div>"
      ],
      "text/plain": [
       "                       Annualized Return  Annualized Volatility  \\\n",
       "Regularized Portfolio             0.1200                 0.0868   \n",
       "\n",
       "                       Annualized Sharpe Ratio  \n",
       "Regularized Portfolio                   1.3826  "
      ]
     },
     "execution_count": 84,
     "metadata": {},
     "output_type": "execute_result"
    }
   ],
   "source": [
    "asset_var = multi_asset_etf_excess_ret.var()\n",
    "reg_cov_matrix = (multi_asset_etf_excess_ret.cov() + np.diag(asset_var))/2\n",
    "reg_wt = np.linalg.inv(reg_cov_matrix).dot(np.array(excess_return_mean))\n",
    "reg_rescale = .12/1.7842\n",
    "\n",
    "regularized_stats = mvo_performance_stats(excess_return_mean, multi_asset_etf_excess_ret.cov(),(reg_wt*reg_rescale),'Regularized Portfolio',12)\n",
    "regularized_stats"
   ]
  },
  {
   "cell_type": "code",
   "execution_count": 76,
   "id": "bc9ae440",
   "metadata": {},
   "outputs": [
    {
     "data": {
      "text/plain": [
       "array([-0.0001536 ,  0.00212029,  0.00540727,  0.00679974,  0.00534736,\n",
       "        0.00118909,  0.01078944,  0.00666152,  0.0015812 ,  0.01197729,\n",
       "        0.00306677])"
      ]
     },
     "execution_count": 76,
     "metadata": {},
     "output_type": "execute_result"
    }
   ],
   "source": [
    "np.array(excess_return_mean)"
   ]
  },
  {
   "cell_type": "markdown",
   "id": "23ea828b",
   "metadata": {},
   "source": [
    "***"
   ]
  },
  {
   "cell_type": "markdown",
   "id": "a2a8443d",
   "metadata": {},
   "source": [
    "# 4. Out-of-Sample Performance\n",
    "\n",
    "<i>This section is not graded, and you do not need to submit it. Still, we may discuss it in class, in which case, you would be expected to know it."
   ]
  },
  {
   "cell_type": "markdown",
   "id": "24e4b25b",
   "metadata": {},
   "source": [
    "## 1. One-step Out-of-Sample (OOS) Performance\n",
    "Let’s divide the sample to both compute a portfolio and then check its performance out of sample.\n",
    "* Using only data through the end of 2021, compute the weights built in Section 3.\n",
    "* Rescale the weights, (using just the in-sample data,) to set each allocation to have the same mean return of $\\mutarg$.\n",
    "* Using those weights, calculate the portfolio’s Sharpe ratio within that sample.\n",
    "* Again using those weights, (derived using data through 2021,) calculate the portfolio’s OOS Sharpe ratio, which is based only on performance in 2022-2023."
   ]
  },
  {
   "cell_type": "markdown",
   "id": "2281c023",
   "metadata": {},
   "source": [
    "## 2. Rolling OOS Performance\n",
    "\n",
    "Iterate the Out-of-Sample performance every year, not just the final year. Namely,\n",
    "* Start at the end of 2014, and calculate the weights through that time. Rescale them using the mean returns through that time.\n",
    "* Apply the weights to the returns in the upcoming year, (2015.)\n",
    "* Step forward a year in time, and recompute.\n",
    "* Continue until again calculating the weights through 2022 and applying them to the returns in 2023.\n",
    "\n",
    "Report the mean, volatility, and Sharpe from this dynamic approach for the following portfolios:\n",
    "* mean-variance (tangency)\n",
    "* equally-weighted\n",
    "* risk-parity\n",
    "* regularized"
   ]
  },
  {
   "cell_type": "markdown",
   "id": "99dc96f3",
   "metadata": {},
   "source": [
    "***"
   ]
  },
  {
   "cell_type": "markdown",
   "id": "665b0cf7",
   "metadata": {},
   "source": [
    "# 5. Without a Riskless Asset\n",
    "\n",
    "<i>This section is not graded, and you do not need to submit it. Still, we may discuss it in class, in which case, you would be expected to know it."
   ]
  },
  {
   "cell_type": "markdown",
   "id": "b8b1ff49",
   "metadata": {},
   "source": [
    "Re-do Section 2 above, but in the model without a risk-free rate.\n",
    "\n",
    "That is, build the MV allocation using the two-part formula in the `Mean-Variance` section of the notes.\n",
    "* This essentially substitutes the risk-free rate with the minimum-variance portfolio.\n",
    "* Now, the allocation depends nonlinearly on the target mean return, $\\mutarg$. (With a risk-free rate, we simply scale the weights up and down to achieve the mean return.)\n",
    "\n",
    "You will find that, conceptually, the answers are very similar. "
   ]
  },
  {
   "cell_type": "markdown",
   "id": "e7d5734f",
   "metadata": {},
   "source": [
    "***"
   ]
  }
 ],
 "metadata": {
  "hide_input": false,
  "kernelspec": {
   "display_name": "Python 3 (ipykernel)",
   "language": "python",
   "name": "python3"
  },
  "language_info": {
   "codemirror_mode": {
    "name": "ipython",
    "version": 3
   },
   "file_extension": ".py",
   "mimetype": "text/x-python",
   "name": "python",
   "nbconvert_exporter": "python",
   "pygments_lexer": "ipython3",
   "version": "3.11.3"
  }
 },
 "nbformat": 4,
 "nbformat_minor": 5
}
