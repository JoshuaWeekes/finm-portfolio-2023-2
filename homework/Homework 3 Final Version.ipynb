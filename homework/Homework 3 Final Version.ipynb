{
 "cells": [
  {
   "cell_type": "markdown",
   "id": "2fc7f9a1",
   "metadata": {},
   "source": [
    "# Homework 3\n",
    "\n",
    "## FINM 36700 - 2023\n",
    "\n",
    "### UChicago Financial Mathematics\n",
    "\n",
    "* Mark Hendricks\n",
    "* hendricks@uchicago.edu\n",
    "\n",
    "## HBS Case\n",
    "\n",
    "### *The Harvard Management Company and Inflation-Indexed Bonds*"
   ]
  },
  {
   "cell_type": "markdown",
   "id": "7e4aa4c1",
   "metadata": {},
   "source": [
    "**IMPORT PACKAGES**"
   ]
  },
  {
   "cell_type": "code",
   "execution_count": 1,
   "id": "9c0ce6c4",
   "metadata": {},
   "outputs": [],
   "source": [
    "import os\n",
    "import pandas as pd\n",
    "from scipy.stats import norm\n",
    "import numpy as np\n",
    "import matplotlib.pyplot as plt\n",
    "from arch import arch_model\n",
    "from arch.univariate import GARCH, EWMAVariance\n",
    "import warnings\n",
    "\n",
    "warnings.filterwarnings('ignore')\n",
    "import_path = os.getcwd() + '/finm-portfolio-2022/'"
   ]
  },
  {
   "cell_type": "markdown",
   "id": "3e6b66d2",
   "metadata": {},
   "source": [
    "**READING DATA**"
   ]
  },
  {
   "cell_type": "code",
   "execution_count": 5,
   "id": "77caf2f3",
   "metadata": {},
   "outputs": [
    {
     "data": {
      "text/html": [
       "<div>\n",
       "<style scoped>\n",
       "    .dataframe tbody tr th:only-of-type {\n",
       "        vertical-align: middle;\n",
       "    }\n",
       "\n",
       "    .dataframe tbody tr th {\n",
       "        vertical-align: top;\n",
       "    }\n",
       "\n",
       "    .dataframe thead th {\n",
       "        text-align: right;\n",
       "    }\n",
       "</style>\n",
       "<table border=\"1\" class=\"dataframe\">\n",
       "  <thead>\n",
       "    <tr style=\"text-align: right;\">\n",
       "      <th></th>\n",
       "      <th>SPX</th>\n",
       "      <th>TB1M</th>\n",
       "      <th>Excess SPY Returns</th>\n",
       "    </tr>\n",
       "    <tr>\n",
       "      <th>date</th>\n",
       "      <th></th>\n",
       "      <th></th>\n",
       "      <th></th>\n",
       "    </tr>\n",
       "  </thead>\n",
       "  <tbody>\n",
       "    <tr>\n",
       "      <th>1926-01-30</th>\n",
       "      <td>-0.001783</td>\n",
       "      <td>0.003061</td>\n",
       "      <td>-0.004844</td>\n",
       "    </tr>\n",
       "    <tr>\n",
       "      <th>1926-02-27</th>\n",
       "      <td>-0.033296</td>\n",
       "      <td>0.002612</td>\n",
       "      <td>-0.035908</td>\n",
       "    </tr>\n",
       "    <tr>\n",
       "      <th>1926-03-31</th>\n",
       "      <td>-0.057708</td>\n",
       "      <td>0.002601</td>\n",
       "      <td>-0.060309</td>\n",
       "    </tr>\n",
       "    <tr>\n",
       "      <th>1926-04-30</th>\n",
       "      <td>0.038522</td>\n",
       "      <td>0.002270</td>\n",
       "      <td>0.036252</td>\n",
       "    </tr>\n",
       "    <tr>\n",
       "      <th>1926-05-28</th>\n",
       "      <td>0.013623</td>\n",
       "      <td>0.002691</td>\n",
       "      <td>0.010932</td>\n",
       "    </tr>\n",
       "    <tr>\n",
       "      <th>...</th>\n",
       "      <td>...</td>\n",
       "      <td>...</td>\n",
       "      <td>...</td>\n",
       "    </tr>\n",
       "    <tr>\n",
       "      <th>2023-04-28</th>\n",
       "      <td>0.015015</td>\n",
       "      <td>0.003475</td>\n",
       "      <td>0.011540</td>\n",
       "    </tr>\n",
       "    <tr>\n",
       "      <th>2023-05-31</th>\n",
       "      <td>0.005306</td>\n",
       "      <td>0.004129</td>\n",
       "      <td>0.001178</td>\n",
       "    </tr>\n",
       "    <tr>\n",
       "      <th>2023-06-30</th>\n",
       "      <td>0.066952</td>\n",
       "      <td>0.004302</td>\n",
       "      <td>0.062650</td>\n",
       "    </tr>\n",
       "    <tr>\n",
       "      <th>2023-07-31</th>\n",
       "      <td>0.031700</td>\n",
       "      <td>0.004442</td>\n",
       "      <td>0.027259</td>\n",
       "    </tr>\n",
       "    <tr>\n",
       "      <th>2023-08-31</th>\n",
       "      <td>-0.015417</td>\n",
       "      <td>0.004463</td>\n",
       "      <td>-0.019880</td>\n",
       "    </tr>\n",
       "  </tbody>\n",
       "</table>\n",
       "<p>1172 rows × 3 columns</p>\n",
       "</div>"
      ],
      "text/plain": [
       "                 SPX      TB1M  Excess SPY Returns\n",
       "date                                              \n",
       "1926-01-30 -0.001783  0.003061           -0.004844\n",
       "1926-02-27 -0.033296  0.002612           -0.035908\n",
       "1926-03-31 -0.057708  0.002601           -0.060309\n",
       "1926-04-30  0.038522  0.002270            0.036252\n",
       "1926-05-28  0.013623  0.002691            0.010932\n",
       "...              ...       ...                 ...\n",
       "2023-04-28  0.015015  0.003475            0.011540\n",
       "2023-05-31  0.005306  0.004129            0.001178\n",
       "2023-06-30  0.066952  0.004302            0.062650\n",
       "2023-07-31  0.031700  0.004442            0.027259\n",
       "2023-08-31 -0.015417  0.004463           -0.019880\n",
       "\n",
       "[1172 rows x 3 columns]"
      ]
     },
     "execution_count": 5,
     "metadata": {},
     "output_type": "execute_result"
    }
   ],
   "source": [
    "import_path = \"..\\data\\\\barnstable_analysis_data.xlsx\"\n",
    "\n",
    "barnstable_data = pd.read_excel(import_path, sheet_name=1)\n",
    "barnstable_data.set_index('date', inplace=True)\n",
    "barnstable_data.fillna(method='ffill', inplace=True)\n",
    "barnstable_data['Excess SPY Returns'] = barnstable_data['SPX'] - barnstable_data['TB1M'] \n",
    "barnstable_data"
   ]
  },
  {
   "cell_type": "markdown",
   "id": "7d483202",
   "metadata": {},
   "source": [
    "# 1. Modeling Volatility and VaR\n",
    "\n",
    "Use the returns on the S&P 500 ($r^M$) and 1-month T-bills, ($r^f$) provided in \"**barnstable analysis data.xlsx**”.\n",
    "\n",
    "For the full sample of SPY returns, 1926-2023, calculate the LEVEL, (not log,) excess market returns (against the treasury returns.) We use this level excess return data throughout this section.\n"
   ]
  },
  {
   "cell_type": "markdown",
   "id": "418ac368",
   "metadata": {},
   "source": [
    "# 1. Historic VaR.\n",
    "\n",
    "\n",
    "Starting at $t = 61$, calculate the historic-based VaR, based on the expanding sample from period 1 (Jan 1926) to $t − 1$. By historic VaR, we mean simply taking the 5th quantile for the historic sample up to time $t − 1$. Of course, a sample size that is not a multiple of 100 will require some interpolation to get a 5th quantile. Your statistical package should handle this fine.\n",
    "\n",
    "Denote this as $\\tilde{r}^{VaR,.05}_{t,historic}$ , which is the best estimate of the $time-t$ VaR based on data through $t−1$.\n",
    "\n",
    "**(a) Plot $\\tilde{r}^{VaR,.05}_{t,historic}$ over time.**\n",
    "\n",
    "**(b) Calculate the frequency of periods in which $\\tilde{r}^t < \\tilde{r}^{VaR,.05}_{t,historic}$**\n",
    "\n",
    "**(c) What drawbacks do you see in this historic VaR?**"
   ]
  },
  {
   "cell_type": "markdown",
   "id": "dfd5b2cf",
   "metadata": {},
   "source": [
    "**SOLUTION:**"
   ]
  },
  {
   "cell_type": "code",
   "execution_count": null,
   "id": "68ab04bd",
   "metadata": {},
   "outputs": [],
   "source": []
  },
  {
   "cell_type": "markdown",
   "id": "0ce81739",
   "metadata": {},
   "source": [
    "# 2. Volatility\n",
    "\n",
    "We will calculate a time-series of volatility estimates using a few different methods. For each, we use $\\sigma_t$ to denote our estimate of the $time-t$ return volatility, as based on data over periods 1 (Jan 1926) through $t − 1$, but not including $t$ itself.\n",
    "\n",
    "* Expanding Series:\n",
    "$$\\sigma^2_{t,expanding} = \\frac{1}{t-1}\\Sigma^{t-1}_{\\tau=1}\\tilde{r}^2_\\tau $$\n",
    "\n",
    "Begin the calculation at $t = 61$, so that the first estimate is based on 60 data points.\n",
    "\n",
    "* Rolling Window:\n",
    "$$\\sigma^2_{t,rolling} = \\frac{1}{m}\\Sigma^{m}_{l=1}\\tilde{r}^2_{t-l} $$\n",
    "\n",
    "Use $m = 60$, and begin the calculation at the t = 61, (so that the calculation has a full 60 data points.)\n",
    "\n",
    "**(a) For each of these three methods, plot $\\sigma_t$. (Plot the vol, not the variance.)**\n",
    "\n",
    "**(b) For each method, calculate the 5th percentile, 1-month-ahead VaR. We use a slight simplification of the normal VaR formula, by dropping $\\mu$ from that formula, and rounding the normal distribution z-score to -1.65.**\n",
    "\n",
    "**(c) For each of these three vol-based VaR estimates, calculate the frequency of periods in which**\n",
    "$\\tilde{r}^t < \\tilde{r}^{VaR,.05}_{t,vol}$\n",
    "\n",
    "**(d) Compare and contrast your results among each other and relative to the historic method in the previous problem.**"
   ]
  },
  {
   "cell_type": "code",
   "execution_count": null,
   "id": "e3d0e21a",
   "metadata": {},
   "outputs": [],
   "source": []
  },
  {
   "cell_type": "code",
   "execution_count": null,
   "id": "975a09b9",
   "metadata": {},
   "outputs": [],
   "source": []
  },
  {
   "cell_type": "code",
   "execution_count": null,
   "id": "b5fed235",
   "metadata": {},
   "outputs": [],
   "source": []
  },
  {
   "cell_type": "markdown",
   "id": "b9c312c8",
   "metadata": {},
   "source": [
    "# 3. CVar\n",
    "\n",
    "Re-do the previous two problems, but this time calculating CVaR instead of VaR, (still for q = .05.) That is, calculate CVaR for\n",
    "\n",
    "* the empirical cdf\n",
    "* the normal model, using expanding volatility estimates \n",
    "* the normal model, using rolling volatility estimates"
   ]
  },
  {
   "cell_type": "code",
   "execution_count": null,
   "id": "30c2b295",
   "metadata": {},
   "outputs": [],
   "source": []
  },
  {
   "cell_type": "code",
   "execution_count": null,
   "id": "bc85f682",
   "metadata": {},
   "outputs": [],
   "source": []
  },
  {
   "cell_type": "markdown",
   "id": "6c6a1a13",
   "metadata": {},
   "source": [
    "# 4. Extra\n",
    "\n",
    "*We may discuss this after Midterm 1, but it is not part of the Midterm 1 material.*\n",
    "\n",
    "For the VaR calculations of Problem 2.2, and 2.3 try using the following models to estimate volatility:\n",
    "* Exponentially Weighted Moving Average (EWMA)\n",
    "\n",
    "$$ \\sigma_{t,EWMA}^2 = \\theta\\sigma_{t-1,EWMA}^2 + (1-\\theta)\\tilde{r}^2_{t-1} $$\n",
    "\n",
    "Rather than estimating $\\theta$, simply use $\\theta = 0.97$, and initialize with $\\sigma_1 = 0.15$.\n",
    "\n",
    "* GARCH(1,1) model.\n",
    "To estimate GARCH(1,1), try using the ARCH package in Python. The default estimation implementation is fine.\n",
    "\n",
    "You should be familiar with EWMA and GARCH from the August Review."
   ]
  },
  {
   "cell_type": "code",
   "execution_count": null,
   "id": "01788b75",
   "metadata": {},
   "outputs": [],
   "source": []
  },
  {
   "cell_type": "code",
   "execution_count": null,
   "id": "fde2161d",
   "metadata": {},
   "outputs": [],
   "source": []
  },
  {
   "cell_type": "code",
   "execution_count": null,
   "id": "374636b2",
   "metadata": {},
   "outputs": [],
   "source": []
  }
 ],
 "metadata": {
  "kernelspec": {
   "display_name": "Python 3 (ipykernel)",
   "language": "python",
   "name": "python3"
  },
  "language_info": {
   "codemirror_mode": {
    "name": "ipython",
    "version": 3
   },
   "file_extension": ".py",
   "mimetype": "text/x-python",
   "name": "python",
   "nbconvert_exporter": "python",
   "pygments_lexer": "ipython3",
   "version": "3.10.9"
  }
 },
 "nbformat": 4,
 "nbformat_minor": 5
}
